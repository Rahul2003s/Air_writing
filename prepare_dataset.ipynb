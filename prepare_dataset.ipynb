{
 "cells": [
  {
   "cell_type": "code",
   "execution_count": 1,
   "metadata": {},
   "outputs": [],
   "source": [
    "import pandas as pd\n",
    "import os"
   ]
  },
  {
   "cell_type": "code",
   "execution_count": 2,
   "metadata": {},
   "outputs": [],
   "source": [
    "dataset='digits'\n",
    "folder = './source'\n",
    "target='number'"
   ]
  },
  {
   "cell_type": "code",
   "execution_count": 3,
   "metadata": {},
   "outputs": [],
   "source": [
    "result = pd.DataFrame()\n",
    "l=list()\n",
    "for file in sorted(os.listdir(folder)):\n",
    "    l.append(\"./source/\"+file)\n",
    "for file in l:\n",
    "    df=pd.read_csv(file)\n",
    "    df.to_csv('data.csv',mode='a',header=None,index=False)"
   ]
  },
  {
   "cell_type": "code",
   "execution_count": 4,
   "metadata": {},
   "outputs": [
    {
     "data": {
      "text/html": [
       "<div>\n",
       "<style scoped>\n",
       "    .dataframe tbody tr th:only-of-type {\n",
       "        vertical-align: middle;\n",
       "    }\n",
       "\n",
       "    .dataframe tbody tr th {\n",
       "        vertical-align: top;\n",
       "    }\n",
       "\n",
       "    .dataframe thead th {\n",
       "        text-align: right;\n",
       "    }\n",
       "</style>\n",
       "<table border=\"1\" class=\"dataframe\">\n",
       "  <thead>\n",
       "    <tr style=\"text-align: right;\">\n",
       "      <th></th>\n",
       "      <th>x-axis</th>\n",
       "      <th>y-axis</th>\n",
       "      <th>z-axis</th>\n",
       "      <th>number</th>\n",
       "    </tr>\n",
       "  </thead>\n",
       "  <tbody>\n",
       "    <tr>\n",
       "      <th>0</th>\n",
       "      <td>1.569064</td>\n",
       "      <td>1.019892</td>\n",
       "      <td>10.355822</td>\n",
       "      <td>0</td>\n",
       "    </tr>\n",
       "    <tr>\n",
       "      <th>1</th>\n",
       "      <td>-1.216025</td>\n",
       "      <td>-1.647517</td>\n",
       "      <td>14.082349</td>\n",
       "      <td>0</td>\n",
       "    </tr>\n",
       "    <tr>\n",
       "      <th>2</th>\n",
       "      <td>-2.588956</td>\n",
       "      <td>-3.020448</td>\n",
       "      <td>14.239256</td>\n",
       "      <td>0</td>\n",
       "    </tr>\n",
       "    <tr>\n",
       "      <th>3</th>\n",
       "      <td>-4.354153</td>\n",
       "      <td>-3.491167</td>\n",
       "      <td>15.063014</td>\n",
       "      <td>0</td>\n",
       "    </tr>\n",
       "    <tr>\n",
       "      <th>4</th>\n",
       "      <td>-4.040340</td>\n",
       "      <td>-3.491167</td>\n",
       "      <td>14.278482</td>\n",
       "      <td>0</td>\n",
       "    </tr>\n",
       "    <tr>\n",
       "      <th>...</th>\n",
       "      <td>...</td>\n",
       "      <td>...</td>\n",
       "      <td>...</td>\n",
       "      <td>...</td>\n",
       "    </tr>\n",
       "    <tr>\n",
       "      <th>1130123</th>\n",
       "      <td>-3.373488</td>\n",
       "      <td>-0.470719</td>\n",
       "      <td>8.159133</td>\n",
       "      <td>9</td>\n",
       "    </tr>\n",
       "    <tr>\n",
       "      <th>1130124</th>\n",
       "      <td>-3.451941</td>\n",
       "      <td>-0.392266</td>\n",
       "      <td>8.002226</td>\n",
       "      <td>9</td>\n",
       "    </tr>\n",
       "    <tr>\n",
       "      <th>1130125</th>\n",
       "      <td>-3.608847</td>\n",
       "      <td>-0.274586</td>\n",
       "      <td>8.394492</td>\n",
       "      <td>9</td>\n",
       "    </tr>\n",
       "    <tr>\n",
       "      <th>1130126</th>\n",
       "      <td>-3.844207</td>\n",
       "      <td>-0.313813</td>\n",
       "      <td>8.472946</td>\n",
       "      <td>9</td>\n",
       "    </tr>\n",
       "    <tr>\n",
       "      <th>1130127</th>\n",
       "      <td>-3.804980</td>\n",
       "      <td>-0.156906</td>\n",
       "      <td>8.551399</td>\n",
       "      <td>9</td>\n",
       "    </tr>\n",
       "  </tbody>\n",
       "</table>\n",
       "<p>1130128 rows × 4 columns</p>\n",
       "</div>"
      ],
      "text/plain": [
       "           x-axis    y-axis     z-axis  number\n",
       "0        1.569064  1.019892  10.355822       0\n",
       "1       -1.216025 -1.647517  14.082349       0\n",
       "2       -2.588956 -3.020448  14.239256       0\n",
       "3       -4.354153 -3.491167  15.063014       0\n",
       "4       -4.040340 -3.491167  14.278482       0\n",
       "...           ...       ...        ...     ...\n",
       "1130123 -3.373488 -0.470719   8.159133       9\n",
       "1130124 -3.451941 -0.392266   8.002226       9\n",
       "1130125 -3.608847 -0.274586   8.394492       9\n",
       "1130126 -3.844207 -0.313813   8.472946       9\n",
       "1130127 -3.804980 -0.156906   8.551399       9\n",
       "\n",
       "[1130128 rows x 4 columns]"
      ]
     },
     "execution_count": 4,
     "metadata": {},
     "output_type": "execute_result"
    }
   ],
   "source": [
    "df=pd.read_csv('data.csv')\n",
    "df.columns=['x-axis','y-axis','z-axis','number']\n",
    "df"
   ]
  },
  {
   "cell_type": "code",
   "execution_count": 5,
   "metadata": {},
   "outputs": [],
   "source": [
    "df.to_csv('data.csv',index=False)"
   ]
  }
 ],
 "metadata": {
  "kernelspec": {
   "display_name": "Python 3",
   "language": "python",
   "name": "python3"
  },
  "language_info": {
   "codemirror_mode": {
    "name": "ipython",
    "version": 3
   },
   "file_extension": ".py",
   "mimetype": "text/x-python",
   "name": "python",
   "nbconvert_exporter": "python",
   "pygments_lexer": "ipython3",
   "version": "3.10.9 (main, Dec 15 2022, 10:44:50) [Clang 14.0.0 (clang-1400.0.29.202)]"
  },
  "orig_nbformat": 4,
  "vscode": {
   "interpreter": {
    "hash": "b0fa6594d8f4cbf19f97940f81e996739fb7646882a419484c72d19e05852a7e"
   }
  }
 },
 "nbformat": 4,
 "nbformat_minor": 2
}
