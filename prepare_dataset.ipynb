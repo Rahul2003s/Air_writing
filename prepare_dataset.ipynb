{
 "cells": [
  {
   "cell_type": "code",
   "execution_count": 1,
   "metadata": {},
   "outputs": [],
   "source": [
    "import pandas as pd\n",
    "import os"
   ]
  },
  {
   "cell_type": "code",
   "execution_count": 2,
   "metadata": {},
   "outputs": [],
   "source": [
    "dataset='digits'\n",
    "folder = './source'\n",
    "target='number'"
   ]
  },
  {
   "cell_type": "code",
   "execution_count": 3,
   "metadata": {},
   "outputs": [],
   "source": [
    "result = pd.DataFrame()\n",
    "l=list()\n",
    "for file in sorted(os.listdir(folder)):\n",
    "    l.append(\"./source/\"+file)\n",
    "for file in l:\n",
    "    df=pd.read_csv(file)\n",
    "    df.to_csv('data.csv',mode='a',header=None,index=False)"
   ]
  },
  {
   "cell_type": "code",
   "execution_count": 4,
   "metadata": {},
   "outputs": [
    {
     "data": {
      "text/html": [
       "<div>\n",
       "<style scoped>\n",
       "    .dataframe tbody tr th:only-of-type {\n",
       "        vertical-align: middle;\n",
       "    }\n",
       "\n",
       "    .dataframe tbody tr th {\n",
       "        vertical-align: top;\n",
       "    }\n",
       "\n",
       "    .dataframe thead th {\n",
       "        text-align: right;\n",
       "    }\n",
       "</style>\n",
       "<table border=\"1\" class=\"dataframe\">\n",
       "  <thead>\n",
       "    <tr style=\"text-align: right;\">\n",
       "      <th></th>\n",
       "      <th>x-axis</th>\n",
       "      <th>y-axis</th>\n",
       "      <th>z-axis</th>\n",
       "      <th>number</th>\n",
       "    </tr>\n",
       "  </thead>\n",
       "  <tbody>\n",
       "    <tr>\n",
       "      <th>0</th>\n",
       "      <td>1.569064</td>\n",
       "      <td>1.019892</td>\n",
       "      <td>10.355822</td>\n",
       "      <td>0</td>\n",
       "    </tr>\n",
       "    <tr>\n",
       "      <th>1</th>\n",
       "      <td>-1.216025</td>\n",
       "      <td>-1.647517</td>\n",
       "      <td>14.082349</td>\n",
       "      <td>0</td>\n",
       "    </tr>\n",
       "    <tr>\n",
       "      <th>2</th>\n",
       "      <td>-2.588956</td>\n",
       "      <td>-3.020448</td>\n",
       "      <td>14.239256</td>\n",
       "      <td>0</td>\n",
       "    </tr>\n",
       "    <tr>\n",
       "      <th>3</th>\n",
       "      <td>-4.354153</td>\n",
       "      <td>-3.491167</td>\n",
       "      <td>15.063014</td>\n",
       "      <td>0</td>\n",
       "    </tr>\n",
       "    <tr>\n",
       "      <th>4</th>\n",
       "      <td>-4.040340</td>\n",
       "      <td>-3.491167</td>\n",
       "      <td>14.278482</td>\n",
       "      <td>0</td>\n",
       "    </tr>\n",
       "    <tr>\n",
       "      <th>...</th>\n",
       "      <td>...</td>\n",
       "      <td>...</td>\n",
       "      <td>...</td>\n",
       "      <td>...</td>\n",
       "    </tr>\n",
       "    <tr>\n",
       "      <th>1214054</th>\n",
       "      <td>-6.707749</td>\n",
       "      <td>-5.962443</td>\n",
       "      <td>2.588956</td>\n",
       "      <td>9</td>\n",
       "    </tr>\n",
       "    <tr>\n",
       "      <th>1214055</th>\n",
       "      <td>-6.864655</td>\n",
       "      <td>-5.962443</td>\n",
       "      <td>2.745862</td>\n",
       "      <td>9</td>\n",
       "    </tr>\n",
       "    <tr>\n",
       "      <th>1214056</th>\n",
       "      <td>-7.100015</td>\n",
       "      <td>-6.237029</td>\n",
       "      <td>2.981222</td>\n",
       "      <td>9</td>\n",
       "    </tr>\n",
       "    <tr>\n",
       "      <th>1214057</th>\n",
       "      <td>-7.178468</td>\n",
       "      <td>-6.472389</td>\n",
       "      <td>3.138128</td>\n",
       "      <td>9</td>\n",
       "    </tr>\n",
       "    <tr>\n",
       "      <th>1214058</th>\n",
       "      <td>-7.374601</td>\n",
       "      <td>-6.629295</td>\n",
       "      <td>3.177355</td>\n",
       "      <td>9</td>\n",
       "    </tr>\n",
       "  </tbody>\n",
       "</table>\n",
       "<p>1214059 rows × 4 columns</p>\n",
       "</div>"
      ],
      "text/plain": [
       "           x-axis    y-axis     z-axis  number\n",
       "0        1.569064  1.019892  10.355822       0\n",
       "1       -1.216025 -1.647517  14.082349       0\n",
       "2       -2.588956 -3.020448  14.239256       0\n",
       "3       -4.354153 -3.491167  15.063014       0\n",
       "4       -4.040340 -3.491167  14.278482       0\n",
       "...           ...       ...        ...     ...\n",
       "1214054 -6.707749 -5.962443   2.588956       9\n",
       "1214055 -6.864655 -5.962443   2.745862       9\n",
       "1214056 -7.100015 -6.237029   2.981222       9\n",
       "1214057 -7.178468 -6.472389   3.138128       9\n",
       "1214058 -7.374601 -6.629295   3.177355       9\n",
       "\n",
       "[1214059 rows x 4 columns]"
      ]
     },
     "execution_count": 4,
     "metadata": {},
     "output_type": "execute_result"
    }
   ],
   "source": [
    "df=pd.read_csv('data.csv')\n",
    "df.columns=['x-axis','y-axis','z-axis','number']\n",
    "df"
   ]
  },
  {
   "cell_type": "code",
   "execution_count": 5,
   "metadata": {},
   "outputs": [],
   "source": [
    "df.to_csv('data.csv',index=False)"
   ]
  }
 ],
 "metadata": {
  "kernelspec": {
   "display_name": "Python 3",
   "language": "python",
   "name": "python3"
  },
  "language_info": {
   "codemirror_mode": {
    "name": "ipython",
    "version": 3
   },
   "file_extension": ".py",
   "mimetype": "text/x-python",
   "name": "python",
   "nbconvert_exporter": "python",
   "pygments_lexer": "ipython3",
   "version": "3.10.9 (main, Dec 15 2022, 10:44:50) [Clang 14.0.0 (clang-1400.0.29.202)]"
  },
  "orig_nbformat": 4,
  "vscode": {
   "interpreter": {
    "hash": "b0fa6594d8f4cbf19f97940f81e996739fb7646882a419484c72d19e05852a7e"
   }
  }
 },
 "nbformat": 4,
 "nbformat_minor": 2
}
