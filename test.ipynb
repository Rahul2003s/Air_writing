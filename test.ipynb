{
 "cells": [
  {
   "cell_type": "code",
   "execution_count": 30,
   "metadata": {},
   "outputs": [],
   "source": [
    "import pandas as pd\n",
    "import numpy as np\n",
    "from keras.models import load_model\n",
    "from tensorflow.keras.optimizers import Adam\n",
    "from tensorflow.keras import Sequential\n",
    "import scipy.stats as stats\n",
    "import time\n",
    "import csv\n",
    "# import busio\n",
    "# import adafruit_adxl34x\n",
    "import math\n"
   ]
  },
  {
   "cell_type": "code",
   "execution_count": 31,
   "metadata": {},
   "outputs": [],
   "source": [
    "fs=20\n",
    "frame_size=fs*10\n",
    "hop_size=fs*2\n",
    "\n",
    "def get_frames(df,frame_size,hop_size):\n",
    "    N_FEATURES=3\n",
    "    frames=[]\n",
    "    lables=[]\n",
    "    for i in range(0,len(df)-frame_size,hop_size):\n",
    "        x=df['x-axis'].values[i: i+frame_size]\n",
    "        y=df['y-axis'].values[i: i+frame_size]\n",
    "        z=df['z-axis'].values[i: i+frame_size]   \n",
    "        \n",
    "        lable = stats.mode(df['number'][i: i+frame_size])[0][0]\n",
    "        frames.append([x,y,z])\n",
    "        lables.append(lable)\n",
    "    frames=np.asarray(frames).reshape(-1,frame_size,N_FEATURES)\n",
    "    lables=np.asarray(lables)\n",
    "    \n",
    "    return frames ,lables"
   ]
  },
  {
   "cell_type": "code",
   "execution_count": 37,
   "metadata": {},
   "outputs": [
    {
     "data": {
      "text/html": [
       "<div>\n",
       "<style scoped>\n",
       "    .dataframe tbody tr th:only-of-type {\n",
       "        vertical-align: middle;\n",
       "    }\n",
       "\n",
       "    .dataframe tbody tr th {\n",
       "        vertical-align: top;\n",
       "    }\n",
       "\n",
       "    .dataframe thead th {\n",
       "        text-align: right;\n",
       "    }\n",
       "</style>\n",
       "<table border=\"1\" class=\"dataframe\">\n",
       "  <thead>\n",
       "    <tr style=\"text-align: right;\">\n",
       "      <th></th>\n",
       "      <th>x-axis</th>\n",
       "      <th>y-axis</th>\n",
       "      <th>z-axis</th>\n",
       "      <th>number</th>\n",
       "    </tr>\n",
       "  </thead>\n",
       "  <tbody>\n",
       "    <tr>\n",
       "      <th>0</th>\n",
       "      <td>5.839575</td>\n",
       "      <td>3.462974</td>\n",
       "      <td>-4.725073</td>\n",
       "      <td>3</td>\n",
       "    </tr>\n",
       "    <tr>\n",
       "      <th>1</th>\n",
       "      <td>6.909759</td>\n",
       "      <td>1.990709</td>\n",
       "      <td>-2.160835</td>\n",
       "      <td>3</td>\n",
       "    </tr>\n",
       "    <tr>\n",
       "      <th>2</th>\n",
       "      <td>8.178706</td>\n",
       "      <td>3.887233</td>\n",
       "      <td>-1.015505</td>\n",
       "      <td>3</td>\n",
       "    </tr>\n",
       "    <tr>\n",
       "      <th>3</th>\n",
       "      <td>8.032903</td>\n",
       "      <td>-0.513226</td>\n",
       "      <td>-1.267771</td>\n",
       "      <td>3</td>\n",
       "    </tr>\n",
       "    <tr>\n",
       "      <th>4</th>\n",
       "      <td>14.695878</td>\n",
       "      <td>-1.371356</td>\n",
       "      <td>-4.767555</td>\n",
       "      <td>3</td>\n",
       "    </tr>\n",
       "    <tr>\n",
       "      <th>...</th>\n",
       "      <td>...</td>\n",
       "      <td>...</td>\n",
       "      <td>...</td>\n",
       "      <td>...</td>\n",
       "    </tr>\n",
       "    <tr>\n",
       "      <th>89994</th>\n",
       "      <td>0.198186</td>\n",
       "      <td>-19.142152</td>\n",
       "      <td>15.008114</td>\n",
       "      <td>3</td>\n",
       "    </tr>\n",
       "    <tr>\n",
       "      <th>89995</th>\n",
       "      <td>-10.358698</td>\n",
       "      <td>1.879607</td>\n",
       "      <td>14.794481</td>\n",
       "      <td>3</td>\n",
       "    </tr>\n",
       "    <tr>\n",
       "      <th>89996</th>\n",
       "      <td>2.820141</td>\n",
       "      <td>-7.553847</td>\n",
       "      <td>-7.744405</td>\n",
       "      <td>3</td>\n",
       "    </tr>\n",
       "    <tr>\n",
       "      <th>89997</th>\n",
       "      <td>-15.877624</td>\n",
       "      <td>-7.054193</td>\n",
       "      <td>-0.982989</td>\n",
       "      <td>3</td>\n",
       "    </tr>\n",
       "    <tr>\n",
       "      <th>89998</th>\n",
       "      <td>-11.847797</td>\n",
       "      <td>0.526985</td>\n",
       "      <td>-9.465095</td>\n",
       "      <td>3</td>\n",
       "    </tr>\n",
       "  </tbody>\n",
       "</table>\n",
       "<p>89999 rows × 4 columns</p>\n",
       "</div>"
      ],
      "text/plain": [
       "          x-axis     y-axis     z-axis  number\n",
       "0       5.839575   3.462974  -4.725073       3\n",
       "1       6.909759   1.990709  -2.160835       3\n",
       "2       8.178706   3.887233  -1.015505       3\n",
       "3       8.032903  -0.513226  -1.267771       3\n",
       "4      14.695878  -1.371356  -4.767555       3\n",
       "...          ...        ...        ...     ...\n",
       "89994   0.198186 -19.142152  15.008114       3\n",
       "89995 -10.358698   1.879607  14.794481       3\n",
       "89996   2.820141  -7.553847  -7.744405       3\n",
       "89997 -15.877624  -7.054193  -0.982989       3\n",
       "89998 -11.847797   0.526985  -9.465095       3\n",
       "\n",
       "[89999 rows x 4 columns]"
      ]
     },
     "execution_count": 37,
     "metadata": {},
     "output_type": "execute_result"
    }
   ],
   "source": [
    "f=pd.read_csv('3.csv')\n",
    "df=pd.DataFrame(f)\n",
    "columns=['x-axis','y-axis','z-axis','number']\n",
    "df.columns=columns\n",
    "df"
   ]
  },
  {
   "cell_type": "code",
   "execution_count": 41,
   "metadata": {},
   "outputs": [
    {
     "name": "stderr",
     "output_type": "stream",
     "text": [
      "/var/folders/tn/c2cbg8n95ws2j0pgvtymb0cc0000gn/T/ipykernel_30943/1563789309.py:14: FutureWarning: Unlike other reduction functions (e.g. `skew`, `kurtosis`), the default behavior of `mode` typically preserves the axis it acts along. In SciPy 1.11.0, this behavior will change: the default value of `keepdims` will become False, the `axis` over which the statistic is taken will be eliminated, and the value None will no longer be accepted. Set `keepdims` to True or False to avoid this warning.\n",
      "  lable = stats.mode(df['number'][i: i+frame_size])[0][0]\n"
     ]
    },
    {
     "data": {
      "text/plain": [
       "(2244, 200, 3, 1)"
      ]
     },
     "execution_count": 41,
     "metadata": {},
     "output_type": "execute_result"
    }
   ],
   "source": [
    "X_x, Y_y = get_frames(df, frame_size, hop_size)\n",
    "s = list(X_x.shape)\n",
    "X_X = X_x.reshape(s[0], s[1], s[2], 1)\n",
    "X_X[:-1].shape"
   ]
  },
  {
   "cell_type": "code",
   "execution_count": 38,
   "metadata": {},
   "outputs": [],
   "source": [
    "model = load_model('model.h5', compile=False)\n",
    "model.compile(optimizer=Adam(learning_rate=0.0005),\n",
    "                  loss='sparse_categorical_crossentropy', metrics=['accuracy'], run_eagerly=True)"
   ]
  },
  {
   "cell_type": "code",
   "execution_count": 40,
   "metadata": {},
   "outputs": [
    {
     "name": "stdout",
     "output_type": "stream",
     "text": [
      "20/20 [==============================] - 0s 16ms/step\n",
      "MAX 0.99953973\n",
      "Predicted values\n",
      " [[2.0296570e-02 3.0474639e-01 1.1792052e-06 ... 2.9272097e-01\n",
      "  1.1506746e-06 3.3293200e-01]\n",
      " [6.8623968e-03 5.8967549e-01 2.5609027e-06 ... 2.8419864e-01\n",
      "  3.1204874e-07 2.3964649e-02]\n",
      " [8.3849188e-03 6.8867594e-02 4.6704314e-05 ... 6.3067472e-01\n",
      "  1.8090819e-07 1.2209103e-03]\n",
      " ...\n",
      " [6.7579746e-01 1.2013047e-14 2.2986564e-03 ... 2.1206986e-03\n",
      "  2.3384038e-03 1.7237720e-07]\n",
      " [4.3809670e-01 1.2788994e-15 5.6642992e-04 ... 3.3383994e-04\n",
      "  5.6594238e-03 2.5819299e-08]\n",
      " [5.6628245e-01 3.7332767e-14 7.5275393e-04 ... 9.0816425e-04\n",
      "  1.5094316e-02 1.5896045e-07]]\n",
      "Predected number is:  0\n"
     ]
    }
   ],
   "source": [
    "p = model.predict(X_X[:-1])\n",
    "a = max((p.max(axis=0)))\n",
    "print(\"MAX\", a)\n",
    "print(\"Predicted values\\n\", p)\n",
    "s = np.where(p == a)  # index of the max\n",
    "l = list(s)\n",
    "print(\"Predected number is: \", int(l[1]))"
   ]
  },
  {
   "cell_type": "code",
   "execution_count": null,
   "metadata": {},
   "outputs": [],
   "source": []
  }
 ],
 "metadata": {
  "kernelspec": {
   "display_name": "base",
   "language": "python",
   "name": "python3"
  },
  "language_info": {
   "codemirror_mode": {
    "name": "ipython",
    "version": 3
   },
   "file_extension": ".py",
   "mimetype": "text/x-python",
   "name": "python",
   "nbconvert_exporter": "python",
   "pygments_lexer": "ipython3",
   "version": "3.9.13 (main, Aug 25 2022, 18:24:45) \n[Clang 12.0.0 ]"
  },
  "orig_nbformat": 4,
  "vscode": {
   "interpreter": {
    "hash": "d7eb90efa10ac2c497c8bcacb4180d38e1cd5214a15a72fd12300310f12ae712"
   }
  }
 },
 "nbformat": 4,
 "nbformat_minor": 2
}
