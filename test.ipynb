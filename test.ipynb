{
 "cells": [
  {
   "cell_type": "code",
   "execution_count": 2,
   "metadata": {},
   "outputs": [],
   "source": [
    "import pandas as pd\n",
    "import numpy as np\n",
    "from keras.models import load_model\n",
    "from tensorflow.keras.optimizers import Adam\n",
    "from tensorflow.keras import Sequential\n",
    "import scipy.stats as stats\n",
    "import time\n",
    "import csv\n",
    "# import busio\n",
    "# import adafruit_adxl34x\n",
    "import math\n"
   ]
  },
  {
   "cell_type": "code",
   "execution_count": 3,
   "metadata": {},
   "outputs": [],
   "source": [
    "fs=20\n",
    "frame_size=fs*10\n",
    "hop_size=fs*2\n",
    "\n",
    "def get_frames(df,frame_size,hop_size):\n",
    "    N_FEATURES=3\n",
    "    frames=[]\n",
    "    lables=[]\n",
    "    for i in range(0,len(df)-frame_size,hop_size):\n",
    "        x=df['x-axis'].values[i: i+frame_size]\n",
    "        y=df['y-axis'].values[i: i+frame_size]\n",
    "        z=df['z-axis'].values[i: i+frame_size]   \n",
    "        \n",
    "        lable = stats.mode(df['number'][i: i+frame_size])[0][0]\n",
    "        frames.append([x,y,z])\n",
    "        lables.append(lable)\n",
    "    frames=np.asarray(frames).reshape(-1,frame_size,N_FEATURES)\n",
    "    lables=np.asarray(lables)\n",
    "    \n",
    "    return frames ,lables"
   ]
  },
  {
   "cell_type": "code",
   "execution_count": null,
   "metadata": {},
   "outputs": [],
   "source": [
    "f=pd.read_csv('train_xyz.csv')\n",
    "df=pd.DataFrame(columns=['x','y','z','target'])\n"
   ]
  }
 ],
 "metadata": {
  "kernelspec": {
   "display_name": "base",
   "language": "python",
   "name": "python3"
  },
  "language_info": {
   "codemirror_mode": {
    "name": "ipython",
    "version": 3
   },
   "file_extension": ".py",
   "mimetype": "text/x-python",
   "name": "python",
   "nbconvert_exporter": "python",
   "pygments_lexer": "ipython3",
   "version": "3.9.13 (main, Aug 25 2022, 18:24:45) \n[Clang 12.0.0 ]"
  },
  "orig_nbformat": 4,
  "vscode": {
   "interpreter": {
    "hash": "d7eb90efa10ac2c497c8bcacb4180d38e1cd5214a15a72fd12300310f12ae712"
   }
  }
 },
 "nbformat": 4,
 "nbformat_minor": 2
}
