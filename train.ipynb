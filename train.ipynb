{
  "cells": [
    {
      "cell_type": "code",
      "execution_count": 4,
      "metadata": {
        "colab": {
          "base_uri": "https://localhost:8080/"
        },
        "id": "WQvW9tS1wdkY",
        "outputId": "7a37ab6e-1847-4801-e4e2-57ab230250f6"
      },
      "outputs": [
        {
          "name": "stdout",
          "output_type": "stream",
          "text": [
            "Mounted at /content/drive\n"
          ]
        }
      ],
      "source": [
        "from google.colab import drive\n",
        "drive.mount('/content/drive')"
      ]
    },
    {
      "cell_type": "code",
      "execution_count": 5,
      "metadata": {
        "id": "UKBtUdOCxfRS"
      },
      "outputs": [],
      "source": [
        "import pandas as pd\n",
        "import numpy as np\n",
        "from sklearn.preprocessing import StandardScaler\n",
        "import scipy.stats as stats\n",
        "from sklearn.model_selection import train_test_split\n",
        "from keras.models import Sequential\n",
        "from tensorflow.keras.layers import Conv2D ,Dropout, Flatten, Dense\n",
        "from tensorflow.keras.optimizers import Adam , RMSprop\n",
        "from tensorflow.keras.callbacks import EarlyStopping\n",
        "import matplotlib.pyplot as plt\n"
      ]
    },
    {
      "cell_type": "code",
      "execution_count": 7,
      "metadata": {
        "id": "-0nZ2hLQdRhK"
      },
      "outputs": [],
      "source": [
        "data=pd.read_csv('/content/drive/MyDrive/air/data.csv')"
      ]
    },
    {
      "cell_type": "code",
      "execution_count": 8,
      "metadata": {
        "colab": {
          "base_uri": "https://localhost:8080/",
          "height": 424
        },
        "id": "KaBADo7Gwdkc",
        "outputId": "db7500ce-e879-4106-b748-483327e73659"
      },
      "outputs": [
        {
          "data": {
            "text/html": [
              "\n",
              "  <div id=\"df-46586b9a-aefe-4687-8115-0a8464c4340e\">\n",
              "    <div class=\"colab-df-container\">\n",
              "      <div>\n",
              "<style scoped>\n",
              "    .dataframe tbody tr th:only-of-type {\n",
              "        vertical-align: middle;\n",
              "    }\n",
              "\n",
              "    .dataframe tbody tr th {\n",
              "        vertical-align: top;\n",
              "    }\n",
              "\n",
              "    .dataframe thead th {\n",
              "        text-align: right;\n",
              "    }\n",
              "</style>\n",
              "<table border=\"1\" class=\"dataframe\">\n",
              "  <thead>\n",
              "    <tr style=\"text-align: right;\">\n",
              "      <th></th>\n",
              "      <th>x-axis</th>\n",
              "      <th>y-axis</th>\n",
              "      <th>z-axis</th>\n",
              "      <th>number</th>\n",
              "    </tr>\n",
              "  </thead>\n",
              "  <tbody>\n",
              "    <tr>\n",
              "      <th>0</th>\n",
              "      <td>1.569064</td>\n",
              "      <td>1.019892</td>\n",
              "      <td>10.355822</td>\n",
              "      <td>0</td>\n",
              "    </tr>\n",
              "    <tr>\n",
              "      <th>1</th>\n",
              "      <td>-1.216025</td>\n",
              "      <td>-1.647517</td>\n",
              "      <td>14.082349</td>\n",
              "      <td>0</td>\n",
              "    </tr>\n",
              "    <tr>\n",
              "      <th>2</th>\n",
              "      <td>-2.588956</td>\n",
              "      <td>-3.020448</td>\n",
              "      <td>14.239256</td>\n",
              "      <td>0</td>\n",
              "    </tr>\n",
              "    <tr>\n",
              "      <th>3</th>\n",
              "      <td>-4.354153</td>\n",
              "      <td>-3.491167</td>\n",
              "      <td>15.063014</td>\n",
              "      <td>0</td>\n",
              "    </tr>\n",
              "    <tr>\n",
              "      <th>4</th>\n",
              "      <td>-4.040340</td>\n",
              "      <td>-3.491167</td>\n",
              "      <td>14.278482</td>\n",
              "      <td>0</td>\n",
              "    </tr>\n",
              "    <tr>\n",
              "      <th>...</th>\n",
              "      <td>...</td>\n",
              "      <td>...</td>\n",
              "      <td>...</td>\n",
              "      <td>...</td>\n",
              "    </tr>\n",
              "    <tr>\n",
              "      <th>1130123</th>\n",
              "      <td>-3.373488</td>\n",
              "      <td>-0.470719</td>\n",
              "      <td>8.159133</td>\n",
              "      <td>9</td>\n",
              "    </tr>\n",
              "    <tr>\n",
              "      <th>1130124</th>\n",
              "      <td>-3.451941</td>\n",
              "      <td>-0.392266</td>\n",
              "      <td>8.002226</td>\n",
              "      <td>9</td>\n",
              "    </tr>\n",
              "    <tr>\n",
              "      <th>1130125</th>\n",
              "      <td>-3.608847</td>\n",
              "      <td>-0.274586</td>\n",
              "      <td>8.394492</td>\n",
              "      <td>9</td>\n",
              "    </tr>\n",
              "    <tr>\n",
              "      <th>1130126</th>\n",
              "      <td>-3.844207</td>\n",
              "      <td>-0.313813</td>\n",
              "      <td>8.472946</td>\n",
              "      <td>9</td>\n",
              "    </tr>\n",
              "    <tr>\n",
              "      <th>1130127</th>\n",
              "      <td>-3.804980</td>\n",
              "      <td>-0.156906</td>\n",
              "      <td>8.551399</td>\n",
              "      <td>9</td>\n",
              "    </tr>\n",
              "  </tbody>\n",
              "</table>\n",
              "<p>1130128 rows × 4 columns</p>\n",
              "</div>\n",
              "      <button class=\"colab-df-convert\" onclick=\"convertToInteractive('df-46586b9a-aefe-4687-8115-0a8464c4340e')\"\n",
              "              title=\"Convert this dataframe to an interactive table.\"\n",
              "              style=\"display:none;\">\n",
              "        \n",
              "  <svg xmlns=\"http://www.w3.org/2000/svg\" height=\"24px\"viewBox=\"0 0 24 24\"\n",
              "       width=\"24px\">\n",
              "    <path d=\"M0 0h24v24H0V0z\" fill=\"none\"/>\n",
              "    <path d=\"M18.56 5.44l.94 2.06.94-2.06 2.06-.94-2.06-.94-.94-2.06-.94 2.06-2.06.94zm-11 1L8.5 8.5l.94-2.06 2.06-.94-2.06-.94L8.5 2.5l-.94 2.06-2.06.94zm10 10l.94 2.06.94-2.06 2.06-.94-2.06-.94-.94-2.06-.94 2.06-2.06.94z\"/><path d=\"M17.41 7.96l-1.37-1.37c-.4-.4-.92-.59-1.43-.59-.52 0-1.04.2-1.43.59L10.3 9.45l-7.72 7.72c-.78.78-.78 2.05 0 2.83L4 21.41c.39.39.9.59 1.41.59.51 0 1.02-.2 1.41-.59l7.78-7.78 2.81-2.81c.8-.78.8-2.07 0-2.86zM5.41 20L4 18.59l7.72-7.72 1.47 1.35L5.41 20z\"/>\n",
              "  </svg>\n",
              "      </button>\n",
              "      \n",
              "  <style>\n",
              "    .colab-df-container {\n",
              "      display:flex;\n",
              "      flex-wrap:wrap;\n",
              "      gap: 12px;\n",
              "    }\n",
              "\n",
              "    .colab-df-convert {\n",
              "      background-color: #E8F0FE;\n",
              "      border: none;\n",
              "      border-radius: 50%;\n",
              "      cursor: pointer;\n",
              "      display: none;\n",
              "      fill: #1967D2;\n",
              "      height: 32px;\n",
              "      padding: 0 0 0 0;\n",
              "      width: 32px;\n",
              "    }\n",
              "\n",
              "    .colab-df-convert:hover {\n",
              "      background-color: #E2EBFA;\n",
              "      box-shadow: 0px 1px 2px rgba(60, 64, 67, 0.3), 0px 1px 3px 1px rgba(60, 64, 67, 0.15);\n",
              "      fill: #174EA6;\n",
              "    }\n",
              "\n",
              "    [theme=dark] .colab-df-convert {\n",
              "      background-color: #3B4455;\n",
              "      fill: #D2E3FC;\n",
              "    }\n",
              "\n",
              "    [theme=dark] .colab-df-convert:hover {\n",
              "      background-color: #434B5C;\n",
              "      box-shadow: 0px 1px 3px 1px rgba(0, 0, 0, 0.15);\n",
              "      filter: drop-shadow(0px 1px 2px rgba(0, 0, 0, 0.3));\n",
              "      fill: #FFFFFF;\n",
              "    }\n",
              "  </style>\n",
              "\n",
              "      <script>\n",
              "        const buttonEl =\n",
              "          document.querySelector('#df-46586b9a-aefe-4687-8115-0a8464c4340e button.colab-df-convert');\n",
              "        buttonEl.style.display =\n",
              "          google.colab.kernel.accessAllowed ? 'block' : 'none';\n",
              "\n",
              "        async function convertToInteractive(key) {\n",
              "          const element = document.querySelector('#df-46586b9a-aefe-4687-8115-0a8464c4340e');\n",
              "          const dataTable =\n",
              "            await google.colab.kernel.invokeFunction('convertToInteractive',\n",
              "                                                     [key], {});\n",
              "          if (!dataTable) return;\n",
              "\n",
              "          const docLinkHtml = 'Like what you see? Visit the ' +\n",
              "            '<a target=\"_blank\" href=https://colab.research.google.com/notebooks/data_table.ipynb>data table notebook</a>'\n",
              "            + ' to learn more about interactive tables.';\n",
              "          element.innerHTML = '';\n",
              "          dataTable['output_type'] = 'display_data';\n",
              "          await google.colab.output.renderOutput(dataTable, element);\n",
              "          const docLink = document.createElement('div');\n",
              "          docLink.innerHTML = docLinkHtml;\n",
              "          element.appendChild(docLink);\n",
              "        }\n",
              "      </script>\n",
              "    </div>\n",
              "  </div>\n",
              "  "
            ],
            "text/plain": [
              "           x-axis    y-axis     z-axis  number\n",
              "0        1.569064  1.019892  10.355822       0\n",
              "1       -1.216025 -1.647517  14.082349       0\n",
              "2       -2.588956 -3.020448  14.239256       0\n",
              "3       -4.354153 -3.491167  15.063014       0\n",
              "4       -4.040340 -3.491167  14.278482       0\n",
              "...           ...       ...        ...     ...\n",
              "1130123 -3.373488 -0.470719   8.159133       9\n",
              "1130124 -3.451941 -0.392266   8.002226       9\n",
              "1130125 -3.608847 -0.274586   8.394492       9\n",
              "1130126 -3.844207 -0.313813   8.472946       9\n",
              "1130127 -3.804980 -0.156906   8.551399       9\n",
              "\n",
              "[1130128 rows x 4 columns]"
            ]
          },
          "execution_count": 8,
          "metadata": {},
          "output_type": "execute_result"
        }
      ],
      "source": [
        "df=pd.DataFrame(data)\n",
        "df"
      ]
    },
    {
      "cell_type": "code",
      "execution_count": 9,
      "metadata": {
        "colab": {
          "base_uri": "https://localhost:8080/"
        },
        "id": "bTpAOO8lwdkc",
        "outputId": "3b3e832d-ffdd-43a7-bde6-cd309c11b935"
      },
      "outputs": [
        {
          "data": {
            "text/plain": [
              "4    119923\n",
              "3    119888\n",
              "2    119564\n",
              "0    119493\n",
              "1    119103\n",
              "5    106590\n",
              "9    106569\n",
              "8    106549\n",
              "6    106236\n",
              "7    106213\n",
              "Name: number, dtype: int64"
            ]
          },
          "execution_count": 9,
          "metadata": {},
          "output_type": "execute_result"
        }
      ],
      "source": [
        "df['number'].value_counts()"
      ]
    },
    {
      "cell_type": "markdown",
      "metadata": {
        "id": "uZfIIhq5wdkd"
      },
      "source": [
        "## Standardized data"
      ]
    },
    {
      "cell_type": "code",
      "execution_count": 10,
      "metadata": {
        "id": "yg7pWQetwdkf"
      },
      "outputs": [],
      "source": [
        "x=df[['x-axis','y-axis','z-axis']]\n",
        "y=df['number']\n",
        "scaler=StandardScaler()\n",
        "X=scaler.fit_transform(x)"
      ]
    },
    {
      "cell_type": "code",
      "execution_count": 11,
      "metadata": {
        "colab": {
          "base_uri": "https://localhost:8080/",
          "height": 424
        },
        "id": "u-yKL3uCwdkf",
        "outputId": "e0f8cec0-4aae-4a6c-b0ab-d62cac9ecdd3"
      },
      "outputs": [
        {
          "data": {
            "text/html": [
              "\n",
              "  <div id=\"df-5be8d67a-cf97-42cc-a4ab-452d29d5e453\">\n",
              "    <div class=\"colab-df-container\">\n",
              "      <div>\n",
              "<style scoped>\n",
              "    .dataframe tbody tr th:only-of-type {\n",
              "        vertical-align: middle;\n",
              "    }\n",
              "\n",
              "    .dataframe tbody tr th {\n",
              "        vertical-align: top;\n",
              "    }\n",
              "\n",
              "    .dataframe thead th {\n",
              "        text-align: right;\n",
              "    }\n",
              "</style>\n",
              "<table border=\"1\" class=\"dataframe\">\n",
              "  <thead>\n",
              "    <tr style=\"text-align: right;\">\n",
              "      <th></th>\n",
              "      <th>x-axis</th>\n",
              "      <th>y-axis</th>\n",
              "      <th>z-axis</th>\n",
              "      <th>number</th>\n",
              "    </tr>\n",
              "  </thead>\n",
              "  <tbody>\n",
              "    <tr>\n",
              "      <th>0</th>\n",
              "      <td>0.981135</td>\n",
              "      <td>0.094412</td>\n",
              "      <td>0.618246</td>\n",
              "      <td>0</td>\n",
              "    </tr>\n",
              "    <tr>\n",
              "      <th>1</th>\n",
              "      <td>-0.005268</td>\n",
              "      <td>-0.552226</td>\n",
              "      <td>1.763181</td>\n",
              "      <td>0</td>\n",
              "    </tr>\n",
              "    <tr>\n",
              "      <th>2</th>\n",
              "      <td>-0.491523</td>\n",
              "      <td>-0.885054</td>\n",
              "      <td>1.811389</td>\n",
              "      <td>0</td>\n",
              "    </tr>\n",
              "    <tr>\n",
              "      <th>3</th>\n",
              "      <td>-1.116709</td>\n",
              "      <td>-0.999166</td>\n",
              "      <td>2.064480</td>\n",
              "      <td>0</td>\n",
              "    </tr>\n",
              "    <tr>\n",
              "      <th>4</th>\n",
              "      <td>-1.005565</td>\n",
              "      <td>-0.999166</td>\n",
              "      <td>1.823441</td>\n",
              "      <td>0</td>\n",
              "    </tr>\n",
              "    <tr>\n",
              "      <th>...</th>\n",
              "      <td>...</td>\n",
              "      <td>...</td>\n",
              "      <td>...</td>\n",
              "      <td>...</td>\n",
              "    </tr>\n",
              "    <tr>\n",
              "      <th>1130123</th>\n",
              "      <td>-0.769383</td>\n",
              "      <td>-0.266945</td>\n",
              "      <td>-0.056664</td>\n",
              "      <td>9</td>\n",
              "    </tr>\n",
              "    <tr>\n",
              "      <th>1130124</th>\n",
              "      <td>-0.797169</td>\n",
              "      <td>-0.247926</td>\n",
              "      <td>-0.104872</td>\n",
              "      <td>9</td>\n",
              "    </tr>\n",
              "    <tr>\n",
              "      <th>1130125</th>\n",
              "      <td>-0.852741</td>\n",
              "      <td>-0.219398</td>\n",
              "      <td>0.015648</td>\n",
              "      <td>9</td>\n",
              "    </tr>\n",
              "    <tr>\n",
              "      <th>1130126</th>\n",
              "      <td>-0.936100</td>\n",
              "      <td>-0.228907</td>\n",
              "      <td>0.039752</td>\n",
              "      <td>9</td>\n",
              "    </tr>\n",
              "    <tr>\n",
              "      <th>1130127</th>\n",
              "      <td>-0.922207</td>\n",
              "      <td>-0.190870</td>\n",
              "      <td>0.063856</td>\n",
              "      <td>9</td>\n",
              "    </tr>\n",
              "  </tbody>\n",
              "</table>\n",
              "<p>1130128 rows × 4 columns</p>\n",
              "</div>\n",
              "      <button class=\"colab-df-convert\" onclick=\"convertToInteractive('df-5be8d67a-cf97-42cc-a4ab-452d29d5e453')\"\n",
              "              title=\"Convert this dataframe to an interactive table.\"\n",
              "              style=\"display:none;\">\n",
              "        \n",
              "  <svg xmlns=\"http://www.w3.org/2000/svg\" height=\"24px\"viewBox=\"0 0 24 24\"\n",
              "       width=\"24px\">\n",
              "    <path d=\"M0 0h24v24H0V0z\" fill=\"none\"/>\n",
              "    <path d=\"M18.56 5.44l.94 2.06.94-2.06 2.06-.94-2.06-.94-.94-2.06-.94 2.06-2.06.94zm-11 1L8.5 8.5l.94-2.06 2.06-.94-2.06-.94L8.5 2.5l-.94 2.06-2.06.94zm10 10l.94 2.06.94-2.06 2.06-.94-2.06-.94-.94-2.06-.94 2.06-2.06.94z\"/><path d=\"M17.41 7.96l-1.37-1.37c-.4-.4-.92-.59-1.43-.59-.52 0-1.04.2-1.43.59L10.3 9.45l-7.72 7.72c-.78.78-.78 2.05 0 2.83L4 21.41c.39.39.9.59 1.41.59.51 0 1.02-.2 1.41-.59l7.78-7.78 2.81-2.81c.8-.78.8-2.07 0-2.86zM5.41 20L4 18.59l7.72-7.72 1.47 1.35L5.41 20z\"/>\n",
              "  </svg>\n",
              "      </button>\n",
              "      \n",
              "  <style>\n",
              "    .colab-df-container {\n",
              "      display:flex;\n",
              "      flex-wrap:wrap;\n",
              "      gap: 12px;\n",
              "    }\n",
              "\n",
              "    .colab-df-convert {\n",
              "      background-color: #E8F0FE;\n",
              "      border: none;\n",
              "      border-radius: 50%;\n",
              "      cursor: pointer;\n",
              "      display: none;\n",
              "      fill: #1967D2;\n",
              "      height: 32px;\n",
              "      padding: 0 0 0 0;\n",
              "      width: 32px;\n",
              "    }\n",
              "\n",
              "    .colab-df-convert:hover {\n",
              "      background-color: #E2EBFA;\n",
              "      box-shadow: 0px 1px 2px rgba(60, 64, 67, 0.3), 0px 1px 3px 1px rgba(60, 64, 67, 0.15);\n",
              "      fill: #174EA6;\n",
              "    }\n",
              "\n",
              "    [theme=dark] .colab-df-convert {\n",
              "      background-color: #3B4455;\n",
              "      fill: #D2E3FC;\n",
              "    }\n",
              "\n",
              "    [theme=dark] .colab-df-convert:hover {\n",
              "      background-color: #434B5C;\n",
              "      box-shadow: 0px 1px 3px 1px rgba(0, 0, 0, 0.15);\n",
              "      filter: drop-shadow(0px 1px 2px rgba(0, 0, 0, 0.3));\n",
              "      fill: #FFFFFF;\n",
              "    }\n",
              "  </style>\n",
              "\n",
              "      <script>\n",
              "        const buttonEl =\n",
              "          document.querySelector('#df-5be8d67a-cf97-42cc-a4ab-452d29d5e453 button.colab-df-convert');\n",
              "        buttonEl.style.display =\n",
              "          google.colab.kernel.accessAllowed ? 'block' : 'none';\n",
              "\n",
              "        async function convertToInteractive(key) {\n",
              "          const element = document.querySelector('#df-5be8d67a-cf97-42cc-a4ab-452d29d5e453');\n",
              "          const dataTable =\n",
              "            await google.colab.kernel.invokeFunction('convertToInteractive',\n",
              "                                                     [key], {});\n",
              "          if (!dataTable) return;\n",
              "\n",
              "          const docLinkHtml = 'Like what you see? Visit the ' +\n",
              "            '<a target=\"_blank\" href=https://colab.research.google.com/notebooks/data_table.ipynb>data table notebook</a>'\n",
              "            + ' to learn more about interactive tables.';\n",
              "          element.innerHTML = '';\n",
              "          dataTable['output_type'] = 'display_data';\n",
              "          await google.colab.output.renderOutput(dataTable, element);\n",
              "          const docLink = document.createElement('div');\n",
              "          docLink.innerHTML = docLinkHtml;\n",
              "          element.appendChild(docLink);\n",
              "        }\n",
              "      </script>\n",
              "    </div>\n",
              "  </div>\n",
              "  "
            ],
            "text/plain": [
              "           x-axis    y-axis    z-axis  number\n",
              "0        0.981135  0.094412  0.618246       0\n",
              "1       -0.005268 -0.552226  1.763181       0\n",
              "2       -0.491523 -0.885054  1.811389       0\n",
              "3       -1.116709 -0.999166  2.064480       0\n",
              "4       -1.005565 -0.999166  1.823441       0\n",
              "...           ...       ...       ...     ...\n",
              "1130123 -0.769383 -0.266945 -0.056664       9\n",
              "1130124 -0.797169 -0.247926 -0.104872       9\n",
              "1130125 -0.852741 -0.219398  0.015648       9\n",
              "1130126 -0.936100 -0.228907  0.039752       9\n",
              "1130127 -0.922207 -0.190870  0.063856       9\n",
              "\n",
              "[1130128 rows x 4 columns]"
            ]
          },
          "execution_count": 11,
          "metadata": {},
          "output_type": "execute_result"
        }
      ],
      "source": [
        "scaled_X=pd.DataFrame(data=X,columns=['x-axis','y-axis','z-axis'])\n",
        "scaled_X['number']=y.values\n",
        "\n",
        "scaled_X"
      ]
    },
    {
      "cell_type": "code",
      "execution_count": 12,
      "metadata": {
        "id": "V5GDH474wdkg"
      },
      "outputs": [],
      "source": [
        "fs=20\n",
        "frame_size=fs*10\n",
        "hop_size=fs*2"
      ]
    },
    {
      "cell_type": "code",
      "execution_count": 13,
      "metadata": {
        "id": "td_U43kAwdkh"
      },
      "outputs": [],
      "source": [
        "def get_frames(df,frame_size,hop_size):\n",
        "    N_FEATURES=3\n",
        "    \n",
        "    frames=[]\n",
        "    lables=[]\n",
        "    for i in range(0,len(df)-frame_size,hop_size):\n",
        "        x=df['x-axis'].values[i: i+frame_size]\n",
        "        y=df['y-axis'].values[i: i+frame_size]\n",
        "        z=df['z-axis'].values[i: i+frame_size]   \n",
        "        \n",
        "        lable = stats.mode(df['number'][i: i+frame_size])[0][0]\n",
        "        frames.append([x,y,z])\n",
        "        lables.append(lable)\n",
        "    frames=np.asarray(frames).reshape(-1,frame_size,N_FEATURES)\n",
        "    lables=np.asarray(lables)\n",
        "    \n",
        "    return frames ,lables"
      ]
    },
    {
      "cell_type": "code",
      "execution_count": 14,
      "metadata": {
        "colab": {
          "base_uri": "https://localhost:8080/"
        },
        "id": "Xbc2_w2Gwdkh",
        "outputId": "dc6dffce-3e21-468f-8906-e8533d69b1a1"
      },
      "outputs": [
        {
          "name": "stderr",
          "output_type": "stream",
          "text": [
            "<ipython-input-13-bba5c3e1c102>:11: FutureWarning: Unlike other reduction functions (e.g. `skew`, `kurtosis`), the default behavior of `mode` typically preserves the axis it acts along. In SciPy 1.11.0, this behavior will change: the default value of `keepdims` will become False, the `axis` over which the statistic is taken will be eliminated, and the value None will no longer be accepted. Set `keepdims` to True or False to avoid this warning.\n",
            "  lable = stats.mode(df['number'][i: i+frame_size])[0][0]\n"
          ]
        }
      ],
      "source": [
        "X_x,Y_y=get_frames(df,frame_size,hop_size)"
      ]
    },
    {
      "cell_type": "code",
      "execution_count": 15,
      "metadata": {
        "colab": {
          "base_uri": "https://localhost:8080/"
        },
        "id": "H_y_6CRuwdkh",
        "outputId": "bd5a5ac9-b3b3-4b95-c79b-2b656d1bf121"
      },
      "outputs": [
        {
          "data": {
            "text/plain": [
              "((28249, 200, 3), (28249,))"
            ]
          },
          "execution_count": 15,
          "metadata": {},
          "output_type": "execute_result"
        }
      ],
      "source": [
        "X_x.shape , Y_y.shape"
      ]
    },
    {
      "cell_type": "code",
      "execution_count": 16,
      "metadata": {
        "id": "I8GTJOZFwdki"
      },
      "outputs": [],
      "source": [
        "X_train , X_test, y_train, y_test = train_test_split(X_x,Y_y,test_size=0.2,random_state=0,stratify=Y_y)"
      ]
    },
    {
      "cell_type": "code",
      "execution_count": 17,
      "metadata": {
        "colab": {
          "base_uri": "https://localhost:8080/"
        },
        "id": "BlQQ2ZmBwdki",
        "outputId": "663fce9c-a9c0-44d1-aee4-d24b15adb390"
      },
      "outputs": [
        {
          "data": {
            "text/plain": [
              "((5650, 200, 3), (22599, 200, 3), (5650,), (22599,))"
            ]
          },
          "execution_count": 17,
          "metadata": {},
          "output_type": "execute_result"
        }
      ],
      "source": [
        "X_test.shape,X_train.shape,y_test.shape,y_train.shape"
      ]
    },
    {
      "cell_type": "code",
      "execution_count": 18,
      "metadata": {
        "id": "P5i4TI-lwdki"
      },
      "outputs": [],
      "source": [
        "X_test= X_test.reshape(5650, 200, 3, 1)\n",
        "X_train=X_train.reshape(22599, 200, 3, 1)"
      ]
    },
    {
      "cell_type": "code",
      "execution_count": 19,
      "metadata": {
        "colab": {
          "base_uri": "https://localhost:8080/"
        },
        "id": "ryUCS0q0wdki",
        "outputId": "efe174df-344b-4846-dc3b-d37f7aa6d840"
      },
      "outputs": [
        {
          "data": {
            "text/plain": [
              "((5650, 200, 3, 1), (22599, 200, 3, 1))"
            ]
          },
          "execution_count": 19,
          "metadata": {},
          "output_type": "execute_result"
        }
      ],
      "source": [
        "X_test.shape,X_train.shape"
      ]
    },
    {
      "attachments": {},
      "cell_type": "markdown",
      "metadata": {
        "id": "crfUYj_Iwdkj"
      },
      "source": [
        "### 2D CNN Model"
      ]
    },
    {
      "cell_type": "code",
      "execution_count": 20,
      "metadata": {
        "id": "WEriRR-Wwdkj"
      },
      "outputs": [],
      "source": [
        "model=Sequential()\n",
        "model.add(Conv2D(16, (2,2), activation = 'relu', input_shape= X_train[0].shape))\n",
        "model.add(Dropout(0.1))\n",
        "\n",
        "model.add(Conv2D(32, (2,2), activation = 'relu'))\n",
        "model.add(Dropout(0.2))\n",
        "\n",
        "model.add(Flatten())\n",
        "\n",
        "model.add(Dense(64, activation='relu'))\n",
        "model.add(Dropout(0.5))\n",
        "\n",
        "model.add(Dense(10, activation='softmax'))"
      ]
    },
    {
      "cell_type": "code",
      "execution_count": 21,
      "metadata": {
        "id": "5gtpM50Jdedq"
      },
      "outputs": [],
      "source": [
        "early_stopping = EarlyStopping(monitor='val_accuracy', \n",
        "    patience=8, \n",
        "    min_delta=0.001, \n",
        "    mode='max')"
      ]
    },
    {
      "cell_type": "code",
      "execution_count": 22,
      "metadata": {
        "id": "cV7oOtNlwdkj"
      },
      "outputs": [],
      "source": [
        "model.compile(optimizer=Adam(learning_rate = 0.0005), loss = 'sparse_categorical_crossentropy', metrics = ['accuracy'], run_eagerly=True)"
      ]
    },
    {
      "cell_type": "code",
      "execution_count": 23,
      "metadata": {
        "colab": {
          "base_uri": "https://localhost:8080/"
        },
        "id": "fqYlKcF-wdkj",
        "outputId": "68bd6afd-e16f-49ef-fff7-06f8ba49d2fe"
      },
      "outputs": [
        {
          "name": "stdout",
          "output_type": "stream",
          "text": [
            "Epoch 1/12\n",
            "22599/22599 [==============================] - 776s 34ms/step - loss: 1.4878 - accuracy: 0.4406 - val_loss: 0.6484 - val_accuracy: 0.8055\n",
            "Epoch 2/12\n",
            "22599/22599 [==============================] - 825s 37ms/step - loss: 0.8910 - accuracy: 0.6796 - val_loss: 0.3485 - val_accuracy: 0.9205\n",
            "Epoch 3/12\n",
            "22599/22599 [==============================] - 827s 37ms/step - loss: 0.7044 - accuracy: 0.7451 - val_loss: 0.2712 - val_accuracy: 0.9412\n",
            "Epoch 4/12\n",
            "22599/22599 [==============================] - 787s 35ms/step - loss: 0.6353 - accuracy: 0.7765 - val_loss: 0.2707 - val_accuracy: 0.9221\n",
            "Epoch 5/12\n",
            "22599/22599 [==============================] - 829s 37ms/step - loss: 0.5994 - accuracy: 0.7878 - val_loss: 0.1996 - val_accuracy: 0.9496\n",
            "Epoch 6/12\n",
            "22599/22599 [==============================] - 792s 35ms/step - loss: 0.5855 - accuracy: 0.7934 - val_loss: 0.1871 - val_accuracy: 0.9513\n",
            "Epoch 7/12\n",
            "22599/22599 [==============================] - 833s 37ms/step - loss: 0.5643 - accuracy: 0.8009 - val_loss: 0.2850 - val_accuracy: 0.9212\n",
            "Epoch 8/12\n",
            "22599/22599 [==============================] - 792s 35ms/step - loss: 0.5569 - accuracy: 0.8036 - val_loss: 0.2009 - val_accuracy: 0.9476\n",
            "Epoch 9/12\n",
            "22599/22599 [==============================] - 832s 37ms/step - loss: 0.5560 - accuracy: 0.8076 - val_loss: 0.1467 - val_accuracy: 0.9609\n",
            "Epoch 10/12\n",
            "22599/22599 [==============================] - 791s 35ms/step - loss: 0.5390 - accuracy: 0.8138 - val_loss: 0.1686 - val_accuracy: 0.9547\n",
            "Epoch 11/12\n",
            "22599/22599 [==============================] - 793s 35ms/step - loss: 0.5343 - accuracy: 0.8130 - val_loss: 0.2367 - val_accuracy: 0.9389\n",
            "Epoch 12/12\n",
            "22599/22599 [==============================] - 831s 37ms/step - loss: 0.5487 - accuracy: 0.8109 - val_loss: 0.2802 - val_accuracy: 0.9411\n"
          ]
        }
      ],
      "source": [
        "history = model.fit(X_train, y_train, epochs = 12, batch_size=1, validation_data= (X_test, y_test),verbose=1,callbacks=[early_stopping])"
      ]
    },
    {
      "cell_type": "code",
      "execution_count": 30,
      "metadata": {
        "colab": {
          "base_uri": "https://localhost:8080/",
          "height": 295
        },
        "id": "b0TLtTjtHy6x",
        "outputId": "fe5fc03d-21b7-4297-d02a-69c42116fb5e"
      },
      "outputs": [
        {
          "data": {
            "image/png": "[encoded data removed]",
            "text/plain": [
              "<Figure size 432x288 with 1 Axes>"
            ]
          },
          "metadata": {
            "needs_background": "light"
          },
          "output_type": "display_data"
        }
      ],
      "source": [
        "plt.plot(history.history['accuracy'])\n",
        "plt.plot(history.history['val_accuracy'])\n",
        "plt.title('model accuracy')\n",
        "plt.ylabel('accuracy')\n",
        "plt.xlabel('epoch')\n",
        "plt.legend(['train', 'val'], loc='upper left')\n",
        "plt.show()"
      ]
    },
    {
      "cell_type": "code",
      "execution_count": 25,
      "metadata": {
        "id": "KzmAXFO-IIeL"
      },
      "outputs": [],
      "source": [
        "model.save('/content/drive/MyDrive/air/air.h5',save_format='h5')\n",
        "# !ls /content/drive/MyDrive/air/"
      ]
    },
    {
      "cell_type": "code",
      "execution_count": 26,
      "metadata": {
        "colab": {
          "base_uri": "https://localhost:8080/",
          "height": 295
        },
        "id": "qe3fnE8LLupD",
        "outputId": "07bd345d-3b55-4da5-c844-0b1d5fac8f70"
      },
      "outputs": [
        {
          "data": {
            "image/png": "[encoded data removed]",
            "text/plain": [
              "<Figure size 432x288 with 1 Axes>"
            ]
          },
          "metadata": {
            "needs_background": "light"
          },
          "output_type": "display_data"
        }
      ],
      "source": [
        "plt.plot(history.history['loss'])\n",
        "plt.plot(history.history['val_loss'])\n",
        "plt.title('model loss')\n",
        "plt.ylabel('loss')\n",
        "plt.xlabel('epoch')\n",
        "plt.legend(['train', 'val'], loc='upper left')\n",
        "plt.show()"
      ]
    },
    {
      "cell_type": "code",
      "execution_count": 27,
      "metadata": {
        "colab": {
          "base_uri": "https://localhost:8080/"
        },
        "id": "Q8dIgCFVcHkX",
        "outputId": "3a0a376c-c43d-44a2-d62a-a37ff46b440e"
      },
      "outputs": [
        {
          "name": "stdout",
          "output_type": "stream",
          "text": [
            "1/1 [==============================] - 0s 21ms/step\n",
            "[[1.5658885e-05 3.9412589e-13 1.4826700e-10 2.1442453e-08 9.9447930e-01\n",
            "  2.0572450e-06 7.1846865e-05 3.3133611e-07 1.0605248e-09 5.4307962e-03]]\n",
            "(array([0]), array([4]))\n"
          ]
        }
      ],
      "source": [
        "p=model.predict(X_test[:1])\n",
        "a=max((p.max(axis=0)))\n",
        "print(p)\n",
        "s=np.where(p==a)#index of the max \n",
        "#print(X_test[:1])\n",
        "print(s)"
      ]
    },
    {
      "cell_type": "code",
      "execution_count": 28,
      "metadata": {
        "colab": {
          "base_uri": "https://localhost:8080/"
        },
        "id": "uREnR_Ia6O9D",
        "outputId": "38c293d1-3ebc-4fd7-8219-c6f0d84c75ee"
      },
      "outputs": [
        {
          "name": "stdout",
          "output_type": "stream",
          "text": [
            "Model: \"sequential\"\n",
            "_________________________________________________________________\n",
            " Layer (type)                Output Shape              Param #   \n",
            "=================================================================\n",
            " conv2d (Conv2D)             (None, 199, 2, 16)        80        \n",
            "                                                                 \n",
            " dropout (Dropout)           (None, 199, 2, 16)        0         \n",
            "                                                                 \n",
            " conv2d_1 (Conv2D)           (None, 198, 1, 32)        2080      \n",
            "                                                                 \n",
            " dropout_1 (Dropout)         (None, 198, 1, 32)        0         \n",
            "                                                                 \n",
            " flatten (Flatten)           (None, 6336)              0         \n",
            "                                                                 \n",
            " dense (Dense)               (None, 64)                405568    \n",
            "                                                                 \n",
            " dropout_2 (Dropout)         (None, 64)                0         \n",
            "                                                                 \n",
            " dense_1 (Dense)             (None, 10)                650       \n",
            "                                                                 \n",
            "=================================================================\n",
            "Total params: 408,378\n",
            "Trainable params: 408,378\n",
            "Non-trainable params: 0\n",
            "_________________________________________________________________\n"
          ]
        }
      ],
      "source": [
        "model.summary()"
      ]
    },
    {
      "cell_type": "code",
      "execution_count": 29,
      "metadata": {
        "colab": {
          "base_uri": "https://localhost:8080/",
          "height": 281
        },
        "id": "r3u2Or042dSq",
        "outputId": "ff1e4f90-e05d-4ccf-e687-95d5fc6a359c"
      },
      "outputs": [
        {
          "data": {
            "image/png": "[encoded data removed]",
            "text/plain": [
              "<Figure size 432x288 with 1 Axes>"
            ]
          },
          "metadata": {
            "needs_background": "light"
          },
          "output_type": "display_data"
        }
      ],
      "source": [
        "for i in range(0,1):\n",
        "  plt.plot(np.arange(0,100),df['x-axis'][df['number'] == i][:100], label='X-axis')\n",
        "  plt.plot(np.arange (0,100),df['y-axis'][df['number'] == i][:100], label='Y-axis')\n",
        "  plt.plot(np.arange (0,100),df['z-axis'][df['number'] == i][:100], label='Z-axis')\n",
        "  plt.title(str(i)+\"Graph\")\n",
        "  plt.legend()"
      ]
    }
  ],
  "metadata": {
    "colab": {
      "provenance": []
    },
    "kernelspec": {
      "display_name": "Python 3",
      "language": "python",
      "name": "python3"
    },
    "language_info": {
      "codemirror_mode": {
        "name": "ipython",
        "version": 3
      },
      "file_extension": ".py",
      "mimetype": "text/x-python",
      "name": "python",
      "nbconvert_exporter": "python",
      "pygments_lexer": "ipython3",
      "version": "3.10.9 (main, Dec 15 2022, 10:44:50) [Clang 14.0.0 (clang-1400.0.29.202)]"
    },
    "vscode": {
      "interpreter": {
        "hash": "b0fa6594d8f4cbf19f97940f81e996739fb7646882a419484c72d19e05852a7e"
      }
    }
  },
  "nbformat": 4,
  "nbformat_minor": 0
}
