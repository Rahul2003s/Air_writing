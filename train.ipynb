{
  "cells": [
    {
      "cell_type": "code",
      "execution_count": null,
      "metadata": {
        "colab": {
          "base_uri": "https://localhost:8080/"
        },
        "id": "WQvW9tS1wdkY",
        "outputId": "d22c1e82-c662-4c6a-dfeb-5ac990197380"
      },
      "outputs": [
        {
          "output_type": "stream",
          "name": "stdout",
          "text": [
            "Mounted at /content/drive\n"
          ]
        }
      ],
      "source": [
        "from google.colab import drive\n",
        "drive.mount('/content/drive')"
      ]
    },
    {
      "cell_type": "code",
      "execution_count": null,
      "metadata": {
        "colab": {
          "base_uri": "https://localhost:8080/",
          "height": 424
        },
        "id": "UKBtUdOCxfRS",
        "outputId": "d719523f-5f0d-4773-e6fe-acd06cd8230a"
      },
      "outputs": [
        {
          "output_type": "execute_result",
          "data": {
            "text/plain": [
              "          x-axis    y-axis     z-axis  number\n",
              "0       1.569064  1.019892  10.355822       0\n",
              "1      -1.216025 -1.647517  14.082349       0\n",
              "2      -2.588956 -3.020448  14.239256       0\n",
              "3      -4.354153 -3.491167  15.063014       0\n",
              "4      -4.040340 -3.491167  14.278482       0\n",
              "...          ...       ...        ...     ...\n",
              "530975 -4.785645  1.686744   7.845320       9\n",
              "530976 -4.824872  1.686744   7.806093       9\n",
              "530977 -4.824872  1.647517   7.923773       9\n",
              "530978 -4.785645  1.647517   7.806093       9\n",
              "530979 -4.864098  1.647517   7.688414       9\n",
              "\n",
              "[530980 rows x 4 columns]"
            ],
            "text/html": [
              "\n",
              "  <div id=\"df-81b032f1-ac62-47d5-8852-bc83700182ca\">\n",
              "    <div class=\"colab-df-container\">\n",
              "      <div>\n",
              "<style scoped>\n",
              "    .dataframe tbody tr th:only-of-type {\n",
              "        vertical-align: middle;\n",
              "    }\n",
              "\n",
              "    .dataframe tbody tr th {\n",
              "        vertical-align: top;\n",
              "    }\n",
              "\n",
              "    .dataframe thead th {\n",
              "        text-align: right;\n",
              "    }\n",
              "</style>\n",
              "<table border=\"1\" class=\"dataframe\">\n",
              "  <thead>\n",
              "    <tr style=\"text-align: right;\">\n",
              "      <th></th>\n",
              "      <th>x-axis</th>\n",
              "      <th>y-axis</th>\n",
              "      <th>z-axis</th>\n",
              "      <th>number</th>\n",
              "    </tr>\n",
              "  </thead>\n",
              "  <tbody>\n",
              "    <tr>\n",
              "      <th>0</th>\n",
              "      <td>1.569064</td>\n",
              "      <td>1.019892</td>\n",
              "      <td>10.355822</td>\n",
              "      <td>0</td>\n",
              "    </tr>\n",
              "    <tr>\n",
              "      <th>1</th>\n",
              "      <td>-1.216025</td>\n",
              "      <td>-1.647517</td>\n",
              "      <td>14.082349</td>\n",
              "      <td>0</td>\n",
              "    </tr>\n",
              "    <tr>\n",
              "      <th>2</th>\n",
              "      <td>-2.588956</td>\n",
              "      <td>-3.020448</td>\n",
              "      <td>14.239256</td>\n",
              "      <td>0</td>\n",
              "    </tr>\n",
              "    <tr>\n",
              "      <th>3</th>\n",
              "      <td>-4.354153</td>\n",
              "      <td>-3.491167</td>\n",
              "      <td>15.063014</td>\n",
              "      <td>0</td>\n",
              "    </tr>\n",
              "    <tr>\n",
              "      <th>4</th>\n",
              "      <td>-4.040340</td>\n",
              "      <td>-3.491167</td>\n",
              "      <td>14.278482</td>\n",
              "      <td>0</td>\n",
              "    </tr>\n",
              "    <tr>\n",
              "      <th>...</th>\n",
              "      <td>...</td>\n",
              "      <td>...</td>\n",
              "      <td>...</td>\n",
              "      <td>...</td>\n",
              "    </tr>\n",
              "    <tr>\n",
              "      <th>530975</th>\n",
              "      <td>-4.785645</td>\n",
              "      <td>1.686744</td>\n",
              "      <td>7.845320</td>\n",
              "      <td>9</td>\n",
              "    </tr>\n",
              "    <tr>\n",
              "      <th>530976</th>\n",
              "      <td>-4.824872</td>\n",
              "      <td>1.686744</td>\n",
              "      <td>7.806093</td>\n",
              "      <td>9</td>\n",
              "    </tr>\n",
              "    <tr>\n",
              "      <th>530977</th>\n",
              "      <td>-4.824872</td>\n",
              "      <td>1.647517</td>\n",
              "      <td>7.923773</td>\n",
              "      <td>9</td>\n",
              "    </tr>\n",
              "    <tr>\n",
              "      <th>530978</th>\n",
              "      <td>-4.785645</td>\n",
              "      <td>1.647517</td>\n",
              "      <td>7.806093</td>\n",
              "      <td>9</td>\n",
              "    </tr>\n",
              "    <tr>\n",
              "      <th>530979</th>\n",
              "      <td>-4.864098</td>\n",
              "      <td>1.647517</td>\n",
              "      <td>7.688414</td>\n",
              "      <td>9</td>\n",
              "    </tr>\n",
              "  </tbody>\n",
              "</table>\n",
              "<p>530980 rows × 4 columns</p>\n",
              "</div>\n",
              "      <button class=\"colab-df-convert\" onclick=\"convertToInteractive('df-81b032f1-ac62-47d5-8852-bc83700182ca')\"\n",
              "              title=\"Convert this dataframe to an interactive table.\"\n",
              "              style=\"display:none;\">\n",
              "        \n",
              "  <svg xmlns=\"http://www.w3.org/2000/svg\" height=\"24px\"viewBox=\"0 0 24 24\"\n",
              "       width=\"24px\">\n",
              "    <path d=\"M0 0h24v24H0V0z\" fill=\"none\"/>\n",
              "    <path d=\"M18.56 5.44l.94 2.06.94-2.06 2.06-.94-2.06-.94-.94-2.06-.94 2.06-2.06.94zm-11 1L8.5 8.5l.94-2.06 2.06-.94-2.06-.94L8.5 2.5l-.94 2.06-2.06.94zm10 10l.94 2.06.94-2.06 2.06-.94-2.06-.94-.94-2.06-.94 2.06-2.06.94z\"/><path d=\"M17.41 7.96l-1.37-1.37c-.4-.4-.92-.59-1.43-.59-.52 0-1.04.2-1.43.59L10.3 9.45l-7.72 7.72c-.78.78-.78 2.05 0 2.83L4 21.41c.39.39.9.59 1.41.59.51 0 1.02-.2 1.41-.59l7.78-7.78 2.81-2.81c.8-.78.8-2.07 0-2.86zM5.41 20L4 18.59l7.72-7.72 1.47 1.35L5.41 20z\"/>\n",
              "  </svg>\n",
              "      </button>\n",
              "      \n",
              "  <style>\n",
              "    .colab-df-container {\n",
              "      display:flex;\n",
              "      flex-wrap:wrap;\n",
              "      gap: 12px;\n",
              "    }\n",
              "\n",
              "    .colab-df-convert {\n",
              "      background-color: #E8F0FE;\n",
              "      border: none;\n",
              "      border-radius: 50%;\n",
              "      cursor: pointer;\n",
              "      display: none;\n",
              "      fill: #1967D2;\n",
              "      height: 32px;\n",
              "      padding: 0 0 0 0;\n",
              "      width: 32px;\n",
              "    }\n",
              "\n",
              "    .colab-df-convert:hover {\n",
              "      background-color: #E2EBFA;\n",
              "      box-shadow: 0px 1px 2px rgba(60, 64, 67, 0.3), 0px 1px 3px 1px rgba(60, 64, 67, 0.15);\n",
              "      fill: #174EA6;\n",
              "    }\n",
              "\n",
              "    [theme=dark] .colab-df-convert {\n",
              "      background-color: #3B4455;\n",
              "      fill: #D2E3FC;\n",
              "    }\n",
              "\n",
              "    [theme=dark] .colab-df-convert:hover {\n",
              "      background-color: #434B5C;\n",
              "      box-shadow: 0px 1px 3px 1px rgba(0, 0, 0, 0.15);\n",
              "      filter: drop-shadow(0px 1px 2px rgba(0, 0, 0, 0.3));\n",
              "      fill: #FFFFFF;\n",
              "    }\n",
              "  </style>\n",
              "\n",
              "      <script>\n",
              "        const buttonEl =\n",
              "          document.querySelector('#df-81b032f1-ac62-47d5-8852-bc83700182ca button.colab-df-convert');\n",
              "        buttonEl.style.display =\n",
              "          google.colab.kernel.accessAllowed ? 'block' : 'none';\n",
              "\n",
              "        async function convertToInteractive(key) {\n",
              "          const element = document.querySelector('#df-81b032f1-ac62-47d5-8852-bc83700182ca');\n",
              "          const dataTable =\n",
              "            await google.colab.kernel.invokeFunction('convertToInteractive',\n",
              "                                                     [key], {});\n",
              "          if (!dataTable) return;\n",
              "\n",
              "          const docLinkHtml = 'Like what you see? Visit the ' +\n",
              "            '<a target=\"_blank\" href=https://colab.research.google.com/notebooks/data_table.ipynb>data table notebook</a>'\n",
              "            + ' to learn more about interactive tables.';\n",
              "          element.innerHTML = '';\n",
              "          dataTable['output_type'] = 'display_data';\n",
              "          await google.colab.output.renderOutput(dataTable, element);\n",
              "          const docLink = document.createElement('div');\n",
              "          docLink.innerHTML = docLinkHtml;\n",
              "          element.appendChild(docLink);\n",
              "        }\n",
              "      </script>\n",
              "    </div>\n",
              "  </div>\n",
              "  "
            ]
          },
          "metadata": {},
          "execution_count": 3
        }
      ],
      "source": [
        "import pandas as pd\n",
        "import numpy as np\n",
        "data=pd.read_csv('/content/drive/MyDrive/air/data_f.csv')\n",
        "data"
      ]
    },
    {
      "cell_type": "code",
      "execution_count": null,
      "metadata": {
        "colab": {
          "base_uri": "https://localhost:8080/",
          "height": 424
        },
        "id": "KaBADo7Gwdkc",
        "outputId": "76ca0dab-a703-4af8-e285-a678b0cd0e89"
      },
      "outputs": [
        {
          "output_type": "execute_result",
          "data": {
            "text/plain": [
              "          x-axis    y-axis     z-axis  number\n",
              "0       1.569064  1.019892  10.355822       0\n",
              "1      -1.216025 -1.647517  14.082349       0\n",
              "2      -2.588956 -3.020448  14.239256       0\n",
              "3      -4.354153 -3.491167  15.063014       0\n",
              "4      -4.040340 -3.491167  14.278482       0\n",
              "...          ...       ...        ...     ...\n",
              "530975 -4.785645  1.686744   7.845320       9\n",
              "530976 -4.824872  1.686744   7.806093       9\n",
              "530977 -4.824872  1.647517   7.923773       9\n",
              "530978 -4.785645  1.647517   7.806093       9\n",
              "530979 -4.864098  1.647517   7.688414       9\n",
              "\n",
              "[530980 rows x 4 columns]"
            ],
            "text/html": [
              "\n",
              "  <div id=\"df-3b1a778b-21c5-4bba-8a9f-543563987d76\">\n",
              "    <div class=\"colab-df-container\">\n",
              "      <div>\n",
              "<style scoped>\n",
              "    .dataframe tbody tr th:only-of-type {\n",
              "        vertical-align: middle;\n",
              "    }\n",
              "\n",
              "    .dataframe tbody tr th {\n",
              "        vertical-align: top;\n",
              "    }\n",
              "\n",
              "    .dataframe thead th {\n",
              "        text-align: right;\n",
              "    }\n",
              "</style>\n",
              "<table border=\"1\" class=\"dataframe\">\n",
              "  <thead>\n",
              "    <tr style=\"text-align: right;\">\n",
              "      <th></th>\n",
              "      <th>x-axis</th>\n",
              "      <th>y-axis</th>\n",
              "      <th>z-axis</th>\n",
              "      <th>number</th>\n",
              "    </tr>\n",
              "  </thead>\n",
              "  <tbody>\n",
              "    <tr>\n",
              "      <th>0</th>\n",
              "      <td>1.569064</td>\n",
              "      <td>1.019892</td>\n",
              "      <td>10.355822</td>\n",
              "      <td>0</td>\n",
              "    </tr>\n",
              "    <tr>\n",
              "      <th>1</th>\n",
              "      <td>-1.216025</td>\n",
              "      <td>-1.647517</td>\n",
              "      <td>14.082349</td>\n",
              "      <td>0</td>\n",
              "    </tr>\n",
              "    <tr>\n",
              "      <th>2</th>\n",
              "      <td>-2.588956</td>\n",
              "      <td>-3.020448</td>\n",
              "      <td>14.239256</td>\n",
              "      <td>0</td>\n",
              "    </tr>\n",
              "    <tr>\n",
              "      <th>3</th>\n",
              "      <td>-4.354153</td>\n",
              "      <td>-3.491167</td>\n",
              "      <td>15.063014</td>\n",
              "      <td>0</td>\n",
              "    </tr>\n",
              "    <tr>\n",
              "      <th>4</th>\n",
              "      <td>-4.040340</td>\n",
              "      <td>-3.491167</td>\n",
              "      <td>14.278482</td>\n",
              "      <td>0</td>\n",
              "    </tr>\n",
              "    <tr>\n",
              "      <th>...</th>\n",
              "      <td>...</td>\n",
              "      <td>...</td>\n",
              "      <td>...</td>\n",
              "      <td>...</td>\n",
              "    </tr>\n",
              "    <tr>\n",
              "      <th>530975</th>\n",
              "      <td>-4.785645</td>\n",
              "      <td>1.686744</td>\n",
              "      <td>7.845320</td>\n",
              "      <td>9</td>\n",
              "    </tr>\n",
              "    <tr>\n",
              "      <th>530976</th>\n",
              "      <td>-4.824872</td>\n",
              "      <td>1.686744</td>\n",
              "      <td>7.806093</td>\n",
              "      <td>9</td>\n",
              "    </tr>\n",
              "    <tr>\n",
              "      <th>530977</th>\n",
              "      <td>-4.824872</td>\n",
              "      <td>1.647517</td>\n",
              "      <td>7.923773</td>\n",
              "      <td>9</td>\n",
              "    </tr>\n",
              "    <tr>\n",
              "      <th>530978</th>\n",
              "      <td>-4.785645</td>\n",
              "      <td>1.647517</td>\n",
              "      <td>7.806093</td>\n",
              "      <td>9</td>\n",
              "    </tr>\n",
              "    <tr>\n",
              "      <th>530979</th>\n",
              "      <td>-4.864098</td>\n",
              "      <td>1.647517</td>\n",
              "      <td>7.688414</td>\n",
              "      <td>9</td>\n",
              "    </tr>\n",
              "  </tbody>\n",
              "</table>\n",
              "<p>530980 rows × 4 columns</p>\n",
              "</div>\n",
              "      <button class=\"colab-df-convert\" onclick=\"convertToInteractive('df-3b1a778b-21c5-4bba-8a9f-543563987d76')\"\n",
              "              title=\"Convert this dataframe to an interactive table.\"\n",
              "              style=\"display:none;\">\n",
              "        \n",
              "  <svg xmlns=\"http://www.w3.org/2000/svg\" height=\"24px\"viewBox=\"0 0 24 24\"\n",
              "       width=\"24px\">\n",
              "    <path d=\"M0 0h24v24H0V0z\" fill=\"none\"/>\n",
              "    <path d=\"M18.56 5.44l.94 2.06.94-2.06 2.06-.94-2.06-.94-.94-2.06-.94 2.06-2.06.94zm-11 1L8.5 8.5l.94-2.06 2.06-.94-2.06-.94L8.5 2.5l-.94 2.06-2.06.94zm10 10l.94 2.06.94-2.06 2.06-.94-2.06-.94-.94-2.06-.94 2.06-2.06.94z\"/><path d=\"M17.41 7.96l-1.37-1.37c-.4-.4-.92-.59-1.43-.59-.52 0-1.04.2-1.43.59L10.3 9.45l-7.72 7.72c-.78.78-.78 2.05 0 2.83L4 21.41c.39.39.9.59 1.41.59.51 0 1.02-.2 1.41-.59l7.78-7.78 2.81-2.81c.8-.78.8-2.07 0-2.86zM5.41 20L4 18.59l7.72-7.72 1.47 1.35L5.41 20z\"/>\n",
              "  </svg>\n",
              "      </button>\n",
              "      \n",
              "  <style>\n",
              "    .colab-df-container {\n",
              "      display:flex;\n",
              "      flex-wrap:wrap;\n",
              "      gap: 12px;\n",
              "    }\n",
              "\n",
              "    .colab-df-convert {\n",
              "      background-color: #E8F0FE;\n",
              "      border: none;\n",
              "      border-radius: 50%;\n",
              "      cursor: pointer;\n",
              "      display: none;\n",
              "      fill: #1967D2;\n",
              "      height: 32px;\n",
              "      padding: 0 0 0 0;\n",
              "      width: 32px;\n",
              "    }\n",
              "\n",
              "    .colab-df-convert:hover {\n",
              "      background-color: #E2EBFA;\n",
              "      box-shadow: 0px 1px 2px rgba(60, 64, 67, 0.3), 0px 1px 3px 1px rgba(60, 64, 67, 0.15);\n",
              "      fill: #174EA6;\n",
              "    }\n",
              "\n",
              "    [theme=dark] .colab-df-convert {\n",
              "      background-color: #3B4455;\n",
              "      fill: #D2E3FC;\n",
              "    }\n",
              "\n",
              "    [theme=dark] .colab-df-convert:hover {\n",
              "      background-color: #434B5C;\n",
              "      box-shadow: 0px 1px 3px 1px rgba(0, 0, 0, 0.15);\n",
              "      filter: drop-shadow(0px 1px 2px rgba(0, 0, 0, 0.3));\n",
              "      fill: #FFFFFF;\n",
              "    }\n",
              "  </style>\n",
              "\n",
              "      <script>\n",
              "        const buttonEl =\n",
              "          document.querySelector('#df-3b1a778b-21c5-4bba-8a9f-543563987d76 button.colab-df-convert');\n",
              "        buttonEl.style.display =\n",
              "          google.colab.kernel.accessAllowed ? 'block' : 'none';\n",
              "\n",
              "        async function convertToInteractive(key) {\n",
              "          const element = document.querySelector('#df-3b1a778b-21c5-4bba-8a9f-543563987d76');\n",
              "          const dataTable =\n",
              "            await google.colab.kernel.invokeFunction('convertToInteractive',\n",
              "                                                     [key], {});\n",
              "          if (!dataTable) return;\n",
              "\n",
              "          const docLinkHtml = 'Like what you see? Visit the ' +\n",
              "            '<a target=\"_blank\" href=https://colab.research.google.com/notebooks/data_table.ipynb>data table notebook</a>'\n",
              "            + ' to learn more about interactive tables.';\n",
              "          element.innerHTML = '';\n",
              "          dataTable['output_type'] = 'display_data';\n",
              "          await google.colab.output.renderOutput(dataTable, element);\n",
              "          const docLink = document.createElement('div');\n",
              "          docLink.innerHTML = docLinkHtml;\n",
              "          element.appendChild(docLink);\n",
              "        }\n",
              "      </script>\n",
              "    </div>\n",
              "  </div>\n",
              "  "
            ]
          },
          "metadata": {},
          "execution_count": 4
        }
      ],
      "source": [
        "df=pd.DataFrame(data)\n",
        "df"
      ]
    },
    {
      "cell_type": "code",
      "execution_count": null,
      "metadata": {
        "colab": {
          "base_uri": "https://localhost:8080/"
        },
        "id": "bTpAOO8lwdkc",
        "outputId": "02a9a29b-fe09-4f37-8ab2-daa2df3deafb"
      },
      "outputs": [
        {
          "data": {
            "text/plain": [
              "5    53278\n",
              "4    53245\n",
              "8    53225\n",
              "3    53208\n",
              "9    53198\n",
              "7    53067\n",
              "6    53024\n",
              "2    52995\n",
              "0    52970\n",
              "1    52770\n",
              "Name: number, dtype: int64"
            ]
          },
          "execution_count": 4,
          "metadata": {},
          "output_type": "execute_result"
        }
      ],
      "source": [
        "df['number'].value_counts()"
      ]
    },
    {
      "cell_type": "markdown",
      "metadata": {
        "id": "uZfIIhq5wdkd"
      },
      "source": [
        "## Standardized data"
      ]
    },
    {
      "cell_type": "code",
      "execution_count": null,
      "metadata": {
        "id": "yg7pWQetwdkf"
      },
      "outputs": [],
      "source": [
        "from sklearn.preprocessing import StandardScaler\n",
        "x=df[['x-axis','y-axis','z-axis']]\n",
        "y=df['number']\n",
        "scaler=StandardScaler()\n",
        "X=scaler.fit_transform(x)"
      ]
    },
    {
      "cell_type": "code",
      "execution_count": null,
      "metadata": {
        "colab": {
          "base_uri": "https://localhost:8080/",
          "height": 424
        },
        "id": "u-yKL3uCwdkf",
        "outputId": "a4668666-1714-4134-be7f-1571a7858f71"
      },
      "outputs": [
        {
          "data": {
            "text/html": [
              "\n",
              "  <div id=\"df-809839c7-4041-472f-b5a9-1e34b9d3fdec\">\n",
              "    <div class=\"colab-df-container\">\n",
              "      <div>\n",
              "<style scoped>\n",
              "    .dataframe tbody tr th:only-of-type {\n",
              "        vertical-align: middle;\n",
              "    }\n",
              "\n",
              "    .dataframe tbody tr th {\n",
              "        vertical-align: top;\n",
              "    }\n",
              "\n",
              "    .dataframe thead th {\n",
              "        text-align: right;\n",
              "    }\n",
              "</style>\n",
              "<table border=\"1\" class=\"dataframe\">\n",
              "  <thead>\n",
              "    <tr style=\"text-align: right;\">\n",
              "      <th></th>\n",
              "      <th>x-axis</th>\n",
              "      <th>y-axis</th>\n",
              "      <th>z-axis</th>\n",
              "      <th>number</th>\n",
              "    </tr>\n",
              "  </thead>\n",
              "  <tbody>\n",
              "    <tr>\n",
              "      <th>0</th>\n",
              "      <td>1.095757</td>\n",
              "      <td>0.014281</td>\n",
              "      <td>0.582334</td>\n",
              "      <td>0</td>\n",
              "    </tr>\n",
              "    <tr>\n",
              "      <th>1</th>\n",
              "      <td>0.062762</td>\n",
              "      <td>-0.628696</td>\n",
              "      <td>1.685685</td>\n",
              "      <td>0</td>\n",
              "    </tr>\n",
              "    <tr>\n",
              "      <th>2</th>\n",
              "      <td>-0.446461</td>\n",
              "      <td>-0.959640</td>\n",
              "      <td>1.732142</td>\n",
              "      <td>0</td>\n",
              "    </tr>\n",
              "    <tr>\n",
              "      <th>3</th>\n",
              "      <td>-1.101176</td>\n",
              "      <td>-1.073106</td>\n",
              "      <td>1.976040</td>\n",
              "      <td>0</td>\n",
              "    </tr>\n",
              "    <tr>\n",
              "      <th>4</th>\n",
              "      <td>-0.984782</td>\n",
              "      <td>-1.073106</td>\n",
              "      <td>1.743756</td>\n",
              "      <td>0</td>\n",
              "    </tr>\n",
              "    <tr>\n",
              "      <th>...</th>\n",
              "      <td>...</td>\n",
              "      <td>...</td>\n",
              "      <td>...</td>\n",
              "      <td>...</td>\n",
              "    </tr>\n",
              "    <tr>\n",
              "      <th>530975</th>\n",
              "      <td>-1.261218</td>\n",
              "      <td>0.175025</td>\n",
              "      <td>-0.160976</td>\n",
              "      <td>9</td>\n",
              "    </tr>\n",
              "    <tr>\n",
              "      <th>530976</th>\n",
              "      <td>-1.275767</td>\n",
              "      <td>0.175025</td>\n",
              "      <td>-0.172590</td>\n",
              "      <td>9</td>\n",
              "    </tr>\n",
              "    <tr>\n",
              "      <th>530977</th>\n",
              "      <td>-1.275767</td>\n",
              "      <td>0.165569</td>\n",
              "      <td>-0.137747</td>\n",
              "      <td>9</td>\n",
              "    </tr>\n",
              "    <tr>\n",
              "      <th>530978</th>\n",
              "      <td>-1.261218</td>\n",
              "      <td>0.165569</td>\n",
              "      <td>-0.172590</td>\n",
              "      <td>9</td>\n",
              "    </tr>\n",
              "    <tr>\n",
              "      <th>530979</th>\n",
              "      <td>-1.290316</td>\n",
              "      <td>0.165569</td>\n",
              "      <td>-0.207432</td>\n",
              "      <td>9</td>\n",
              "    </tr>\n",
              "  </tbody>\n",
              "</table>\n",
              "<p>530980 rows × 4 columns</p>\n",
              "</div>\n",
              "      <button class=\"colab-df-convert\" onclick=\"convertToInteractive('df-809839c7-4041-472f-b5a9-1e34b9d3fdec')\"\n",
              "              title=\"Convert this dataframe to an interactive table.\"\n",
              "              style=\"display:none;\">\n",
              "        \n",
              "  <svg xmlns=\"http://www.w3.org/2000/svg\" height=\"24px\"viewBox=\"0 0 24 24\"\n",
              "       width=\"24px\">\n",
              "    <path d=\"M0 0h24v24H0V0z\" fill=\"none\"/>\n",
              "    <path d=\"M18.56 5.44l.94 2.06.94-2.06 2.06-.94-2.06-.94-.94-2.06-.94 2.06-2.06.94zm-11 1L8.5 8.5l.94-2.06 2.06-.94-2.06-.94L8.5 2.5l-.94 2.06-2.06.94zm10 10l.94 2.06.94-2.06 2.06-.94-2.06-.94-.94-2.06-.94 2.06-2.06.94z\"/><path d=\"M17.41 7.96l-1.37-1.37c-.4-.4-.92-.59-1.43-.59-.52 0-1.04.2-1.43.59L10.3 9.45l-7.72 7.72c-.78.78-.78 2.05 0 2.83L4 21.41c.39.39.9.59 1.41.59.51 0 1.02-.2 1.41-.59l7.78-7.78 2.81-2.81c.8-.78.8-2.07 0-2.86zM5.41 20L4 18.59l7.72-7.72 1.47 1.35L5.41 20z\"/>\n",
              "  </svg>\n",
              "      </button>\n",
              "      \n",
              "  <style>\n",
              "    .colab-df-container {\n",
              "      display:flex;\n",
              "      flex-wrap:wrap;\n",
              "      gap: 12px;\n",
              "    }\n",
              "\n",
              "    .colab-df-convert {\n",
              "      background-color: #E8F0FE;\n",
              "      border: none;\n",
              "      border-radius: 50%;\n",
              "      cursor: pointer;\n",
              "      display: none;\n",
              "      fill: #1967D2;\n",
              "      height: 32px;\n",
              "      padding: 0 0 0 0;\n",
              "      width: 32px;\n",
              "    }\n",
              "\n",
              "    .colab-df-convert:hover {\n",
              "      background-color: #E2EBFA;\n",
              "      box-shadow: 0px 1px 2px rgba(60, 64, 67, 0.3), 0px 1px 3px 1px rgba(60, 64, 67, 0.15);\n",
              "      fill: #174EA6;\n",
              "    }\n",
              "\n",
              "    [theme=dark] .colab-df-convert {\n",
              "      background-color: #3B4455;\n",
              "      fill: #D2E3FC;\n",
              "    }\n",
              "\n",
              "    [theme=dark] .colab-df-convert:hover {\n",
              "      background-color: #434B5C;\n",
              "      box-shadow: 0px 1px 3px 1px rgba(0, 0, 0, 0.15);\n",
              "      filter: drop-shadow(0px 1px 2px rgba(0, 0, 0, 0.3));\n",
              "      fill: #FFFFFF;\n",
              "    }\n",
              "  </style>\n",
              "\n",
              "      <script>\n",
              "        const buttonEl =\n",
              "          document.querySelector('#df-809839c7-4041-472f-b5a9-1e34b9d3fdec button.colab-df-convert');\n",
              "        buttonEl.style.display =\n",
              "          google.colab.kernel.accessAllowed ? 'block' : 'none';\n",
              "\n",
              "        async function convertToInteractive(key) {\n",
              "          const element = document.querySelector('#df-809839c7-4041-472f-b5a9-1e34b9d3fdec');\n",
              "          const dataTable =\n",
              "            await google.colab.kernel.invokeFunction('convertToInteractive',\n",
              "                                                     [key], {});\n",
              "          if (!dataTable) return;\n",
              "\n",
              "          const docLinkHtml = 'Like what you see? Visit the ' +\n",
              "            '<a target=\"_blank\" href=https://colab.research.google.com/notebooks/data_table.ipynb>data table notebook</a>'\n",
              "            + ' to learn more about interactive tables.';\n",
              "          element.innerHTML = '';\n",
              "          dataTable['output_type'] = 'display_data';\n",
              "          await google.colab.output.renderOutput(dataTable, element);\n",
              "          const docLink = document.createElement('div');\n",
              "          docLink.innerHTML = docLinkHtml;\n",
              "          element.appendChild(docLink);\n",
              "        }\n",
              "      </script>\n",
              "    </div>\n",
              "  </div>\n",
              "  "
            ],
            "text/plain": [
              "          x-axis    y-axis    z-axis  number\n",
              "0       1.095757  0.014281  0.582334       0\n",
              "1       0.062762 -0.628696  1.685685       0\n",
              "2      -0.446461 -0.959640  1.732142       0\n",
              "3      -1.101176 -1.073106  1.976040       0\n",
              "4      -0.984782 -1.073106  1.743756       0\n",
              "...          ...       ...       ...     ...\n",
              "530975 -1.261218  0.175025 -0.160976       9\n",
              "530976 -1.275767  0.175025 -0.172590       9\n",
              "530977 -1.275767  0.165569 -0.137747       9\n",
              "530978 -1.261218  0.165569 -0.172590       9\n",
              "530979 -1.290316  0.165569 -0.207432       9\n",
              "\n",
              "[530980 rows x 4 columns]"
            ]
          },
          "execution_count": 6,
          "metadata": {},
          "output_type": "execute_result"
        }
      ],
      "source": [
        "scaled_X=pd.DataFrame(data=X,columns=['x-axis','y-axis','z-axis'])\n",
        "scaled_X['number']=y.values\n",
        "\n",
        "scaled_X"
      ]
    },
    {
      "cell_type": "code",
      "execution_count": null,
      "metadata": {
        "colab": {
          "base_uri": "https://localhost:8080/",
          "height": 424
        },
        "id": "H68eii_lwdkg",
        "outputId": "a8f99cf6-2e4e-4006-bf0e-8bff23775600"
      },
      "outputs": [
        {
          "data": {
            "text/html": [
              "\n",
              "  <div id=\"df-9ec373bb-3962-4bdb-a74a-5c45a88c9625\">\n",
              "    <div class=\"colab-df-container\">\n",
              "      <div>\n",
              "<style scoped>\n",
              "    .dataframe tbody tr th:only-of-type {\n",
              "        vertical-align: middle;\n",
              "    }\n",
              "\n",
              "    .dataframe tbody tr th {\n",
              "        vertical-align: top;\n",
              "    }\n",
              "\n",
              "    .dataframe thead th {\n",
              "        text-align: right;\n",
              "    }\n",
              "</style>\n",
              "<table border=\"1\" class=\"dataframe\">\n",
              "  <thead>\n",
              "    <tr style=\"text-align: right;\">\n",
              "      <th></th>\n",
              "      <th>x-axis</th>\n",
              "      <th>y-axis</th>\n",
              "      <th>z-axis</th>\n",
              "      <th>number</th>\n",
              "    </tr>\n",
              "  </thead>\n",
              "  <tbody>\n",
              "    <tr>\n",
              "      <th>0</th>\n",
              "      <td>1.569064</td>\n",
              "      <td>1.019892</td>\n",
              "      <td>10.355822</td>\n",
              "      <td>0</td>\n",
              "    </tr>\n",
              "    <tr>\n",
              "      <th>1</th>\n",
              "      <td>-1.216025</td>\n",
              "      <td>-1.647517</td>\n",
              "      <td>14.082349</td>\n",
              "      <td>0</td>\n",
              "    </tr>\n",
              "    <tr>\n",
              "      <th>2</th>\n",
              "      <td>-2.588956</td>\n",
              "      <td>-3.020448</td>\n",
              "      <td>14.239256</td>\n",
              "      <td>0</td>\n",
              "    </tr>\n",
              "    <tr>\n",
              "      <th>3</th>\n",
              "      <td>-4.354153</td>\n",
              "      <td>-3.491167</td>\n",
              "      <td>15.063014</td>\n",
              "      <td>0</td>\n",
              "    </tr>\n",
              "    <tr>\n",
              "      <th>4</th>\n",
              "      <td>-4.040340</td>\n",
              "      <td>-3.491167</td>\n",
              "      <td>14.278482</td>\n",
              "      <td>0</td>\n",
              "    </tr>\n",
              "    <tr>\n",
              "      <th>...</th>\n",
              "      <td>...</td>\n",
              "      <td>...</td>\n",
              "      <td>...</td>\n",
              "      <td>...</td>\n",
              "    </tr>\n",
              "    <tr>\n",
              "      <th>530975</th>\n",
              "      <td>-4.785645</td>\n",
              "      <td>1.686744</td>\n",
              "      <td>7.845320</td>\n",
              "      <td>9</td>\n",
              "    </tr>\n",
              "    <tr>\n",
              "      <th>530976</th>\n",
              "      <td>-4.824872</td>\n",
              "      <td>1.686744</td>\n",
              "      <td>7.806093</td>\n",
              "      <td>9</td>\n",
              "    </tr>\n",
              "    <tr>\n",
              "      <th>530977</th>\n",
              "      <td>-4.824872</td>\n",
              "      <td>1.647517</td>\n",
              "      <td>7.923773</td>\n",
              "      <td>9</td>\n",
              "    </tr>\n",
              "    <tr>\n",
              "      <th>530978</th>\n",
              "      <td>-4.785645</td>\n",
              "      <td>1.647517</td>\n",
              "      <td>7.806093</td>\n",
              "      <td>9</td>\n",
              "    </tr>\n",
              "    <tr>\n",
              "      <th>530979</th>\n",
              "      <td>-4.864098</td>\n",
              "      <td>1.647517</td>\n",
              "      <td>7.688414</td>\n",
              "      <td>9</td>\n",
              "    </tr>\n",
              "  </tbody>\n",
              "</table>\n",
              "<p>530980 rows × 4 columns</p>\n",
              "</div>\n",
              "      <button class=\"colab-df-convert\" onclick=\"convertToInteractive('df-9ec373bb-3962-4bdb-a74a-5c45a88c9625')\"\n",
              "              title=\"Convert this dataframe to an interactive table.\"\n",
              "              style=\"display:none;\">\n",
              "        \n",
              "  <svg xmlns=\"http://www.w3.org/2000/svg\" height=\"24px\"viewBox=\"0 0 24 24\"\n",
              "       width=\"24px\">\n",
              "    <path d=\"M0 0h24v24H0V0z\" fill=\"none\"/>\n",
              "    <path d=\"M18.56 5.44l.94 2.06.94-2.06 2.06-.94-2.06-.94-.94-2.06-.94 2.06-2.06.94zm-11 1L8.5 8.5l.94-2.06 2.06-.94-2.06-.94L8.5 2.5l-.94 2.06-2.06.94zm10 10l.94 2.06.94-2.06 2.06-.94-2.06-.94-.94-2.06-.94 2.06-2.06.94z\"/><path d=\"M17.41 7.96l-1.37-1.37c-.4-.4-.92-.59-1.43-.59-.52 0-1.04.2-1.43.59L10.3 9.45l-7.72 7.72c-.78.78-.78 2.05 0 2.83L4 21.41c.39.39.9.59 1.41.59.51 0 1.02-.2 1.41-.59l7.78-7.78 2.81-2.81c.8-.78.8-2.07 0-2.86zM5.41 20L4 18.59l7.72-7.72 1.47 1.35L5.41 20z\"/>\n",
              "  </svg>\n",
              "      </button>\n",
              "      \n",
              "  <style>\n",
              "    .colab-df-container {\n",
              "      display:flex;\n",
              "      flex-wrap:wrap;\n",
              "      gap: 12px;\n",
              "    }\n",
              "\n",
              "    .colab-df-convert {\n",
              "      background-color: #E8F0FE;\n",
              "      border: none;\n",
              "      border-radius: 50%;\n",
              "      cursor: pointer;\n",
              "      display: none;\n",
              "      fill: #1967D2;\n",
              "      height: 32px;\n",
              "      padding: 0 0 0 0;\n",
              "      width: 32px;\n",
              "    }\n",
              "\n",
              "    .colab-df-convert:hover {\n",
              "      background-color: #E2EBFA;\n",
              "      box-shadow: 0px 1px 2px rgba(60, 64, 67, 0.3), 0px 1px 3px 1px rgba(60, 64, 67, 0.15);\n",
              "      fill: #174EA6;\n",
              "    }\n",
              "\n",
              "    [theme=dark] .colab-df-convert {\n",
              "      background-color: #3B4455;\n",
              "      fill: #D2E3FC;\n",
              "    }\n",
              "\n",
              "    [theme=dark] .colab-df-convert:hover {\n",
              "      background-color: #434B5C;\n",
              "      box-shadow: 0px 1px 3px 1px rgba(0, 0, 0, 0.15);\n",
              "      filter: drop-shadow(0px 1px 2px rgba(0, 0, 0, 0.3));\n",
              "      fill: #FFFFFF;\n",
              "    }\n",
              "  </style>\n",
              "\n",
              "      <script>\n",
              "        const buttonEl =\n",
              "          document.querySelector('#df-9ec373bb-3962-4bdb-a74a-5c45a88c9625 button.colab-df-convert');\n",
              "        buttonEl.style.display =\n",
              "          google.colab.kernel.accessAllowed ? 'block' : 'none';\n",
              "\n",
              "        async function convertToInteractive(key) {\n",
              "          const element = document.querySelector('#df-9ec373bb-3962-4bdb-a74a-5c45a88c9625');\n",
              "          const dataTable =\n",
              "            await google.colab.kernel.invokeFunction('convertToInteractive',\n",
              "                                                     [key], {});\n",
              "          if (!dataTable) return;\n",
              "\n",
              "          const docLinkHtml = 'Like what you see? Visit the ' +\n",
              "            '<a target=\"_blank\" href=https://colab.research.google.com/notebooks/data_table.ipynb>data table notebook</a>'\n",
              "            + ' to learn more about interactive tables.';\n",
              "          element.innerHTML = '';\n",
              "          dataTable['output_type'] = 'display_data';\n",
              "          await google.colab.output.renderOutput(dataTable, element);\n",
              "          const docLink = document.createElement('div');\n",
              "          docLink.innerHTML = docLinkHtml;\n",
              "          element.appendChild(docLink);\n",
              "        }\n",
              "      </script>\n",
              "    </div>\n",
              "  </div>\n",
              "  "
            ],
            "text/plain": [
              "          x-axis    y-axis     z-axis  number\n",
              "0       1.569064  1.019892  10.355822       0\n",
              "1      -1.216025 -1.647517  14.082349       0\n",
              "2      -2.588956 -3.020448  14.239256       0\n",
              "3      -4.354153 -3.491167  15.063014       0\n",
              "4      -4.040340 -3.491167  14.278482       0\n",
              "...          ...       ...        ...     ...\n",
              "530975 -4.785645  1.686744   7.845320       9\n",
              "530976 -4.824872  1.686744   7.806093       9\n",
              "530977 -4.824872  1.647517   7.923773       9\n",
              "530978 -4.785645  1.647517   7.806093       9\n",
              "530979 -4.864098  1.647517   7.688414       9\n",
              "\n",
              "[530980 rows x 4 columns]"
            ]
          },
          "execution_count": 7,
          "metadata": {},
          "output_type": "execute_result"
        }
      ],
      "source": [
        "df"
      ]
    },
    {
      "cell_type": "code",
      "execution_count": null,
      "metadata": {
        "id": "aq60ekLKwdkg"
      },
      "outputs": [],
      "source": [
        "import scipy.stats as stats"
      ]
    },
    {
      "cell_type": "code",
      "execution_count": null,
      "metadata": {
        "id": "V5GDH474wdkg"
      },
      "outputs": [],
      "source": [
        "fs=20\n",
        "frame_size=fs*10\n",
        "hop_size=fs*2"
      ]
    },
    {
      "cell_type": "code",
      "execution_count": null,
      "metadata": {
        "id": "td_U43kAwdkh"
      },
      "outputs": [],
      "source": [
        "def get_frames(df,frame_size,hop_size):\n",
        "    N_FEATURES=3\n",
        "    \n",
        "    frames=[]\n",
        "    lables=[]\n",
        "    for i in range(0,len(df)-frame_size,hop_size):\n",
        "        x=df['x-axis'].values[i: i+frame_size]\n",
        "        y=df['y-axis'].values[i: i+frame_size]\n",
        "        z=df['z-axis'].values[i: i+frame_size]   \n",
        "        \n",
        "        lable = stats.mode(df['number'][i: i+frame_size])[0][0]\n",
        "        frames.append([x,y,z])\n",
        "        lables.append(lable)\n",
        "    frames=np.asarray(frames).reshape(-1,frame_size,N_FEATURES)\n",
        "    lables=np.asarray(lables)\n",
        "    \n",
        "    return frames ,lables"
      ]
    },
    {
      "cell_type": "code",
      "execution_count": null,
      "metadata": {
        "id": "Xbc2_w2Gwdkh"
      },
      "outputs": [],
      "source": [
        "X_x,Y_y=get_frames(df,frame_size,hop_size)"
      ]
    },
    {
      "cell_type": "code",
      "execution_count": null,
      "metadata": {
        "colab": {
          "base_uri": "https://localhost:8080/"
        },
        "id": "H_y_6CRuwdkh",
        "outputId": "af321e9e-b161-4141-fff9-29933490ac3f"
      },
      "outputs": [
        {
          "data": {
            "text/plain": [
              "((13270, 200, 3), (13270,))"
            ]
          },
          "execution_count": 12,
          "metadata": {},
          "output_type": "execute_result"
        }
      ],
      "source": [
        "X_x.shape , Y_y.shape"
      ]
    },
    {
      "cell_type": "code",
      "execution_count": null,
      "metadata": {
        "id": "xRIqCVoEwdki"
      },
      "outputs": [],
      "source": [
        "from sklearn.model_selection import KFold, cross_val_score, train_test_split"
      ]
    },
    {
      "cell_type": "code",
      "execution_count": null,
      "metadata": {
        "id": "I8GTJOZFwdki"
      },
      "outputs": [],
      "source": [
        "X_train , X_test, y_train, y_test = train_test_split(X_x,Y_y,test_size=0.2,random_state=0,stratify=Y_y)"
      ]
    },
    {
      "cell_type": "code",
      "execution_count": null,
      "metadata": {
        "colab": {
          "base_uri": "https://localhost:8080/"
        },
        "id": "BlQQ2ZmBwdki",
        "outputId": "296d4ac1-5e31-42b6-d0ed-d540065c972c"
      },
      "outputs": [
        {
          "data": {
            "text/plain": [
              "((2654, 200, 3), (10616, 200, 3), (2654,), (10616,))"
            ]
          },
          "execution_count": 15,
          "metadata": {},
          "output_type": "execute_result"
        }
      ],
      "source": [
        "X_test.shape,X_train.shape,y_test.shape,y_train.shape"
      ]
    },
    {
      "cell_type": "code",
      "execution_count": null,
      "metadata": {
        "id": "P5i4TI-lwdki"
      },
      "outputs": [],
      "source": [
        "X_test= X_test.reshape(2654, 200, 3, 1)\n",
        "X_train=X_train.reshape(10616, 200, 3, 1)"
      ]
    },
    {
      "cell_type": "code",
      "execution_count": null,
      "metadata": {
        "colab": {
          "base_uri": "https://localhost:8080/"
        },
        "id": "ryUCS0q0wdki",
        "outputId": "5f1f0c8a-75b5-40b9-c54d-a8c466dcd26c"
      },
      "outputs": [
        {
          "data": {
            "text/plain": [
              "((2654, 200, 3, 1), (10616, 200, 3, 1))"
            ]
          },
          "execution_count": 17,
          "metadata": {},
          "output_type": "execute_result"
        }
      ],
      "source": [
        "X_test.shape,X_train.shape"
      ]
    },
    {
      "cell_type": "code",
      "execution_count": null,
      "metadata": {
        "colab": {
          "base_uri": "https://localhost:8080/"
        },
        "id": "A5-codu_-23Q",
        "outputId": "dd16c4e3-2d04-4ca4-9788-ab25792fe918"
      },
      "outputs": [
        {
          "data": {
            "text/plain": [
              "array([[[[-0.6276256],\n",
              "         [-0.8629852],\n",
              "         [-0.8629852]],\n",
              "\n",
              "        [[-0.9414384],\n",
              "         [-1.1375714],\n",
              "         [-0.8629852]],\n",
              "\n",
              "        [[-0.7060788],\n",
              "         [-0.196133 ],\n",
              "         [-0.0784532]],\n",
              "\n",
              "        ...,\n",
              "\n",
              "        [[ 8.9828914],\n",
              "         [ 8.7475318],\n",
              "         [ 8.3944924]],\n",
              "\n",
              "        [[ 8.237586 ],\n",
              "         [ 7.649187 ],\n",
              "         [ 7.3746008]],\n",
              "\n",
              "        [[ 7.1392412],\n",
              "         [ 6.6292954],\n",
              "         [ 5.9624432]]],\n",
              "\n",
              "\n",
              "       [[[ 0.0392266],\n",
              "         [-0.0392266],\n",
              "         [-0.0392266]],\n",
              "\n",
              "        [[-0.0392266],\n",
              "         [-0.0392266],\n",
              "         [-0.0784532]],\n",
              "\n",
              "        [[-0.196133 ],\n",
              "         [-0.2353596],\n",
              "         [ 0.       ]],\n",
              "\n",
              "        ...,\n",
              "\n",
              "        [[ 9.0613446],\n",
              "         [ 8.6690786],\n",
              "         [ 8.1591328]],\n",
              "\n",
              "        [[ 7.4922806],\n",
              "         [ 6.472389 ],\n",
              "         [ 5.491724 ]],\n",
              "\n",
              "        [[ 5.099458 ],\n",
              "         [ 4.7856452],\n",
              "         [ 4.4326058]]],\n",
              "\n",
              "\n",
              "       [[[-3.8834334],\n",
              "         [-3.92266  ],\n",
              "         [-3.92266  ]],\n",
              "\n",
              "        [[-4.0011132],\n",
              "         [-4.118793 ],\n",
              "         [-4.1580196]],\n",
              "\n",
              "        [[-4.1580196],\n",
              "         [-4.1580196],\n",
              "         [-4.0403398]],\n",
              "\n",
              "        ...,\n",
              "\n",
              "        [[ 7.9237732],\n",
              "         [ 7.8845466],\n",
              "         [ 7.649187 ]],\n",
              "\n",
              "        [[ 7.8060934],\n",
              "         [ 7.7276402],\n",
              "         [ 7.649187 ]],\n",
              "\n",
              "        [[ 7.7276402],\n",
              "         [ 7.8845466],\n",
              "         [ 8.1983594]]],\n",
              "\n",
              "\n",
              "       ...,\n",
              "\n",
              "\n",
              "       [[[ 1.1375714],\n",
              "         [ 1.4121576],\n",
              "         [ 1.6082906]],\n",
              "\n",
              "        [[ 1.6867438],\n",
              "         [ 1.5298374],\n",
              "         [ 1.7259704]],\n",
              "\n",
              "        [[ 1.8436502],\n",
              "         [ 1.7259704],\n",
              "         [ 1.6082906]],\n",
              "\n",
              "        ...,\n",
              "\n",
              "        [[10.9049948],\n",
              "         [10.6696352],\n",
              "         [10.0812362]],\n",
              "\n",
              "        [[ 9.610517 ],\n",
              "         [ 9.1790244],\n",
              "         [ 8.0806796]],\n",
              "\n",
              "        [[ 7.6099604],\n",
              "         [ 7.060788 ],\n",
              "         [ 6.6292954]]],\n",
              "\n",
              "\n",
              "       [[[ 0.392266 ],\n",
              "         [ 0.784532 ],\n",
              "         [ 0.8237586]],\n",
              "\n",
              "        [[ 0.196133 ],\n",
              "         [-0.6276256],\n",
              "         [-1.96133  ]],\n",
              "\n",
              "        [[-3.2558078],\n",
              "         [-4.5502856],\n",
              "         [-4.4326058]],\n",
              "\n",
              "        ...,\n",
              "\n",
              "        [[ 2.353596 ],\n",
              "         [ 2.9812216],\n",
              "         [ 3.2165812]],\n",
              "\n",
              "        [[ 3.6088472],\n",
              "         [ 4.0795664],\n",
              "         [ 4.3541526]],\n",
              "\n",
              "        [[ 5.5701772],\n",
              "         [ 7.3746008],\n",
              "         [ 7.4138274]]],\n",
              "\n",
              "\n",
              "       [[[-4.118793 ],\n",
              "         [-3.8442068],\n",
              "         [-3.726527 ]],\n",
              "\n",
              "        [[-3.6088472],\n",
              "         [-3.7657536],\n",
              "         [-3.8442068]],\n",
              "\n",
              "        [[-3.6088472],\n",
              "         [-3.6088472],\n",
              "         [-3.6480738]],\n",
              "\n",
              "        ...,\n",
              "\n",
              "        [[ 8.7083052],\n",
              "         [ 8.5121722],\n",
              "         [ 8.3552658]],\n",
              "\n",
              "        [[ 8.3160392],\n",
              "         [ 8.237586 ],\n",
              "         [ 8.1983594]],\n",
              "\n",
              "        [[ 7.7668668],\n",
              "         [ 7.453054 ],\n",
              "         [ 7.4138274]]]])"
            ]
          },
          "execution_count": 18,
          "metadata": {},
          "output_type": "execute_result"
        }
      ],
      "source": [
        "X_test"
      ]
    },
    {
      "cell_type": "markdown",
      "metadata": {
        "id": "crfUYj_Iwdkj"
      },
      "source": [
        "### 2D CNN Model"
      ]
    },
    {
      "cell_type": "code",
      "execution_count": null,
      "metadata": {
        "id": "4FFI9x3Ywdkj"
      },
      "outputs": [],
      "source": [
        "from keras.models import Sequential\n",
        "from tensorflow.keras.layers import Conv2D ,Dropout, Flatten, Dense\n",
        "from tensorflow.keras.optimizers import Adam , RMSprop"
      ]
    },
    {
      "cell_type": "code",
      "execution_count": null,
      "metadata": {
        "id": "WEriRR-Wwdkj"
      },
      "outputs": [],
      "source": [
        "model=Sequential()\n",
        "model.add(Conv2D(16, (2,2), activation = 'relu', input_shape= X_train[0].shape))\n",
        "model.add(Dropout(0.1))\n",
        "\n",
        "model.add(Conv2D(32, (2,2), activation = 'relu'))\n",
        "model.add(Dropout(0.2))\n",
        "\n",
        "model.add(Flatten())\n",
        "\n",
        "model.add(Dense(64, activation='relu'))\n",
        "model.add(Dropout(0.5))\n",
        "\n",
        "model.add(Dense(10, activation='softmax'))"
      ]
    },
    {
      "cell_type": "code",
      "execution_count": null,
      "metadata": {
        "id": "cV7oOtNlwdkj"
      },
      "outputs": [],
      "source": [
        "model.compile(optimizer=Adam(learning_rate = 0.001), loss = 'sparse_categorical_crossentropy', metrics = ['accuracy'])"
      ]
    },
    {
      "cell_type": "code",
      "execution_count": null,
      "metadata": {
        "colab": {
          "base_uri": "https://localhost:8080/"
        },
        "id": "fqYlKcF-wdkj",
        "outputId": "9779da2d-3779-4c4c-f8c5-8661505555e3"
      },
      "outputs": [
        {
          "output_type": "stream",
          "name": "stdout",
          "text": [
            "Epoch 1/50\n",
            "10616/10616 [==============================] - 90s 8ms/step - loss: 2.0072 - accuracy: 0.2308 - val_loss: 1.5865 - val_accuracy: 0.4141\n",
            "Epoch 2/50\n",
            "10616/10616 [==============================] - 85s 8ms/step - loss: 1.7402 - accuracy: 0.3189 - val_loss: 1.4016 - val_accuracy: 0.5430\n",
            "Epoch 3/50\n",
            "10616/10616 [==============================] - 88s 8ms/step - loss: 1.6061 - accuracy: 0.3803 - val_loss: 1.1132 - val_accuracy: 0.6127\n",
            "Epoch 4/50\n",
            "10616/10616 [==============================] - 81s 8ms/step - loss: 1.5720 - accuracy: 0.3945 - val_loss: 1.2187 - val_accuracy: 0.5475\n",
            "Epoch 5/50\n",
            "10616/10616 [==============================] - 83s 8ms/step - loss: 1.5329 - accuracy: 0.4121 - val_loss: 1.1240 - val_accuracy: 0.6402\n",
            "Epoch 6/50\n",
            "10616/10616 [==============================] - 87s 8ms/step - loss: 1.5104 - accuracy: 0.4336 - val_loss: 1.1016 - val_accuracy: 0.5430\n",
            "Epoch 7/50\n",
            "10616/10616 [==============================] - 84s 8ms/step - loss: 1.4719 - accuracy: 0.4362 - val_loss: 1.0456 - val_accuracy: 0.6372\n",
            "Epoch 8/50\n",
            "10616/10616 [==============================] - 83s 8ms/step - loss: 1.4637 - accuracy: 0.4420 - val_loss: 0.9700 - val_accuracy: 0.6537\n",
            "Epoch 9/50\n",
            "10616/10616 [==============================] - 85s 8ms/step - loss: 1.4244 - accuracy: 0.4566 - val_loss: 1.0384 - val_accuracy: 0.6236\n",
            "Epoch 10/50\n",
            "10616/10616 [==============================] - 84s 8ms/step - loss: 1.3960 - accuracy: 0.4682 - val_loss: 0.8542 - val_accuracy: 0.7054\n",
            "Epoch 11/50\n",
            "10616/10616 [==============================] - 84s 8ms/step - loss: 1.3592 - accuracy: 0.4791 - val_loss: 0.8227 - val_accuracy: 0.7366\n",
            "Epoch 12/50\n",
            "10616/10616 [==============================] - 87s 8ms/step - loss: 1.3540 - accuracy: 0.4849 - val_loss: 0.9297 - val_accuracy: 0.7355\n",
            "Epoch 13/50\n",
            "10616/10616 [==============================] - 83s 8ms/step - loss: 1.3598 - accuracy: 0.4722 - val_loss: 0.9722 - val_accuracy: 0.6812\n",
            "Epoch 14/50\n",
            "10616/10616 [==============================] - 79s 7ms/step - loss: 1.3239 - accuracy: 0.4893 - val_loss: 0.7955 - val_accuracy: 0.7694\n",
            "Epoch 15/50\n",
            "10616/10616 [==============================] - 81s 8ms/step - loss: 1.3472 - accuracy: 0.4795 - val_loss: 0.7952 - val_accuracy: 0.7773\n",
            "Epoch 16/50\n",
            "10616/10616 [==============================] - 78s 7ms/step - loss: 1.3413 - accuracy: 0.4801 - val_loss: 1.0300 - val_accuracy: 0.5863\n",
            "Epoch 17/50\n",
            "10616/10616 [==============================] - 81s 8ms/step - loss: 1.3715 - accuracy: 0.4732 - val_loss: 0.9308 - val_accuracy: 0.6794\n",
            "Epoch 18/50\n",
            "10616/10616 [==============================] - 83s 8ms/step - loss: 1.3434 - accuracy: 0.4807 - val_loss: 1.1281 - val_accuracy: 0.5803\n",
            "Epoch 19/50\n",
            "10616/10616 [==============================] - 80s 8ms/step - loss: 1.3739 - accuracy: 0.4762 - val_loss: 1.0572 - val_accuracy: 0.5965\n",
            "Epoch 20/50\n",
            "10616/10616 [==============================] - 81s 8ms/step - loss: 1.3472 - accuracy: 0.4864 - val_loss: 0.8866 - val_accuracy: 0.7106\n",
            "Epoch 21/50\n",
            "10616/10616 [==============================] - 88s 8ms/step - loss: 1.3683 - accuracy: 0.4753 - val_loss: 0.8145 - val_accuracy: 0.7276\n",
            "Epoch 22/50\n",
            "10616/10616 [==============================] - 83s 8ms/step - loss: 1.3312 - accuracy: 0.4835 - val_loss: 0.8241 - val_accuracy: 0.7261\n",
            "Epoch 23/50\n",
            "10616/10616 [==============================] - 83s 8ms/step - loss: 1.3467 - accuracy: 0.4884 - val_loss: 0.7501 - val_accuracy: 0.7600\n",
            "Epoch 24/50\n",
            "10616/10616 [==============================] - 87s 8ms/step - loss: 1.3366 - accuracy: 0.4949 - val_loss: 1.0710 - val_accuracy: 0.6059\n",
            "Epoch 25/50\n",
            "10616/10616 [==============================] - 81s 8ms/step - loss: 1.3368 - accuracy: 0.4980 - val_loss: 0.9743 - val_accuracy: 0.6511\n",
            "Epoch 26/50\n",
            "10616/10616 [==============================] - 80s 8ms/step - loss: 1.3579 - accuracy: 0.4886 - val_loss: 1.1692 - val_accuracy: 0.5569\n",
            "Epoch 27/50\n",
            "10616/10616 [==============================] - 81s 8ms/step - loss: 1.3397 - accuracy: 0.4921 - val_loss: 1.2915 - val_accuracy: 0.4676\n",
            "Epoch 28/50\n",
            "10616/10616 [==============================] - 80s 8ms/step - loss: 1.3694 - accuracy: 0.4808 - val_loss: 0.7540 - val_accuracy: 0.7826\n",
            "Epoch 29/50\n",
            "10616/10616 [==============================] - 81s 8ms/step - loss: 1.3569 - accuracy: 0.4885 - val_loss: 0.9019 - val_accuracy: 0.7102\n",
            "Epoch 30/50\n",
            "10616/10616 [==============================] - 79s 7ms/step - loss: 1.3539 - accuracy: 0.4916 - val_loss: 0.8482 - val_accuracy: 0.7046\n",
            "Epoch 31/50\n",
            "10616/10616 [==============================] - 79s 7ms/step - loss: 1.3536 - accuracy: 0.4871 - val_loss: 0.8451 - val_accuracy: 0.7231\n",
            "Epoch 32/50\n",
            "10616/10616 [==============================] - 81s 8ms/step - loss: 1.4243 - accuracy: 0.4585 - val_loss: 0.9506 - val_accuracy: 0.6575\n",
            "Epoch 33/50\n",
            "10616/10616 [==============================] - 81s 8ms/step - loss: 1.3962 - accuracy: 0.4698 - val_loss: 1.5021 - val_accuracy: 0.4228\n",
            "Epoch 34/50\n",
            "10616/10616 [==============================] - 80s 8ms/step - loss: 1.3982 - accuracy: 0.4738 - val_loss: 0.8977 - val_accuracy: 0.7057\n",
            "Epoch 35/50\n",
            "10616/10616 [==============================] - 89s 8ms/step - loss: 1.3970 - accuracy: 0.4705 - val_loss: 0.8086 - val_accuracy: 0.7155\n",
            "Epoch 36/50\n",
            "10616/10616 [==============================] - 82s 8ms/step - loss: 1.3972 - accuracy: 0.4739 - val_loss: 0.8862 - val_accuracy: 0.6888\n",
            "Epoch 37/50\n",
            "10616/10616 [==============================] - 81s 8ms/step - loss: 1.3710 - accuracy: 0.4791 - val_loss: 0.9267 - val_accuracy: 0.6745\n",
            "Epoch 38/50\n",
            "10616/10616 [==============================] - 83s 8ms/step - loss: 1.3838 - accuracy: 0.4715 - val_loss: 0.7891 - val_accuracy: 0.7656\n",
            "Epoch 39/50\n",
            "10616/10616 [==============================] - 79s 7ms/step - loss: 1.4091 - accuracy: 0.4747 - val_loss: 0.9263 - val_accuracy: 0.6929\n",
            "Epoch 40/50\n",
            "10616/10616 [==============================] - 80s 8ms/step - loss: 1.4037 - accuracy: 0.4669 - val_loss: 0.9573 - val_accuracy: 0.6387\n",
            "Epoch 41/50\n",
            "10616/10616 [==============================] - 81s 8ms/step - loss: 1.3878 - accuracy: 0.4832 - val_loss: 1.0646 - val_accuracy: 0.5810\n",
            "Epoch 42/50\n",
            "10616/10616 [==============================] - 80s 8ms/step - loss: 1.4051 - accuracy: 0.4657 - val_loss: 0.8871 - val_accuracy: 0.6820\n",
            "Epoch 43/50\n",
            "10616/10616 [==============================] - 80s 8ms/step - loss: 1.3977 - accuracy: 0.4734 - val_loss: 1.0549 - val_accuracy: 0.5934\n",
            "Epoch 44/50\n",
            "10616/10616 [==============================] - 81s 8ms/step - loss: 1.3781 - accuracy: 0.4771 - val_loss: 0.9337 - val_accuracy: 0.6594\n",
            "Epoch 45/50\n",
            "10616/10616 [==============================] - 83s 8ms/step - loss: 1.4331 - accuracy: 0.4735 - val_loss: 1.2746 - val_accuracy: 0.5019\n",
            "Epoch 46/50\n",
            "10616/10616 [==============================] - 83s 8ms/step - loss: 1.3936 - accuracy: 0.4755 - val_loss: 1.1068 - val_accuracy: 0.5953\n",
            "Epoch 47/50\n",
            "10616/10616 [==============================] - 84s 8ms/step - loss: 1.4142 - accuracy: 0.4667 - val_loss: 0.9142 - val_accuracy: 0.6907\n",
            "Epoch 48/50\n",
            "10616/10616 [==============================] - 86s 8ms/step - loss: 1.3744 - accuracy: 0.4813 - val_loss: 1.1464 - val_accuracy: 0.5644\n",
            "Epoch 49/50\n",
            "10616/10616 [==============================] - 85s 8ms/step - loss: 1.3946 - accuracy: 0.4741 - val_loss: 0.9513 - val_accuracy: 0.6161\n",
            "Epoch 50/50\n",
            "10616/10616 [==============================] - 86s 8ms/step - loss: 1.4019 - accuracy: 0.4830 - val_loss: 0.8697 - val_accuracy: 0.7208\n"
          ]
        }
      ],
      "source": [
        "history = model.fit(X_train, y_train, epochs = 50, batch_size=1, validation_data= (X_test, y_test),verbose=1)"
      ]
    },
    {
      "cell_type": "code",
      "execution_count": null,
      "metadata": {
        "id": "b0TLtTjtHy6x",
        "colab": {
          "base_uri": "https://localhost:8080/",
          "height": 295
        },
        "outputId": "833a5b93-4df2-4157-af4c-ca858f2496d8"
      },
      "outputs": [
        {
          "output_type": "display_data",
          "data": {
            "text/plain": [
              "<Figure size 432x288 with 1 Axes>"
            ],
            "image/png": "[encoded data removed]"
          },
          "metadata": {
            "needs_background": "light"
          }
        }
      ],
      "source": [
        "from matplotlib import pyplot as plt\n",
        "plt.plot(history.history['accuracy'])\n",
        "plt.plot(history.history['val_accuracy'])\n",
        "plt.title('model accuracy')\n",
        "plt.ylabel('accuracy')\n",
        "plt.xlabel('epoch')\n",
        "plt.legend(['train', 'val'], loc='upper left')\n",
        "plt.show()"
      ]
    },
    {
      "cell_type": "code",
      "execution_count": null,
      "metadata": {
        "id": "KzmAXFO-IIeL"
      },
      "outputs": [],
      "source": [
        "model.save('/content/drive/MyDrive/air/model.h5',save_format='h5')\n",
        "# !ls /content/drive/MyDrive/air/"
      ]
    },
    {
      "cell_type": "code",
      "execution_count": null,
      "metadata": {
        "id": "qe3fnE8LLupD",
        "colab": {
          "base_uri": "https://localhost:8080/",
          "height": 295
        },
        "outputId": "71364229-b706-4cec-c2d8-6bf909c66675"
      },
      "outputs": [
        {
          "output_type": "display_data",
          "data": {
            "text/plain": [
              "<Figure size 432x288 with 1 Axes>"
            ],
            "image/png": "[encoded data removed]"
          },
          "metadata": {
            "needs_background": "light"
          }
        }
      ],
      "source": [
        "plt.plot(history.history['loss'])\n",
        "plt.plot(history.history['val_loss'])\n",
        "plt.title('model loss')\n",
        "plt.ylabel('loss')\n",
        "plt.xlabel('epoch')\n",
        "plt.legend(['train', 'val'], loc='upper left')\n",
        "plt.show()"
      ]
    },
    {
      "cell_type": "code",
      "execution_count": null,
      "metadata": {
        "id": "Q8dIgCFVcHkX",
        "colab": {
          "base_uri": "https://localhost:8080/"
        },
        "outputId": "82e1ddcc-fd58-4655-c058-72ddd2b025ea"
      },
      "outputs": [
        {
          "output_type": "stream",
          "name": "stdout",
          "text": [
            "1/1 [==============================] - 0s 84ms/step\n",
            "[[9.7549590e-04 3.2174620e-22 1.1713723e-05 6.4006841e-01 3.6573317e-06\n",
            "  3.5881409e-01 1.0419817e-04 5.0310303e-09 2.2350543e-05 2.7485603e-09]]\n",
            "(array([0]), array([3]))\n"
          ]
        }
      ],
      "source": [
        "p=model.predict(X_test[:1])\n",
        "a=max((p.max(axis=0)))\n",
        "print(p)\n",
        "s=np.where(p==a)#index of the max \n",
        "#print(X_test[:1])\n",
        "print(s)"
      ]
    },
    {
      "cell_type": "code",
      "source": [
        "model.summary()"
      ],
      "metadata": {
        "colab": {
          "base_uri": "https://localhost:8080/"
        },
        "id": "uREnR_Ia6O9D",
        "outputId": "71d55242-7377-4ae7-93a2-b30e60625455"
      },
      "execution_count": null,
      "outputs": [
        {
          "output_type": "stream",
          "name": "stdout",
          "text": [
            "Model: \"sequential_2\"\n",
            "_________________________________________________________________\n",
            " Layer (type)                Output Shape              Param #   \n",
            "=================================================================\n",
            " conv2d_4 (Conv2D)           (None, 199, 2, 16)        80        \n",
            "                                                                 \n",
            " dropout_6 (Dropout)         (None, 199, 2, 16)        0         \n",
            "                                                                 \n",
            " conv2d_5 (Conv2D)           (None, 198, 1, 32)        2080      \n",
            "                                                                 \n",
            " dropout_7 (Dropout)         (None, 198, 1, 32)        0         \n",
            "                                                                 \n",
            " flatten_2 (Flatten)         (None, 6336)              0         \n",
            "                                                                 \n",
            " dense_6 (Dense)             (None, 64)                405568    \n",
            "                                                                 \n",
            " dropout_8 (Dropout)         (None, 64)                0         \n",
            "                                                                 \n",
            " dense_7 (Dense)             (None, 10)                650       \n",
            "                                                                 \n",
            "=================================================================\n",
            "Total params: 408,378\n",
            "Trainable params: 408,378\n",
            "Non-trainable params: 0\n",
            "_________________________________________________________________\n"
          ]
        }
      ]
    },
    {
      "cell_type": "code",
      "source": [
        "import matplotlib.pyplot as plt\n",
        "plt.plot(np.arange(0,100),df['x-axis'][df['number'] == 1][:100], label='X-axis')\n",
        "plt.plot(np.arange (0,100),df['y-axis'][df['number'] == 1][:100], label='Y-axis')\n",
        "plt.plot(np.arange (0,100),df['z-axis'][df['number'] == 1][:100], label='Z-axis')\n",
        "plt.legend()"
      ],
      "metadata": {
        "colab": {
          "base_uri": "https://localhost:8080/",
          "height": 283
        },
        "id": "r3u2Or042dSq",
        "outputId": "de9437da-9b23-4d72-95ae-c1cc3b98f63c"
      },
      "execution_count": null,
      "outputs": [
        {
          "output_type": "execute_result",
          "data": {
            "text/plain": [
              "<matplotlib.legend.Legend at 0x7f6592d1bd30>"
            ]
          },
          "metadata": {},
          "execution_count": 23
        },
        {
          "output_type": "display_data",
          "data": {
            "text/plain": [
              "<Figure size 432x288 with 1 Axes>"
            ],
            "image/png": "[encoded data removed]"
          },
          "metadata": {
            "needs_background": "light"
          }
        }
      ]
    },
    {
      "cell_type": "code",
      "source": [
        "\n",
        "plt.plot(np.arange(0,100),df['x-axis'][df['number'] == 2][:100], label='X-axis')\n",
        "plt.plot(np.arange (0,100),df['y-axis'][df['number'] == 2][:100], label='Y-axis')\n",
        "plt.plot(np.arange (0,100),df['z-axis'][df['number'] == 2][:100], label='Z-axis')\n",
        "plt.legend()"
      ],
      "metadata": {
        "colab": {
          "base_uri": "https://localhost:8080/",
          "height": 283
        },
        "id": "vXld6JKn4wps",
        "outputId": "055fe52c-be7e-4eaf-e73d-0d8cc28a672f"
      },
      "execution_count": null,
      "outputs": [
        {
          "output_type": "execute_result",
          "data": {
            "text/plain": [
              "<matplotlib.legend.Legend at 0x7f659264f880>"
            ]
          },
          "metadata": {},
          "execution_count": 22
        },
        {
          "output_type": "display_data",
          "data": {
            "text/plain": [
              "<Figure size 432x288 with 1 Axes>"
            ],
            "image/png": "[encoded data removed]"
          },
          "metadata": {
            "needs_background": "light"
          }
        }
      ]
    },
    {
      "cell_type": "code",
      "source": [
        "\n",
        "plt.plot(np.arange(0,100),df['x-axis'][df['number'] == 3][:100], label='X-axis')\n",
        "plt.plot(np.arange (0,100),df['y-axis'][df['number'] == 3][:100], label='Y-axis')\n",
        "plt.plot(np.arange (0,100),df['z-axis'][df['number'] == 3][:100], label='Z-axis')\n",
        "plt.legend()"
      ],
      "metadata": {
        "colab": {
          "base_uri": "https://localhost:8080/",
          "height": 283
        },
        "id": "7MWviyLA401t",
        "outputId": "cd9439bd-dbc1-4d2c-bc98-12d735901621"
      },
      "execution_count": null,
      "outputs": [
        {
          "output_type": "execute_result",
          "data": {
            "text/plain": [
              "<matplotlib.legend.Legend at 0x7f65926e8c40>"
            ]
          },
          "metadata": {},
          "execution_count": 21
        },
        {
          "output_type": "display_data",
          "data": {
            "text/plain": [
              "<Figure size 432x288 with 1 Axes>"
            ],
            "image/png": "[encoded data removed]"
          },
          "metadata": {
            "needs_background": "light"
          }
        }
      ]
    },
    {
      "cell_type": "code",
      "source": [
        "\n",
        "plt.plot(np.arange(0,100),df['x-axis'][df['number'] == 4][:100], label='X-axis')\n",
        "plt.plot(np.arange (0,100),df['y-axis'][df['number'] == 4][:100], label='Y-axis')\n",
        "plt.plot(np.arange (0,100),df['z-axis'][df['number'] == 4][:100], label='Z-axis')\n",
        "plt.legend()"
      ],
      "metadata": {
        "colab": {
          "base_uri": "https://localhost:8080/",
          "height": 283
        },
        "id": "uSs_yUxL44o7",
        "outputId": "b0be946b-b9c0-4916-945e-3a0b7cad1170"
      },
      "execution_count": null,
      "outputs": [
        {
          "output_type": "execute_result",
          "data": {
            "text/plain": [
              "<matplotlib.legend.Legend at 0x7f6592dff130>"
            ]
          },
          "metadata": {},
          "execution_count": 20
        },
        {
          "output_type": "display_data",
          "data": {
            "text/plain": [
              "<Figure size 432x288 with 1 Axes>"
            ],
            "image/png": "[encoded data removed]"
          },
          "metadata": {
            "needs_background": "light"
          }
        }
      ]
    },
    {
      "cell_type": "code",
      "source": [
        "\n",
        "plt.plot(np.arange(0,100),df['x-axis'][df['number'] == 5][:100], label='X-axis')\n",
        "plt.plot(np.arange (0,100),df['y-axis'][df['number'] == 5][:100], label='Y-axis')\n",
        "plt.plot(np.arange (0,100),df['z-axis'][df['number'] == 5][:100], label='Z-axis')\n",
        "plt.legend()"
      ],
      "metadata": {
        "colab": {
          "base_uri": "https://localhost:8080/",
          "height": 283
        },
        "id": "zBiBTlAD48qL",
        "outputId": "ccbbce49-2592-4a4a-c98a-bbdb69e2794c"
      },
      "execution_count": null,
      "outputs": [
        {
          "output_type": "execute_result",
          "data": {
            "text/plain": [
              "<matplotlib.legend.Legend at 0x7f6592867e80>"
            ]
          },
          "metadata": {},
          "execution_count": 19
        },
        {
          "output_type": "display_data",
          "data": {
            "text/plain": [
              "<Figure size 432x288 with 1 Axes>"
            ],
            "image/png": "[encoded data removed]"
          },
          "metadata": {
            "needs_background": "light"
          }
        }
      ]
    },
    {
      "cell_type": "code",
      "source": [
        "\n",
        "plt.plot(np.arange(0,100),df['x-axis'][df['number'] == 6][:100], label='X-axis')\n",
        "plt.plot(np.arange (0,100),df['y-axis'][df['number'] == 6][:100], label='Y-axis')\n",
        "plt.plot(np.arange (0,100),df['z-axis'][df['number'] == 6][:100], label='Z-axis')\n",
        "plt.legend()"
      ],
      "metadata": {
        "colab": {
          "base_uri": "https://localhost:8080/",
          "height": 283
        },
        "id": "6-pbMGGM5BpM",
        "outputId": "821f31ea-4a5b-4e9d-e7e2-f1b00abb6a5d"
      },
      "execution_count": null,
      "outputs": [
        {
          "output_type": "execute_result",
          "data": {
            "text/plain": [
              "<matplotlib.legend.Legend at 0x7f6592d5ae80>"
            ]
          },
          "metadata": {},
          "execution_count": 18
        },
        {
          "output_type": "display_data",
          "data": {
            "text/plain": [
              "<Figure size 432x288 with 1 Axes>"
            ],
            "image/png": "[encoded data removed]"
          },
          "metadata": {
            "needs_background": "light"
          }
        }
      ]
    },
    {
      "cell_type": "code",
      "source": [
        "\n",
        "plt.plot(np.arange(0,100),df['x-axis'][df['number'] == 7][:100], label='X-axis')\n",
        "plt.plot(np.arange (0,100),df['y-axis'][df['number'] == 7][:100], label='Y-axis')\n",
        "plt.plot(np.arange (0,100),df['z-axis'][df['number'] == 7][:100], label='Z-axis')\n",
        "plt.legend()"
      ],
      "metadata": {
        "colab": {
          "base_uri": "https://localhost:8080/",
          "height": 283
        },
        "id": "V-GCrX4y5GGn",
        "outputId": "d65a9f90-e2a2-42b4-bdc2-b2a9a959e997"
      },
      "execution_count": null,
      "outputs": [
        {
          "output_type": "execute_result",
          "data": {
            "text/plain": [
              "<matplotlib.legend.Legend at 0x7f6592cc8d60>"
            ]
          },
          "metadata": {},
          "execution_count": 17
        },
        {
          "output_type": "display_data",
          "data": {
            "text/plain": [
              "<Figure size 432x288 with 1 Axes>"
            ],
            "image/png": "[encoded data removed]"
          },
          "metadata": {
            "needs_background": "light"
          }
        }
      ]
    },
    {
      "cell_type": "code",
      "source": [
        "\n",
        "plt.plot(np.arange(0,100),df['x-axis'][df['number'] == 8][:100], label='X-axis')\n",
        "plt.plot(np.arange (0,100),df['y-axis'][df['number'] == 8][:100], label='Y-axis')\n",
        "plt.plot(np.arange (0,100),df['z-axis'][df['number'] == 8][:100], label='Z-axis')\n",
        "plt.legend()"
      ],
      "metadata": {
        "colab": {
          "base_uri": "https://localhost:8080/",
          "height": 283
        },
        "id": "qRWLLTgJ5eZC",
        "outputId": "15706002-12cd-48bb-febd-8aff44eb5520"
      },
      "execution_count": null,
      "outputs": [
        {
          "output_type": "execute_result",
          "data": {
            "text/plain": [
              "<matplotlib.legend.Legend at 0x7f65927c06d0>"
            ]
          },
          "metadata": {},
          "execution_count": 24
        },
        {
          "output_type": "display_data",
          "data": {
            "text/plain": [
              "<Figure size 432x288 with 1 Axes>"
            ],
            "image/png": "[encoded data removed]"
          },
          "metadata": {
            "needs_background": "light"
          }
        }
      ]
    },
    {
      "cell_type": "code",
      "source": [
        "\n",
        "plt.plot(np.arange(0,100),df['x-axis'][df['number'] == 9][:100], label='X-axis')\n",
        "plt.plot(np.arange (0,100),df['y-axis'][df['number'] == 9][:100], label='Y-axis')\n",
        "plt.plot(np.arange (0,100),df['z-axis'][df['number'] == 9][:100], label='Z-axis')\n",
        "plt.legend()"
      ],
      "metadata": {
        "colab": {
          "base_uri": "https://localhost:8080/",
          "height": 285
        },
        "id": "U0nDMEXV5hLr",
        "outputId": "5e6f5558-e3ea-4b32-ac4d-10909892e083"
      },
      "execution_count": null,
      "outputs": [
        {
          "output_type": "execute_result",
          "data": {
            "text/plain": [
              "<matplotlib.legend.Legend at 0x7f65927596a0>"
            ]
          },
          "metadata": {},
          "execution_count": 25
        },
        {
          "output_type": "display_data",
          "data": {
            "text/plain": [
              "<Figure size 432x288 with 1 Axes>"
            ],
            "image/png": "[encoded data removed]"
          },
          "metadata": {
            "needs_background": "light"
          }
        }
      ]
    },
    {
      "cell_type": "code",
      "source": [
        "\n",
        "plt.plot(np.arange(0,100),df['x-axis'][df['number'] == 0][:100], label='X-axis')\n",
        "plt.plot(np.arange (0,100),df['y-axis'][df['number'] == 0][:100], label='Y-axis')\n",
        "plt.plot(np.arange (0,100),df['z-axis'][df['number'] == 0][:100], label='Z-axis')\n",
        "plt.legend()"
      ],
      "metadata": {
        "colab": {
          "base_uri": "https://localhost:8080/",
          "height": 283
        },
        "id": "zxsz6C2-5kJi",
        "outputId": "7f7e8bf7-6436-4c29-ea03-6a697bfa31c2"
      },
      "execution_count": null,
      "outputs": [
        {
          "output_type": "execute_result",
          "data": {
            "text/plain": [
              "<matplotlib.legend.Legend at 0x7f6593364c10>"
            ]
          },
          "metadata": {},
          "execution_count": 26
        },
        {
          "output_type": "display_data",
          "data": {
            "text/plain": [
              "<Figure size 432x288 with 1 Axes>"
            ],
            "image/png": "[encoded data removed]"
          },
          "metadata": {
            "needs_background": "light"
          }
        }
      ]
    }
  ],
  "metadata": {
    "colab": {
      "provenance": []
    },
    "kernelspec": {
      "display_name": "base",
      "language": "python",
      "name": "python3"
    },
    "language_info": {
      "codemirror_mode": {
        "name": "ipython",
        "version": 3
      },
      "file_extension": ".py",
      "mimetype": "text/x-python",
      "name": "python",
      "nbconvert_exporter": "python",
      "pygments_lexer": "ipython3",
      "version": "3.9.13 (main, Aug 25 2022, 18:24:45) \n[Clang 12.0.0 ]"
    },
    "vscode": {
      "interpreter": {
        "hash": "d7eb90efa10ac2c497c8bcacb4180d38e1cd5214a15a72fd12300310f12ae712"
      }
    }
  },
  "nbformat": 4,
  "nbformat_minor": 0
}