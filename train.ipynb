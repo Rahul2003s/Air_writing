{
  "cells": [
    {
      "cell_type": "code",
      "execution_count": 20,
      "metadata": {
        "colab": {
          "base_uri": "https://localhost:8080/"
        },
        "id": "WQvW9tS1wdkY",
        "outputId": "cdd15e15-29f0-48f8-fecc-597e2f1a718c"
      },
      "outputs": [
        {
          "name": "stdout",
          "output_type": "stream",
          "text": [
            "Drive already mounted at /content/drive; to attempt to forcibly remount, call drive.mount(\"/content/drive\", force_remount=True).\n"
          ]
        }
      ],
      "source": [
        "from google.colab import drive\n",
        "drive.mount('/content/drive')"
      ]
    },
    {
      "cell_type": "code",
      "execution_count": 21,
      "metadata": {
        "id": "UKBtUdOCxfRS"
      },
      "outputs": [],
      "source": [
        "import pandas as pd\n",
        "import numpy as np\n",
        "from sklearn.preprocessing import StandardScaler\n",
        "import scipy.stats as stats\n",
        "from sklearn.model_selection import train_test_split\n",
        "from keras.models import Sequential\n",
        "from tensorflow.keras.layers import Conv2D ,Dropout, Flatten, Dense\n",
        "from tensorflow.keras.optimizers import Adam , RMSprop\n",
        "from tensorflow.keras.callbacks import EarlyStopping\n",
        "import matplotlib.pyplot as plt\n"
      ]
    },
    {
      "cell_type": "code",
      "execution_count": 23,
      "metadata": {
        "id": "-0nZ2hLQdRhK"
      },
      "outputs": [],
      "source": [
        "data=pd.read_csv('/content/drive/MyDrive/air/data.csv')"
      ]
    },
    {
      "cell_type": "code",
      "execution_count": 24,
      "metadata": {
        "colab": {
          "base_uri": "https://localhost:8080/",
          "height": 424
        },
        "id": "KaBADo7Gwdkc",
        "outputId": "e5ce2a6b-8672-4267-d139-90818b577f0f"
      },
      "outputs": [
        {
          "data": {
            "text/html": [
              "\n",
              "  <div id=\"df-c07f94ad-e91c-4624-a481-703c6b700081\">\n",
              "    <div class=\"colab-df-container\">\n",
              "      <div>\n",
              "<style scoped>\n",
              "    .dataframe tbody tr th:only-of-type {\n",
              "        vertical-align: middle;\n",
              "    }\n",
              "\n",
              "    .dataframe tbody tr th {\n",
              "        vertical-align: top;\n",
              "    }\n",
              "\n",
              "    .dataframe thead th {\n",
              "        text-align: right;\n",
              "    }\n",
              "</style>\n",
              "<table border=\"1\" class=\"dataframe\">\n",
              "  <thead>\n",
              "    <tr style=\"text-align: right;\">\n",
              "      <th></th>\n",
              "      <th>x-axis</th>\n",
              "      <th>y-axis</th>\n",
              "      <th>z-axis</th>\n",
              "      <th>number</th>\n",
              "    </tr>\n",
              "  </thead>\n",
              "  <tbody>\n",
              "    <tr>\n",
              "      <th>0</th>\n",
              "      <td>1.569064</td>\n",
              "      <td>1.019892</td>\n",
              "      <td>10.355822</td>\n",
              "      <td>0</td>\n",
              "    </tr>\n",
              "    <tr>\n",
              "      <th>1</th>\n",
              "      <td>-1.216025</td>\n",
              "      <td>-1.647517</td>\n",
              "      <td>14.082349</td>\n",
              "      <td>0</td>\n",
              "    </tr>\n",
              "    <tr>\n",
              "      <th>2</th>\n",
              "      <td>-2.588956</td>\n",
              "      <td>-3.020448</td>\n",
              "      <td>14.239256</td>\n",
              "      <td>0</td>\n",
              "    </tr>\n",
              "    <tr>\n",
              "      <th>3</th>\n",
              "      <td>-4.354153</td>\n",
              "      <td>-3.491167</td>\n",
              "      <td>15.063014</td>\n",
              "      <td>0</td>\n",
              "    </tr>\n",
              "    <tr>\n",
              "      <th>4</th>\n",
              "      <td>-4.040340</td>\n",
              "      <td>-3.491167</td>\n",
              "      <td>14.278482</td>\n",
              "      <td>0</td>\n",
              "    </tr>\n",
              "    <tr>\n",
              "      <th>...</th>\n",
              "      <td>...</td>\n",
              "      <td>...</td>\n",
              "      <td>...</td>\n",
              "      <td>...</td>\n",
              "    </tr>\n",
              "    <tr>\n",
              "      <th>1130123</th>\n",
              "      <td>-3.373488</td>\n",
              "      <td>-0.470719</td>\n",
              "      <td>8.159133</td>\n",
              "      <td>9</td>\n",
              "    </tr>\n",
              "    <tr>\n",
              "      <th>1130124</th>\n",
              "      <td>-3.451941</td>\n",
              "      <td>-0.392266</td>\n",
              "      <td>8.002226</td>\n",
              "      <td>9</td>\n",
              "    </tr>\n",
              "    <tr>\n",
              "      <th>1130125</th>\n",
              "      <td>-3.608847</td>\n",
              "      <td>-0.274586</td>\n",
              "      <td>8.394492</td>\n",
              "      <td>9</td>\n",
              "    </tr>\n",
              "    <tr>\n",
              "      <th>1130126</th>\n",
              "      <td>-3.844207</td>\n",
              "      <td>-0.313813</td>\n",
              "      <td>8.472946</td>\n",
              "      <td>9</td>\n",
              "    </tr>\n",
              "    <tr>\n",
              "      <th>1130127</th>\n",
              "      <td>-3.804980</td>\n",
              "      <td>-0.156906</td>\n",
              "      <td>8.551399</td>\n",
              "      <td>9</td>\n",
              "    </tr>\n",
              "  </tbody>\n",
              "</table>\n",
              "<p>1130128 rows × 4 columns</p>\n",
              "</div>\n",
              "      <button class=\"colab-df-convert\" onclick=\"convertToInteractive('df-c07f94ad-e91c-4624-a481-703c6b700081')\"\n",
              "              title=\"Convert this dataframe to an interactive table.\"\n",
              "              style=\"display:none;\">\n",
              "        \n",
              "  <svg xmlns=\"http://www.w3.org/2000/svg\" height=\"24px\"viewBox=\"0 0 24 24\"\n",
              "       width=\"24px\">\n",
              "    <path d=\"M0 0h24v24H0V0z\" fill=\"none\"/>\n",
              "    <path d=\"M18.56 5.44l.94 2.06.94-2.06 2.06-.94-2.06-.94-.94-2.06-.94 2.06-2.06.94zm-11 1L8.5 8.5l.94-2.06 2.06-.94-2.06-.94L8.5 2.5l-.94 2.06-2.06.94zm10 10l.94 2.06.94-2.06 2.06-.94-2.06-.94-.94-2.06-.94 2.06-2.06.94z\"/><path d=\"M17.41 7.96l-1.37-1.37c-.4-.4-.92-.59-1.43-.59-.52 0-1.04.2-1.43.59L10.3 9.45l-7.72 7.72c-.78.78-.78 2.05 0 2.83L4 21.41c.39.39.9.59 1.41.59.51 0 1.02-.2 1.41-.59l7.78-7.78 2.81-2.81c.8-.78.8-2.07 0-2.86zM5.41 20L4 18.59l7.72-7.72 1.47 1.35L5.41 20z\"/>\n",
              "  </svg>\n",
              "      </button>\n",
              "      \n",
              "  <style>\n",
              "    .colab-df-container {\n",
              "      display:flex;\n",
              "      flex-wrap:wrap;\n",
              "      gap: 12px;\n",
              "    }\n",
              "\n",
              "    .colab-df-convert {\n",
              "      background-color: #E8F0FE;\n",
              "      border: none;\n",
              "      border-radius: 50%;\n",
              "      cursor: pointer;\n",
              "      display: none;\n",
              "      fill: #1967D2;\n",
              "      height: 32px;\n",
              "      padding: 0 0 0 0;\n",
              "      width: 32px;\n",
              "    }\n",
              "\n",
              "    .colab-df-convert:hover {\n",
              "      background-color: #E2EBFA;\n",
              "      box-shadow: 0px 1px 2px rgba(60, 64, 67, 0.3), 0px 1px 3px 1px rgba(60, 64, 67, 0.15);\n",
              "      fill: #174EA6;\n",
              "    }\n",
              "\n",
              "    [theme=dark] .colab-df-convert {\n",
              "      background-color: #3B4455;\n",
              "      fill: #D2E3FC;\n",
              "    }\n",
              "\n",
              "    [theme=dark] .colab-df-convert:hover {\n",
              "      background-color: #434B5C;\n",
              "      box-shadow: 0px 1px 3px 1px rgba(0, 0, 0, 0.15);\n",
              "      filter: drop-shadow(0px 1px 2px rgba(0, 0, 0, 0.3));\n",
              "      fill: #FFFFFF;\n",
              "    }\n",
              "  </style>\n",
              "\n",
              "      <script>\n",
              "        const buttonEl =\n",
              "          document.querySelector('#df-c07f94ad-e91c-4624-a481-703c6b700081 button.colab-df-convert');\n",
              "        buttonEl.style.display =\n",
              "          google.colab.kernel.accessAllowed ? 'block' : 'none';\n",
              "\n",
              "        async function convertToInteractive(key) {\n",
              "          const element = document.querySelector('#df-c07f94ad-e91c-4624-a481-703c6b700081');\n",
              "          const dataTable =\n",
              "            await google.colab.kernel.invokeFunction('convertToInteractive',\n",
              "                                                     [key], {});\n",
              "          if (!dataTable) return;\n",
              "\n",
              "          const docLinkHtml = 'Like what you see? Visit the ' +\n",
              "            '<a target=\"_blank\" href=https://colab.research.google.com/notebooks/data_table.ipynb>data table notebook</a>'\n",
              "            + ' to learn more about interactive tables.';\n",
              "          element.innerHTML = '';\n",
              "          dataTable['output_type'] = 'display_data';\n",
              "          await google.colab.output.renderOutput(dataTable, element);\n",
              "          const docLink = document.createElement('div');\n",
              "          docLink.innerHTML = docLinkHtml;\n",
              "          element.appendChild(docLink);\n",
              "        }\n",
              "      </script>\n",
              "    </div>\n",
              "  </div>\n",
              "  "
            ],
            "text/plain": [
              "           x-axis    y-axis     z-axis  number\n",
              "0        1.569064  1.019892  10.355822       0\n",
              "1       -1.216025 -1.647517  14.082349       0\n",
              "2       -2.588956 -3.020448  14.239256       0\n",
              "3       -4.354153 -3.491167  15.063014       0\n",
              "4       -4.040340 -3.491167  14.278482       0\n",
              "...           ...       ...        ...     ...\n",
              "1130123 -3.373488 -0.470719   8.159133       9\n",
              "1130124 -3.451941 -0.392266   8.002226       9\n",
              "1130125 -3.608847 -0.274586   8.394492       9\n",
              "1130126 -3.844207 -0.313813   8.472946       9\n",
              "1130127 -3.804980 -0.156906   8.551399       9\n",
              "\n",
              "[1130128 rows x 4 columns]"
            ]
          },
          "execution_count": 24,
          "metadata": {},
          "output_type": "execute_result"
        }
      ],
      "source": [
        "df=pd.DataFrame(data)\n",
        "df"
      ]
    },
    {
      "cell_type": "code",
      "execution_count": 25,
      "metadata": {
        "colab": {
          "base_uri": "https://localhost:8080/"
        },
        "id": "bTpAOO8lwdkc",
        "outputId": "109fd7e5-b411-4cfa-a204-ec9e5bae9825"
      },
      "outputs": [
        {
          "data": {
            "text/plain": [
              "4    119923\n",
              "3    119888\n",
              "2    119564\n",
              "0    119493\n",
              "1    119103\n",
              "5    106590\n",
              "9    106569\n",
              "8    106549\n",
              "6    106236\n",
              "7    106213\n",
              "Name: number, dtype: int64"
            ]
          },
          "execution_count": 25,
          "metadata": {},
          "output_type": "execute_result"
        }
      ],
      "source": [
        "df['number'].value_counts()"
      ]
    },
    {
      "cell_type": "markdown",
      "metadata": {
        "id": "uZfIIhq5wdkd"
      },
      "source": [
        "## Standardized data"
      ]
    },
    {
      "cell_type": "code",
      "execution_count": 26,
      "metadata": {
        "id": "yg7pWQetwdkf"
      },
      "outputs": [],
      "source": [
        "x=df[['x-axis','y-axis','z-axis']]\n",
        "y=df['number']\n",
        "scaler=StandardScaler()\n",
        "X=scaler.fit_transform(x)"
      ]
    },
    {
      "cell_type": "code",
      "execution_count": 27,
      "metadata": {
        "colab": {
          "base_uri": "https://localhost:8080/",
          "height": 424
        },
        "id": "u-yKL3uCwdkf",
        "outputId": "96b8a85a-8349-4ca5-ffb3-f9a2fa9b9cb1"
      },
      "outputs": [
        {
          "data": {
            "text/html": [
              "\n",
              "  <div id=\"df-86c431d9-1a1e-4ff4-b75e-9d5bd4d3881c\">\n",
              "    <div class=\"colab-df-container\">\n",
              "      <div>\n",
              "<style scoped>\n",
              "    .dataframe tbody tr th:only-of-type {\n",
              "        vertical-align: middle;\n",
              "    }\n",
              "\n",
              "    .dataframe tbody tr th {\n",
              "        vertical-align: top;\n",
              "    }\n",
              "\n",
              "    .dataframe thead th {\n",
              "        text-align: right;\n",
              "    }\n",
              "</style>\n",
              "<table border=\"1\" class=\"dataframe\">\n",
              "  <thead>\n",
              "    <tr style=\"text-align: right;\">\n",
              "      <th></th>\n",
              "      <th>x-axis</th>\n",
              "      <th>y-axis</th>\n",
              "      <th>z-axis</th>\n",
              "      <th>number</th>\n",
              "    </tr>\n",
              "  </thead>\n",
              "  <tbody>\n",
              "    <tr>\n",
              "      <th>0</th>\n",
              "      <td>0.981135</td>\n",
              "      <td>0.094412</td>\n",
              "      <td>0.618246</td>\n",
              "      <td>0</td>\n",
              "    </tr>\n",
              "    <tr>\n",
              "      <th>1</th>\n",
              "      <td>-0.005268</td>\n",
              "      <td>-0.552226</td>\n",
              "      <td>1.763181</td>\n",
              "      <td>0</td>\n",
              "    </tr>\n",
              "    <tr>\n",
              "      <th>2</th>\n",
              "      <td>-0.491523</td>\n",
              "      <td>-0.885054</td>\n",
              "      <td>1.811389</td>\n",
              "      <td>0</td>\n",
              "    </tr>\n",
              "    <tr>\n",
              "      <th>3</th>\n",
              "      <td>-1.116709</td>\n",
              "      <td>-0.999166</td>\n",
              "      <td>2.064480</td>\n",
              "      <td>0</td>\n",
              "    </tr>\n",
              "    <tr>\n",
              "      <th>4</th>\n",
              "      <td>-1.005565</td>\n",
              "      <td>-0.999166</td>\n",
              "      <td>1.823441</td>\n",
              "      <td>0</td>\n",
              "    </tr>\n",
              "    <tr>\n",
              "      <th>...</th>\n",
              "      <td>...</td>\n",
              "      <td>...</td>\n",
              "      <td>...</td>\n",
              "      <td>...</td>\n",
              "    </tr>\n",
              "    <tr>\n",
              "      <th>1130123</th>\n",
              "      <td>-0.769383</td>\n",
              "      <td>-0.266945</td>\n",
              "      <td>-0.056664</td>\n",
              "      <td>9</td>\n",
              "    </tr>\n",
              "    <tr>\n",
              "      <th>1130124</th>\n",
              "      <td>-0.797169</td>\n",
              "      <td>-0.247926</td>\n",
              "      <td>-0.104872</td>\n",
              "      <td>9</td>\n",
              "    </tr>\n",
              "    <tr>\n",
              "      <th>1130125</th>\n",
              "      <td>-0.852741</td>\n",
              "      <td>-0.219398</td>\n",
              "      <td>0.015648</td>\n",
              "      <td>9</td>\n",
              "    </tr>\n",
              "    <tr>\n",
              "      <th>1130126</th>\n",
              "      <td>-0.936100</td>\n",
              "      <td>-0.228907</td>\n",
              "      <td>0.039752</td>\n",
              "      <td>9</td>\n",
              "    </tr>\n",
              "    <tr>\n",
              "      <th>1130127</th>\n",
              "      <td>-0.922207</td>\n",
              "      <td>-0.190870</td>\n",
              "      <td>0.063856</td>\n",
              "      <td>9</td>\n",
              "    </tr>\n",
              "  </tbody>\n",
              "</table>\n",
              "<p>1130128 rows × 4 columns</p>\n",
              "</div>\n",
              "      <button class=\"colab-df-convert\" onclick=\"convertToInteractive('df-86c431d9-1a1e-4ff4-b75e-9d5bd4d3881c')\"\n",
              "              title=\"Convert this dataframe to an interactive table.\"\n",
              "              style=\"display:none;\">\n",
              "        \n",
              "  <svg xmlns=\"http://www.w3.org/2000/svg\" height=\"24px\"viewBox=\"0 0 24 24\"\n",
              "       width=\"24px\">\n",
              "    <path d=\"M0 0h24v24H0V0z\" fill=\"none\"/>\n",
              "    <path d=\"M18.56 5.44l.94 2.06.94-2.06 2.06-.94-2.06-.94-.94-2.06-.94 2.06-2.06.94zm-11 1L8.5 8.5l.94-2.06 2.06-.94-2.06-.94L8.5 2.5l-.94 2.06-2.06.94zm10 10l.94 2.06.94-2.06 2.06-.94-2.06-.94-.94-2.06-.94 2.06-2.06.94z\"/><path d=\"M17.41 7.96l-1.37-1.37c-.4-.4-.92-.59-1.43-.59-.52 0-1.04.2-1.43.59L10.3 9.45l-7.72 7.72c-.78.78-.78 2.05 0 2.83L4 21.41c.39.39.9.59 1.41.59.51 0 1.02-.2 1.41-.59l7.78-7.78 2.81-2.81c.8-.78.8-2.07 0-2.86zM5.41 20L4 18.59l7.72-7.72 1.47 1.35L5.41 20z\"/>\n",
              "  </svg>\n",
              "      </button>\n",
              "      \n",
              "  <style>\n",
              "    .colab-df-container {\n",
              "      display:flex;\n",
              "      flex-wrap:wrap;\n",
              "      gap: 12px;\n",
              "    }\n",
              "\n",
              "    .colab-df-convert {\n",
              "      background-color: #E8F0FE;\n",
              "      border: none;\n",
              "      border-radius: 50%;\n",
              "      cursor: pointer;\n",
              "      display: none;\n",
              "      fill: #1967D2;\n",
              "      height: 32px;\n",
              "      padding: 0 0 0 0;\n",
              "      width: 32px;\n",
              "    }\n",
              "\n",
              "    .colab-df-convert:hover {\n",
              "      background-color: #E2EBFA;\n",
              "      box-shadow: 0px 1px 2px rgba(60, 64, 67, 0.3), 0px 1px 3px 1px rgba(60, 64, 67, 0.15);\n",
              "      fill: #174EA6;\n",
              "    }\n",
              "\n",
              "    [theme=dark] .colab-df-convert {\n",
              "      background-color: #3B4455;\n",
              "      fill: #D2E3FC;\n",
              "    }\n",
              "\n",
              "    [theme=dark] .colab-df-convert:hover {\n",
              "      background-color: #434B5C;\n",
              "      box-shadow: 0px 1px 3px 1px rgba(0, 0, 0, 0.15);\n",
              "      filter: drop-shadow(0px 1px 2px rgba(0, 0, 0, 0.3));\n",
              "      fill: #FFFFFF;\n",
              "    }\n",
              "  </style>\n",
              "\n",
              "      <script>\n",
              "        const buttonEl =\n",
              "          document.querySelector('#df-86c431d9-1a1e-4ff4-b75e-9d5bd4d3881c button.colab-df-convert');\n",
              "        buttonEl.style.display =\n",
              "          google.colab.kernel.accessAllowed ? 'block' : 'none';\n",
              "\n",
              "        async function convertToInteractive(key) {\n",
              "          const element = document.querySelector('#df-86c431d9-1a1e-4ff4-b75e-9d5bd4d3881c');\n",
              "          const dataTable =\n",
              "            await google.colab.kernel.invokeFunction('convertToInteractive',\n",
              "                                                     [key], {});\n",
              "          if (!dataTable) return;\n",
              "\n",
              "          const docLinkHtml = 'Like what you see? Visit the ' +\n",
              "            '<a target=\"_blank\" href=https://colab.research.google.com/notebooks/data_table.ipynb>data table notebook</a>'\n",
              "            + ' to learn more about interactive tables.';\n",
              "          element.innerHTML = '';\n",
              "          dataTable['output_type'] = 'display_data';\n",
              "          await google.colab.output.renderOutput(dataTable, element);\n",
              "          const docLink = document.createElement('div');\n",
              "          docLink.innerHTML = docLinkHtml;\n",
              "          element.appendChild(docLink);\n",
              "        }\n",
              "      </script>\n",
              "    </div>\n",
              "  </div>\n",
              "  "
            ],
            "text/plain": [
              "           x-axis    y-axis    z-axis  number\n",
              "0        0.981135  0.094412  0.618246       0\n",
              "1       -0.005268 -0.552226  1.763181       0\n",
              "2       -0.491523 -0.885054  1.811389       0\n",
              "3       -1.116709 -0.999166  2.064480       0\n",
              "4       -1.005565 -0.999166  1.823441       0\n",
              "...           ...       ...       ...     ...\n",
              "1130123 -0.769383 -0.266945 -0.056664       9\n",
              "1130124 -0.797169 -0.247926 -0.104872       9\n",
              "1130125 -0.852741 -0.219398  0.015648       9\n",
              "1130126 -0.936100 -0.228907  0.039752       9\n",
              "1130127 -0.922207 -0.190870  0.063856       9\n",
              "\n",
              "[1130128 rows x 4 columns]"
            ]
          },
          "execution_count": 27,
          "metadata": {},
          "output_type": "execute_result"
        }
      ],
      "source": [
        "scaled_X=pd.DataFrame(data=X,columns=['x-axis','y-axis','z-axis'])\n",
        "scaled_X['number']=y.values\n",
        "\n",
        "scaled_X"
      ]
    },
    {
      "cell_type": "code",
      "execution_count": 28,
      "metadata": {
        "id": "V5GDH474wdkg"
      },
      "outputs": [],
      "source": [
        "fs=20\n",
        "frame_size=fs*10\n",
        "hop_size=fs*2"
      ]
    },
    {
      "cell_type": "code",
      "execution_count": 29,
      "metadata": {
        "id": "td_U43kAwdkh"
      },
      "outputs": [],
      "source": [
        "def get_frames(df,frame_size,hop_size):\n",
        "    N_FEATURES=3\n",
        "    \n",
        "    frames=[]\n",
        "    lables=[]\n",
        "    for i in range(0,len(df)-frame_size,hop_size):\n",
        "        x=df['x-axis'].values[i: i+frame_size]\n",
        "        y=df['y-axis'].values[i: i+frame_size]\n",
        "        z=df['z-axis'].values[i: i+frame_size]   \n",
        "        \n",
        "        lable = stats.mode(df['number'][i: i+frame_size])[0][0]\n",
        "        frames.append([x,y,z])\n",
        "        lables.append(lable)\n",
        "    frames=np.asarray(frames).reshape(-1,frame_size,N_FEATURES)\n",
        "    lables=np.asarray(lables)\n",
        "    \n",
        "    return frames ,lables"
      ]
    },
    {
      "cell_type": "code",
      "execution_count": 30,
      "metadata": {
        "id": "Xbc2_w2Gwdkh"
      },
      "outputs": [],
      "source": [
        "X_x,Y_y=get_frames(df,frame_size,hop_size)"
      ]
    },
    {
      "cell_type": "code",
      "execution_count": 31,
      "metadata": {
        "colab": {
          "base_uri": "https://localhost:8080/"
        },
        "id": "H_y_6CRuwdkh",
        "outputId": "684131fe-547b-42d7-bad1-196f98c0a1f7"
      },
      "outputs": [
        {
          "data": {
            "text/plain": [
              "((28249, 200, 3), (28249,))"
            ]
          },
          "execution_count": 31,
          "metadata": {},
          "output_type": "execute_result"
        }
      ],
      "source": [
        "X_x.shape , Y_y.shape"
      ]
    },
    {
      "cell_type": "code",
      "execution_count": 32,
      "metadata": {
        "id": "I8GTJOZFwdki"
      },
      "outputs": [],
      "source": [
        "X_train , X_test, y_train, y_test = train_test_split(X_x,Y_y,test_size=0.2,random_state=0,stratify=Y_y)"
      ]
    },
    {
      "cell_type": "code",
      "execution_count": 33,
      "metadata": {
        "colab": {
          "base_uri": "https://localhost:8080/"
        },
        "id": "BlQQ2ZmBwdki",
        "outputId": "54fee2dd-cbf4-4fea-fa6f-147fa879b911"
      },
      "outputs": [
        {
          "data": {
            "text/plain": [
              "((5650, 200, 3), (22599, 200, 3), (5650,), (22599,))"
            ]
          },
          "execution_count": 33,
          "metadata": {},
          "output_type": "execute_result"
        }
      ],
      "source": [
        "X_test.shape,X_train.shape,y_test.shape,y_train.shape"
      ]
    },
    {
      "cell_type": "code",
      "execution_count": 34,
      "metadata": {
        "id": "P5i4TI-lwdki"
      },
      "outputs": [],
      "source": [
        "X_test= X_test.reshape(5650, 200, 3, 1)\n",
        "X_train=X_train.reshape(22599, 200, 3, 1)"
      ]
    },
    {
      "cell_type": "code",
      "execution_count": 35,
      "metadata": {
        "colab": {
          "base_uri": "https://localhost:8080/"
        },
        "id": "ryUCS0q0wdki",
        "outputId": "ea89031d-192f-43fb-b888-7d54d9ebf1be"
      },
      "outputs": [
        {
          "data": {
            "text/plain": [
              "((5650, 200, 3, 1), (22599, 200, 3, 1))"
            ]
          },
          "execution_count": 35,
          "metadata": {},
          "output_type": "execute_result"
        }
      ],
      "source": [
        "X_test.shape,X_train.shape"
      ]
    },
    {
      "cell_type": "markdown",
      "metadata": {
        "id": "crfUYj_Iwdkj"
      },
      "source": [
        "### 2D CNN Model"
      ]
    },
    {
      "cell_type": "code",
      "execution_count": 36,
      "metadata": {
        "id": "WEriRR-Wwdkj"
      },
      "outputs": [],
      "source": [
        "model=Sequential()\n",
        "model.add(Conv2D(16, (2,2), activation = 'relu', input_shape= X_train[0].shape))\n",
        "model.add(Dropout(0.1))\n",
        "\n",
        "model.add(Conv2D(32, (2,2), activation = 'relu'))\n",
        "model.add(Dropout(0.2))\n",
        "\n",
        "model.add(Flatten())\n",
        "\n",
        "model.add(Dense(64, activation='relu'))\n",
        "model.add(Dropout(0.5))\n",
        "\n",
        "model.add(Dense(10, activation='softmax'))"
      ]
    },
    {
      "cell_type": "code",
      "execution_count": 45,
      "metadata": {
        "id": "5gtpM50Jdedq"
      },
      "outputs": [],
      "source": [
        "early_stopping = EarlyStopping(monitor='val_accuracy', \n",
        "    patience=8, \n",
        "    min_delta=0.001, \n",
        "    mode='max')"
      ]
    },
    {
      "cell_type": "code",
      "execution_count": 46,
      "metadata": {
        "id": "cV7oOtNlwdkj"
      },
      "outputs": [],
      "source": [
        "model.compile(optimizer=Adam(learning_rate = 0.0005), loss = 'sparse_categorical_crossentropy', metrics = ['accuracy'])"
      ]
    },
    {
      "cell_type": "code",
      "execution_count": 47,
      "metadata": {
        "colab": {
          "base_uri": "https://localhost:8080/"
        },
        "id": "fqYlKcF-wdkj",
        "outputId": "b367d705-fae7-4010-856b-a57bddeb935b"
      },
      "outputs": [
        {
          "name": "stdout",
          "output_type": "stream",
          "text": [
            "Epoch 1/12\n",
            "22599/22599 [==============================] - 279s 12ms/step - loss: 0.5730 - accuracy: 0.8121 - val_loss: 0.1919 - val_accuracy: 0.9481\n",
            "Epoch 2/12\n",
            "22599/22599 [==============================] - 309s 14ms/step - loss: 0.5448 - accuracy: 0.8206 - val_loss: 0.2849 - val_accuracy: 0.9219\n",
            "Epoch 3/12\n",
            "22599/22599 [==============================] - 284s 13ms/step - loss: 0.5459 - accuracy: 0.8215 - val_loss: 0.2283 - val_accuracy: 0.9423\n",
            "Epoch 4/12\n",
            "22599/22599 [==============================] - 203s 9ms/step - loss: 0.5264 - accuracy: 0.8257 - val_loss: 0.2239 - val_accuracy: 0.9395\n",
            "Epoch 5/12\n",
            "22599/22599 [==============================] - 203s 9ms/step - loss: 0.5255 - accuracy: 0.8259 - val_loss: 0.1821 - val_accuracy: 0.9496\n",
            "Epoch 6/12\n",
            "22599/22599 [==============================] - 205s 9ms/step - loss: 0.5324 - accuracy: 0.8238 - val_loss: 0.1956 - val_accuracy: 0.9517\n",
            "Epoch 7/12\n",
            "22599/22599 [==============================] - 204s 9ms/step - loss: 0.5270 - accuracy: 0.8285 - val_loss: 0.2032 - val_accuracy: 0.9481\n",
            "Epoch 8/12\n",
            "22599/22599 [==============================] - 202s 9ms/step - loss: 0.5476 - accuracy: 0.8220 - val_loss: 0.1979 - val_accuracy: 0.9496\n",
            "Epoch 9/12\n",
            "22599/22599 [==============================] - 203s 9ms/step - loss: 0.5410 - accuracy: 0.8239 - val_loss: 0.2435 - val_accuracy: 0.9395\n",
            "Epoch 10/12\n",
            "22599/22599 [==============================] - 213s 9ms/step - loss: 0.5396 - accuracy: 0.8254 - val_loss: 0.2332 - val_accuracy: 0.9455\n",
            "Epoch 11/12\n",
            "22599/22599 [==============================] - 218s 10ms/step - loss: 0.5415 - accuracy: 0.8228 - val_loss: 0.1842 - val_accuracy: 0.9538\n",
            "Epoch 12/12\n",
            "22599/22599 [==============================] - 213s 9ms/step - loss: 0.5392 - accuracy: 0.8217 - val_loss: 0.1771 - val_accuracy: 0.9561\n"
          ]
        }
      ],
      "source": [
        "history = model.fit(X_train, y_train, epochs = 12, batch_size=1, validation_data= (X_test, y_test),verbose=1,callbacks=[early_stopping])"
      ]
    },
    {
      "cell_type": "code",
      "execution_count": 48,
      "metadata": {
        "colab": {
          "base_uri": "https://localhost:8080/",
          "height": 295
        },
        "id": "b0TLtTjtHy6x",
        "outputId": "303bebb7-c470-4b87-b5e4-07b90a8b2f18"
      },
      "outputs": [
        {
          "data": {
            "image/png": "[encoded data removed]",
            "text/plain": [
              "<Figure size 432x288 with 1 Axes>"
            ]
          },
          "metadata": {
            "needs_background": "light"
          },
          "output_type": "display_data"
        }
      ],
      "source": [
        "plt.plot(history.history['accuracy'])\n",
        "plt.plot(history.history['val_accuracy'])\n",
        "plt.title('model accuracy')\n",
        "plt.ylabel('accuracy')\n",
        "plt.xlabel('epoch')\n",
        "plt.legend(['train', 'val'], loc='upper left')\n",
        "plt.show()"
      ]
    },
    {
      "cell_type": "code",
      "execution_count": 49,
      "metadata": {
        "id": "KzmAXFO-IIeL"
      },
      "outputs": [],
      "source": [
        "model.save('/content/drive/MyDrive/air/fmodel.h5',save_format='h5')\n",
        "# !ls /content/drive/MyDrive/air/"
      ]
    },
    {
      "cell_type": "code",
      "execution_count": 50,
      "metadata": {
        "colab": {
          "base_uri": "https://localhost:8080/",
          "height": 295
        },
        "id": "qe3fnE8LLupD",
        "outputId": "b31ef17c-74a0-4588-b783-f25b1aca0ee1"
      },
      "outputs": [
        {
          "data": {
            "image/png": "[encoded data removed]",
            "text/plain": [
              "<Figure size 432x288 with 1 Axes>"
            ]
          },
          "metadata": {},
          "output_type": "display_data"
        }
      ],
      "source": [
        "plt.plot(history.history['loss'])\n",
        "plt.plot(history.history['val_loss'])\n",
        "plt.title('model loss')\n",
        "plt.ylabel('loss')\n",
        "plt.xlabel('epoch')\n",
        "plt.legend(['train', 'val'], loc='upper left')\n",
        "plt.show()"
      ]
    },
    {
      "cell_type": "code",
      "execution_count": 51,
      "metadata": {
        "colab": {
          "base_uri": "https://localhost:8080/"
        },
        "id": "Q8dIgCFVcHkX",
        "outputId": "7182dd72-21a9-4740-efc4-1fc27c7261c6"
      },
      "outputs": [
        {
          "name": "stdout",
          "output_type": "stream",
          "text": [
            "1/1 [==============================] - 0s 203ms/step\n",
            "[[2.6111455e-10 2.3458372e-20 6.3567063e-09 1.0418373e-08 9.9999142e-01\n",
            "  2.1713031e-06 1.2286278e-10 4.3175896e-07 9.2616878e-15 6.0141028e-06]]\n",
            "(array([0]), array([4]))\n"
          ]
        }
      ],
      "source": [
        "p=model.predict(X_test[:1])\n",
        "a=max((p.max(axis=0)))\n",
        "print(p)\n",
        "s=np.where(p==a)#index of the max \n",
        "#print(X_test[:1])\n",
        "print(s)"
      ]
    },
    {
      "cell_type": "code",
      "execution_count": 52,
      "metadata": {
        "colab": {
          "base_uri": "https://localhost:8080/"
        },
        "id": "uREnR_Ia6O9D",
        "outputId": "2c9a2cd7-d603-4168-b0e8-1eb3e136860e"
      },
      "outputs": [
        {
          "name": "stdout",
          "output_type": "stream",
          "text": [
            "Model: \"sequential\"\n",
            "_________________________________________________________________\n",
            " Layer (type)                Output Shape              Param #   \n",
            "=================================================================\n",
            " conv2d (Conv2D)             (None, 199, 2, 16)        80        \n",
            "                                                                 \n",
            " dropout (Dropout)           (None, 199, 2, 16)        0         \n",
            "                                                                 \n",
            " conv2d_1 (Conv2D)           (None, 198, 1, 32)        2080      \n",
            "                                                                 \n",
            " dropout_1 (Dropout)         (None, 198, 1, 32)        0         \n",
            "                                                                 \n",
            " flatten (Flatten)           (None, 6336)              0         \n",
            "                                                                 \n",
            " dense (Dense)               (None, 64)                405568    \n",
            "                                                                 \n",
            " dropout_2 (Dropout)         (None, 64)                0         \n",
            "                                                                 \n",
            " dense_1 (Dense)             (None, 10)                650       \n",
            "                                                                 \n",
            "=================================================================\n",
            "Total params: 408,378\n",
            "Trainable params: 408,378\n",
            "Non-trainable params: 0\n",
            "_________________________________________________________________\n"
          ]
        }
      ],
      "source": [
        "model.summary()"
      ]
    },
    {
      "cell_type": "code",
      "execution_count": 54,
      "metadata": {
        "colab": {
          "base_uri": "https://localhost:8080/",
          "height": 281
        },
        "id": "r3u2Or042dSq",
        "outputId": "b9d42e2a-4404-4111-a15c-f37c79820c77"
      },
      "outputs": [
        {
          "data": {
            "image/png": "[encoded data removed]",
            "text/plain": [
              "<Figure size 432x288 with 1 Axes>"
            ]
          },
          "metadata": {
            "needs_background": "light"
          },
          "output_type": "display_data"
        }
      ],
      "source": [
        "for i in range(0,1):\n",
        "  plt.plot(np.arange(0,100),df['x-axis'][df['number'] == i][:100], label='X-axis')\n",
        "  plt.plot(np.arange (0,100),df['y-axis'][df['number'] == i][:100], label='Y-axis')\n",
        "  plt.plot(np.arange (0,100),df['z-axis'][df['number'] == i][:100], label='Z-axis')\n",
        "  plt.title(str(i)+\"Graph\")\n",
        "  plt.legend()"
      ]
    }
  ],
  "metadata": {
    "colab": {
      "provenance": []
    },
    "kernelspec": {
      "display_name": "Python 3",
      "language": "python",
      "name": "python3"
    },
    "language_info": {
      "codemirror_mode": {
        "name": "ipython",
        "version": 3
      },
      "file_extension": ".py",
      "mimetype": "text/x-python",
      "name": "python",
      "nbconvert_exporter": "python",
      "pygments_lexer": "ipython3",
      "version": "3.10.9 (main, Dec 15 2022, 10:44:50) [Clang 14.0.0 (clang-1400.0.29.202)]"
    },
    "vscode": {
      "interpreter": {
        "hash": "b0fa6594d8f4cbf19f97940f81e996739fb7646882a419484c72d19e05852a7e"
      }
    }
  },
  "nbformat": 4,
  "nbformat_minor": 0
}
