{
  "cells": [
    {
      "cell_type": "code",
      "execution_count": 2,
      "metadata": {
        "colab": {
          "base_uri": "https://localhost:8080/"
        },
        "id": "nI7A4zLSGZ4N",
        "outputId": "c3c486c9-0ed9-4008-fbe7-b78ef28c7770"
      },
      "outputs": [
        {
          "name": "stdout",
          "output_type": "stream",
          "text": [
            "Mounted at /content/drive\n"
          ]
        }
      ],
      "source": [
        "from google.colab import drive\n",
        "drive.mount('/content/drive')"
      ]
    },
    {
      "cell_type": "code",
      "execution_count": 3,
      "metadata": {
        "id": "jpxw8QqDG-XU"
      },
      "outputs": [],
      "source": [
        "import pandas as pd\n",
        "import numpy as np\n",
        "from sklearn.preprocessing import StandardScaler\n",
        "import scipy.stats as stats\n",
        "from sklearn.model_selection import train_test_split\n",
        "from keras.models import Sequential\n",
        "\n",
        "from tensorflow.keras.layers import Conv2D ,Dropout, Flatten, Dense, MaxPooling2D, InputLayer\n",
        "from tensorflow.keras.optimizers import Adam , RMSprop\n",
        "from tensorflow.keras.callbacks import EarlyStopping\n",
        "import matplotlib.pyplot as plt\n"
      ]
    },
    {
      "cell_type": "code",
      "execution_count": 4,
      "metadata": {
        "id": "9vwP8nWVHBrA"
      },
      "outputs": [],
      "source": [
        "data=pd.read_csv('/content/drive/MyDrive/air/data.csv')"
      ]
    },
    {
      "cell_type": "code",
      "execution_count": 5,
      "metadata": {
        "colab": {
          "base_uri": "https://localhost:8080/",
          "height": 423
        },
        "id": "SuPa6eQmHE92",
        "outputId": "4f0adfec-7206-4fb6-a7ed-c0251dbcc469"
      },
      "outputs": [
        {
          "data": {
            "text/html": [
              "\n",
              "  <div id=\"df-b57ce159-bd6a-4705-82cb-58e320858294\">\n",
              "    <div class=\"colab-df-container\">\n",
              "      <div>\n",
              "<style scoped>\n",
              "    .dataframe tbody tr th:only-of-type {\n",
              "        vertical-align: middle;\n",
              "    }\n",
              "\n",
              "    .dataframe tbody tr th {\n",
              "        vertical-align: top;\n",
              "    }\n",
              "\n",
              "    .dataframe thead th {\n",
              "        text-align: right;\n",
              "    }\n",
              "</style>\n",
              "<table border=\"1\" class=\"dataframe\">\n",
              "  <thead>\n",
              "    <tr style=\"text-align: right;\">\n",
              "      <th></th>\n",
              "      <th>x-axis</th>\n",
              "      <th>y-axis</th>\n",
              "      <th>z-axis</th>\n",
              "      <th>number</th>\n",
              "    </tr>\n",
              "  </thead>\n",
              "  <tbody>\n",
              "    <tr>\n",
              "      <th>0</th>\n",
              "      <td>1.569064</td>\n",
              "      <td>1.019892</td>\n",
              "      <td>10.355822</td>\n",
              "      <td>0</td>\n",
              "    </tr>\n",
              "    <tr>\n",
              "      <th>1</th>\n",
              "      <td>-1.216025</td>\n",
              "      <td>-1.647517</td>\n",
              "      <td>14.082349</td>\n",
              "      <td>0</td>\n",
              "    </tr>\n",
              "    <tr>\n",
              "      <th>2</th>\n",
              "      <td>-2.588956</td>\n",
              "      <td>-3.020448</td>\n",
              "      <td>14.239256</td>\n",
              "      <td>0</td>\n",
              "    </tr>\n",
              "    <tr>\n",
              "      <th>3</th>\n",
              "      <td>-4.354153</td>\n",
              "      <td>-3.491167</td>\n",
              "      <td>15.063014</td>\n",
              "      <td>0</td>\n",
              "    </tr>\n",
              "    <tr>\n",
              "      <th>4</th>\n",
              "      <td>-4.040340</td>\n",
              "      <td>-3.491167</td>\n",
              "      <td>14.278482</td>\n",
              "      <td>0</td>\n",
              "    </tr>\n",
              "    <tr>\n",
              "      <th>...</th>\n",
              "      <td>...</td>\n",
              "      <td>...</td>\n",
              "      <td>...</td>\n",
              "      <td>...</td>\n",
              "    </tr>\n",
              "    <tr>\n",
              "      <th>1130123</th>\n",
              "      <td>-3.373488</td>\n",
              "      <td>-0.470719</td>\n",
              "      <td>8.159133</td>\n",
              "      <td>9</td>\n",
              "    </tr>\n",
              "    <tr>\n",
              "      <th>1130124</th>\n",
              "      <td>-3.451941</td>\n",
              "      <td>-0.392266</td>\n",
              "      <td>8.002226</td>\n",
              "      <td>9</td>\n",
              "    </tr>\n",
              "    <tr>\n",
              "      <th>1130125</th>\n",
              "      <td>-3.608847</td>\n",
              "      <td>-0.274586</td>\n",
              "      <td>8.394492</td>\n",
              "      <td>9</td>\n",
              "    </tr>\n",
              "    <tr>\n",
              "      <th>1130126</th>\n",
              "      <td>-3.844207</td>\n",
              "      <td>-0.313813</td>\n",
              "      <td>8.472946</td>\n",
              "      <td>9</td>\n",
              "    </tr>\n",
              "    <tr>\n",
              "      <th>1130127</th>\n",
              "      <td>-3.804980</td>\n",
              "      <td>-0.156906</td>\n",
              "      <td>8.551399</td>\n",
              "      <td>9</td>\n",
              "    </tr>\n",
              "  </tbody>\n",
              "</table>\n",
              "<p>1130128 rows × 4 columns</p>\n",
              "</div>\n",
              "      <button class=\"colab-df-convert\" onclick=\"convertToInteractive('df-b57ce159-bd6a-4705-82cb-58e320858294')\"\n",
              "              title=\"Convert this dataframe to an interactive table.\"\n",
              "              style=\"display:none;\">\n",
              "        \n",
              "  <svg xmlns=\"http://www.w3.org/2000/svg\" height=\"24px\"viewBox=\"0 0 24 24\"\n",
              "       width=\"24px\">\n",
              "    <path d=\"M0 0h24v24H0V0z\" fill=\"none\"/>\n",
              "    <path d=\"M18.56 5.44l.94 2.06.94-2.06 2.06-.94-2.06-.94-.94-2.06-.94 2.06-2.06.94zm-11 1L8.5 8.5l.94-2.06 2.06-.94-2.06-.94L8.5 2.5l-.94 2.06-2.06.94zm10 10l.94 2.06.94-2.06 2.06-.94-2.06-.94-.94-2.06-.94 2.06-2.06.94z\"/><path d=\"M17.41 7.96l-1.37-1.37c-.4-.4-.92-.59-1.43-.59-.52 0-1.04.2-1.43.59L10.3 9.45l-7.72 7.72c-.78.78-.78 2.05 0 2.83L4 21.41c.39.39.9.59 1.41.59.51 0 1.02-.2 1.41-.59l7.78-7.78 2.81-2.81c.8-.78.8-2.07 0-2.86zM5.41 20L4 18.59l7.72-7.72 1.47 1.35L5.41 20z\"/>\n",
              "  </svg>\n",
              "      </button>\n",
              "      \n",
              "  <style>\n",
              "    .colab-df-container {\n",
              "      display:flex;\n",
              "      flex-wrap:wrap;\n",
              "      gap: 12px;\n",
              "    }\n",
              "\n",
              "    .colab-df-convert {\n",
              "      background-color: #E8F0FE;\n",
              "      border: none;\n",
              "      border-radius: 50%;\n",
              "      cursor: pointer;\n",
              "      display: none;\n",
              "      fill: #1967D2;\n",
              "      height: 32px;\n",
              "      padding: 0 0 0 0;\n",
              "      width: 32px;\n",
              "    }\n",
              "\n",
              "    .colab-df-convert:hover {\n",
              "      background-color: #E2EBFA;\n",
              "      box-shadow: 0px 1px 2px rgba(60, 64, 67, 0.3), 0px 1px 3px 1px rgba(60, 64, 67, 0.15);\n",
              "      fill: #174EA6;\n",
              "    }\n",
              "\n",
              "    [theme=dark] .colab-df-convert {\n",
              "      background-color: #3B4455;\n",
              "      fill: #D2E3FC;\n",
              "    }\n",
              "\n",
              "    [theme=dark] .colab-df-convert:hover {\n",
              "      background-color: #434B5C;\n",
              "      box-shadow: 0px 1px 3px 1px rgba(0, 0, 0, 0.15);\n",
              "      filter: drop-shadow(0px 1px 2px rgba(0, 0, 0, 0.3));\n",
              "      fill: #FFFFFF;\n",
              "    }\n",
              "  </style>\n",
              "\n",
              "      <script>\n",
              "        const buttonEl =\n",
              "          document.querySelector('#df-b57ce159-bd6a-4705-82cb-58e320858294 button.colab-df-convert');\n",
              "        buttonEl.style.display =\n",
              "          google.colab.kernel.accessAllowed ? 'block' : 'none';\n",
              "\n",
              "        async function convertToInteractive(key) {\n",
              "          const element = document.querySelector('#df-b57ce159-bd6a-4705-82cb-58e320858294');\n",
              "          const dataTable =\n",
              "            await google.colab.kernel.invokeFunction('convertToInteractive',\n",
              "                                                     [key], {});\n",
              "          if (!dataTable) return;\n",
              "\n",
              "          const docLinkHtml = 'Like what you see? Visit the ' +\n",
              "            '<a target=\"_blank\" href=https://colab.research.google.com/notebooks/data_table.ipynb>data table notebook</a>'\n",
              "            + ' to learn more about interactive tables.';\n",
              "          element.innerHTML = '';\n",
              "          dataTable['output_type'] = 'display_data';\n",
              "          await google.colab.output.renderOutput(dataTable, element);\n",
              "          const docLink = document.createElement('div');\n",
              "          docLink.innerHTML = docLinkHtml;\n",
              "          element.appendChild(docLink);\n",
              "        }\n",
              "      </script>\n",
              "    </div>\n",
              "  </div>\n",
              "  "
            ],
            "text/plain": [
              "           x-axis    y-axis     z-axis  number\n",
              "0        1.569064  1.019892  10.355822       0\n",
              "1       -1.216025 -1.647517  14.082349       0\n",
              "2       -2.588956 -3.020448  14.239256       0\n",
              "3       -4.354153 -3.491167  15.063014       0\n",
              "4       -4.040340 -3.491167  14.278482       0\n",
              "...           ...       ...        ...     ...\n",
              "1130123 -3.373488 -0.470719   8.159133       9\n",
              "1130124 -3.451941 -0.392266   8.002226       9\n",
              "1130125 -3.608847 -0.274586   8.394492       9\n",
              "1130126 -3.844207 -0.313813   8.472946       9\n",
              "1130127 -3.804980 -0.156906   8.551399       9\n",
              "\n",
              "[1130128 rows x 4 columns]"
            ]
          },
          "execution_count": 5,
          "metadata": {},
          "output_type": "execute_result"
        }
      ],
      "source": [
        "df=pd.DataFrame(data)\n",
        "df"
      ]
    },
    {
      "cell_type": "code",
      "execution_count": 6,
      "metadata": {
        "colab": {
          "base_uri": "https://localhost:8080/"
        },
        "id": "d6RdzMVQHIHP",
        "outputId": "aeebbae3-2154-415e-8f3d-53ab623107af"
      },
      "outputs": [
        {
          "data": {
            "text/plain": [
              "4    119923\n",
              "3    119888\n",
              "2    119564\n",
              "0    119493\n",
              "1    119103\n",
              "5    106590\n",
              "9    106569\n",
              "8    106549\n",
              "6    106236\n",
              "7    106213\n",
              "Name: number, dtype: int64"
            ]
          },
          "execution_count": 6,
          "metadata": {},
          "output_type": "execute_result"
        }
      ],
      "source": [
        "df['number'].value_counts()"
      ]
    },
    {
      "cell_type": "code",
      "execution_count": 7,
      "metadata": {
        "id": "XMcoClGJHKpx"
      },
      "outputs": [],
      "source": [
        "x=df[['x-axis','y-axis','z-axis']]\n",
        "y=df['number']\n",
        "scaler=StandardScaler()\n",
        "X=scaler.fit_transform(x)"
      ]
    },
    {
      "cell_type": "markdown",
      "metadata": {
        "id": "iUZQNjz4HnGE"
      },
      "source": [
        "## Standardized data"
      ]
    },
    {
      "cell_type": "code",
      "execution_count": 8,
      "metadata": {
        "colab": {
          "base_uri": "https://localhost:8080/",
          "height": 423
        },
        "id": "Sm4FU1PeHMGe",
        "outputId": "98b9228c-d321-4238-fa29-b498af7a7111"
      },
      "outputs": [
        {
          "data": {
            "text/html": [
              "\n",
              "  <div id=\"df-58d2a855-8b58-4d37-8d49-3595751c828f\">\n",
              "    <div class=\"colab-df-container\">\n",
              "      <div>\n",
              "<style scoped>\n",
              "    .dataframe tbody tr th:only-of-type {\n",
              "        vertical-align: middle;\n",
              "    }\n",
              "\n",
              "    .dataframe tbody tr th {\n",
              "        vertical-align: top;\n",
              "    }\n",
              "\n",
              "    .dataframe thead th {\n",
              "        text-align: right;\n",
              "    }\n",
              "</style>\n",
              "<table border=\"1\" class=\"dataframe\">\n",
              "  <thead>\n",
              "    <tr style=\"text-align: right;\">\n",
              "      <th></th>\n",
              "      <th>x-axis</th>\n",
              "      <th>y-axis</th>\n",
              "      <th>z-axis</th>\n",
              "      <th>number</th>\n",
              "    </tr>\n",
              "  </thead>\n",
              "  <tbody>\n",
              "    <tr>\n",
              "      <th>0</th>\n",
              "      <td>0.981135</td>\n",
              "      <td>0.094412</td>\n",
              "      <td>0.618246</td>\n",
              "      <td>0</td>\n",
              "    </tr>\n",
              "    <tr>\n",
              "      <th>1</th>\n",
              "      <td>-0.005268</td>\n",
              "      <td>-0.552226</td>\n",
              "      <td>1.763181</td>\n",
              "      <td>0</td>\n",
              "    </tr>\n",
              "    <tr>\n",
              "      <th>2</th>\n",
              "      <td>-0.491523</td>\n",
              "      <td>-0.885054</td>\n",
              "      <td>1.811389</td>\n",
              "      <td>0</td>\n",
              "    </tr>\n",
              "    <tr>\n",
              "      <th>3</th>\n",
              "      <td>-1.116709</td>\n",
              "      <td>-0.999166</td>\n",
              "      <td>2.064480</td>\n",
              "      <td>0</td>\n",
              "    </tr>\n",
              "    <tr>\n",
              "      <th>4</th>\n",
              "      <td>-1.005565</td>\n",
              "      <td>-0.999166</td>\n",
              "      <td>1.823441</td>\n",
              "      <td>0</td>\n",
              "    </tr>\n",
              "    <tr>\n",
              "      <th>...</th>\n",
              "      <td>...</td>\n",
              "      <td>...</td>\n",
              "      <td>...</td>\n",
              "      <td>...</td>\n",
              "    </tr>\n",
              "    <tr>\n",
              "      <th>1130123</th>\n",
              "      <td>-0.769383</td>\n",
              "      <td>-0.266945</td>\n",
              "      <td>-0.056664</td>\n",
              "      <td>9</td>\n",
              "    </tr>\n",
              "    <tr>\n",
              "      <th>1130124</th>\n",
              "      <td>-0.797169</td>\n",
              "      <td>-0.247926</td>\n",
              "      <td>-0.104872</td>\n",
              "      <td>9</td>\n",
              "    </tr>\n",
              "    <tr>\n",
              "      <th>1130125</th>\n",
              "      <td>-0.852741</td>\n",
              "      <td>-0.219398</td>\n",
              "      <td>0.015648</td>\n",
              "      <td>9</td>\n",
              "    </tr>\n",
              "    <tr>\n",
              "      <th>1130126</th>\n",
              "      <td>-0.936100</td>\n",
              "      <td>-0.228907</td>\n",
              "      <td>0.039752</td>\n",
              "      <td>9</td>\n",
              "    </tr>\n",
              "    <tr>\n",
              "      <th>1130127</th>\n",
              "      <td>-0.922207</td>\n",
              "      <td>-0.190870</td>\n",
              "      <td>0.063856</td>\n",
              "      <td>9</td>\n",
              "    </tr>\n",
              "  </tbody>\n",
              "</table>\n",
              "<p>1130128 rows × 4 columns</p>\n",
              "</div>\n",
              "      <button class=\"colab-df-convert\" onclick=\"convertToInteractive('df-58d2a855-8b58-4d37-8d49-3595751c828f')\"\n",
              "              title=\"Convert this dataframe to an interactive table.\"\n",
              "              style=\"display:none;\">\n",
              "        \n",
              "  <svg xmlns=\"http://www.w3.org/2000/svg\" height=\"24px\"viewBox=\"0 0 24 24\"\n",
              "       width=\"24px\">\n",
              "    <path d=\"M0 0h24v24H0V0z\" fill=\"none\"/>\n",
              "    <path d=\"M18.56 5.44l.94 2.06.94-2.06 2.06-.94-2.06-.94-.94-2.06-.94 2.06-2.06.94zm-11 1L8.5 8.5l.94-2.06 2.06-.94-2.06-.94L8.5 2.5l-.94 2.06-2.06.94zm10 10l.94 2.06.94-2.06 2.06-.94-2.06-.94-.94-2.06-.94 2.06-2.06.94z\"/><path d=\"M17.41 7.96l-1.37-1.37c-.4-.4-.92-.59-1.43-.59-.52 0-1.04.2-1.43.59L10.3 9.45l-7.72 7.72c-.78.78-.78 2.05 0 2.83L4 21.41c.39.39.9.59 1.41.59.51 0 1.02-.2 1.41-.59l7.78-7.78 2.81-2.81c.8-.78.8-2.07 0-2.86zM5.41 20L4 18.59l7.72-7.72 1.47 1.35L5.41 20z\"/>\n",
              "  </svg>\n",
              "      </button>\n",
              "      \n",
              "  <style>\n",
              "    .colab-df-container {\n",
              "      display:flex;\n",
              "      flex-wrap:wrap;\n",
              "      gap: 12px;\n",
              "    }\n",
              "\n",
              "    .colab-df-convert {\n",
              "      background-color: #E8F0FE;\n",
              "      border: none;\n",
              "      border-radius: 50%;\n",
              "      cursor: pointer;\n",
              "      display: none;\n",
              "      fill: #1967D2;\n",
              "      height: 32px;\n",
              "      padding: 0 0 0 0;\n",
              "      width: 32px;\n",
              "    }\n",
              "\n",
              "    .colab-df-convert:hover {\n",
              "      background-color: #E2EBFA;\n",
              "      box-shadow: 0px 1px 2px rgba(60, 64, 67, 0.3), 0px 1px 3px 1px rgba(60, 64, 67, 0.15);\n",
              "      fill: #174EA6;\n",
              "    }\n",
              "\n",
              "    [theme=dark] .colab-df-convert {\n",
              "      background-color: #3B4455;\n",
              "      fill: #D2E3FC;\n",
              "    }\n",
              "\n",
              "    [theme=dark] .colab-df-convert:hover {\n",
              "      background-color: #434B5C;\n",
              "      box-shadow: 0px 1px 3px 1px rgba(0, 0, 0, 0.15);\n",
              "      filter: drop-shadow(0px 1px 2px rgba(0, 0, 0, 0.3));\n",
              "      fill: #FFFFFF;\n",
              "    }\n",
              "  </style>\n",
              "\n",
              "      <script>\n",
              "        const buttonEl =\n",
              "          document.querySelector('#df-58d2a855-8b58-4d37-8d49-3595751c828f button.colab-df-convert');\n",
              "        buttonEl.style.display =\n",
              "          google.colab.kernel.accessAllowed ? 'block' : 'none';\n",
              "\n",
              "        async function convertToInteractive(key) {\n",
              "          const element = document.querySelector('#df-58d2a855-8b58-4d37-8d49-3595751c828f');\n",
              "          const dataTable =\n",
              "            await google.colab.kernel.invokeFunction('convertToInteractive',\n",
              "                                                     [key], {});\n",
              "          if (!dataTable) return;\n",
              "\n",
              "          const docLinkHtml = 'Like what you see? Visit the ' +\n",
              "            '<a target=\"_blank\" href=https://colab.research.google.com/notebooks/data_table.ipynb>data table notebook</a>'\n",
              "            + ' to learn more about interactive tables.';\n",
              "          element.innerHTML = '';\n",
              "          dataTable['output_type'] = 'display_data';\n",
              "          await google.colab.output.renderOutput(dataTable, element);\n",
              "          const docLink = document.createElement('div');\n",
              "          docLink.innerHTML = docLinkHtml;\n",
              "          element.appendChild(docLink);\n",
              "        }\n",
              "      </script>\n",
              "    </div>\n",
              "  </div>\n",
              "  "
            ],
            "text/plain": [
              "           x-axis    y-axis    z-axis  number\n",
              "0        0.981135  0.094412  0.618246       0\n",
              "1       -0.005268 -0.552226  1.763181       0\n",
              "2       -0.491523 -0.885054  1.811389       0\n",
              "3       -1.116709 -0.999166  2.064480       0\n",
              "4       -1.005565 -0.999166  1.823441       0\n",
              "...           ...       ...       ...     ...\n",
              "1130123 -0.769383 -0.266945 -0.056664       9\n",
              "1130124 -0.797169 -0.247926 -0.104872       9\n",
              "1130125 -0.852741 -0.219398  0.015648       9\n",
              "1130126 -0.936100 -0.228907  0.039752       9\n",
              "1130127 -0.922207 -0.190870  0.063856       9\n",
              "\n",
              "[1130128 rows x 4 columns]"
            ]
          },
          "execution_count": 8,
          "metadata": {},
          "output_type": "execute_result"
        }
      ],
      "source": [
        "scaled_X=pd.DataFrame(data=X,columns=['x-axis','y-axis','z-axis'])\n",
        "scaled_X['number']=y.values\n",
        "\n",
        "scaled_X"
      ]
    },
    {
      "cell_type": "code",
      "execution_count": 9,
      "metadata": {
        "id": "5hJeFF_PHOXA"
      },
      "outputs": [],
      "source": [
        "fs=20\n",
        "frame_size=fs*10\n",
        "hop_size=fs*2"
      ]
    },
    {
      "cell_type": "code",
      "execution_count": 10,
      "metadata": {
        "id": "kUz816CzHP5u"
      },
      "outputs": [],
      "source": [
        "def get_frames(df,frame_size,hop_size):\n",
        "    N_FEATURES=3\n",
        "    \n",
        "    frames=[]\n",
        "    lables=[]\n",
        "    for i in range(0,len(df)-frame_size,hop_size):\n",
        "        x=df['x-axis'].values[i: i+frame_size]\n",
        "        y=df['y-axis'].values[i: i+frame_size]\n",
        "        z=df['z-axis'].values[i: i+frame_size]   \n",
        "        \n",
        "        lable = stats.mode(df['number'][i: i+frame_size])[0][0]\n",
        "        frames.append([x,y,z])\n",
        "        lables.append(lable)\n",
        "    frames=np.asarray(frames).reshape(-1,frame_size,N_FEATURES)\n",
        "    lables=np.asarray(lables)\n",
        "    \n",
        "    return frames ,lables"
      ]
    },
    {
      "cell_type": "code",
      "execution_count": 11,
      "metadata": {
        "colab": {
          "base_uri": "https://localhost:8080/"
        },
        "id": "1IkIw1SSHSAE",
        "outputId": "8d2d8a90-2e37-4edb-925e-87446b9fba58"
      },
      "outputs": [
        {
          "name": "stderr",
          "output_type": "stream",
          "text": [
            "<ipython-input-10-bba5c3e1c102>:11: FutureWarning: Unlike other reduction functions (e.g. `skew`, `kurtosis`), the default behavior of `mode` typically preserves the axis it acts along. In SciPy 1.11.0, this behavior will change: the default value of `keepdims` will become False, the `axis` over which the statistic is taken will be eliminated, and the value None will no longer be accepted. Set `keepdims` to True or False to avoid this warning.\n",
            "  lable = stats.mode(df['number'][i: i+frame_size])[0][0]\n"
          ]
        }
      ],
      "source": [
        "X_x,Y_y=get_frames(df,frame_size,hop_size)"
      ]
    },
    {
      "cell_type": "code",
      "execution_count": 12,
      "metadata": {
        "colab": {
          "base_uri": "https://localhost:8080/"
        },
        "id": "sXOIospBHUPB",
        "outputId": "34c44fe7-ba6f-497b-ceb4-87ace54678aa"
      },
      "outputs": [
        {
          "data": {
            "text/plain": [
              "((28249, 200, 3), (28249,))"
            ]
          },
          "execution_count": 12,
          "metadata": {},
          "output_type": "execute_result"
        }
      ],
      "source": [
        "X_x.shape , Y_y.shape"
      ]
    },
    {
      "cell_type": "code",
      "execution_count": 13,
      "metadata": {
        "id": "4kKBc14KHWdO"
      },
      "outputs": [],
      "source": [
        "X_train , X_test, y_train, y_test = train_test_split(X_x,Y_y,test_size=0.2,random_state=0,stratify=Y_y)"
      ]
    },
    {
      "cell_type": "code",
      "execution_count": 14,
      "metadata": {
        "colab": {
          "base_uri": "https://localhost:8080/"
        },
        "id": "ClgkzpjKHYwo",
        "outputId": "1f82f6f8-a7d4-4a36-e1a2-540e8f78f66f"
      },
      "outputs": [
        {
          "data": {
            "text/plain": [
              "((5650, 200, 3), (22599, 200, 3), (5650,), (22599,))"
            ]
          },
          "execution_count": 14,
          "metadata": {},
          "output_type": "execute_result"
        }
      ],
      "source": [
        "X_test.shape,X_train.shape,y_test.shape,y_train.shape"
      ]
    },
    {
      "cell_type": "code",
      "execution_count": 15,
      "metadata": {
        "id": "i3PUzQzOHapd"
      },
      "outputs": [],
      "source": [
        "X_test= X_test.reshape(5650, 200, 3, 1)\n",
        "X_train=X_train.reshape(22599, 200, 3, 1)"
      ]
    },
    {
      "cell_type": "code",
      "execution_count": 16,
      "metadata": {
        "colab": {
          "base_uri": "https://localhost:8080/"
        },
        "id": "OlyUek7IyUhA",
        "outputId": "5975cd88-c843-4f34-efe7-2b24c9eb6caa"
      },
      "outputs": [
        {
          "data": {
            "text/plain": [
              "(200, 3, 1)"
            ]
          },
          "execution_count": 16,
          "metadata": {},
          "output_type": "execute_result"
        }
      ],
      "source": [
        "X_train[0].shape"
      ]
    },
    {
      "cell_type": "markdown",
      "metadata": {
        "id": "VNstw48tHhfB"
      },
      "source": [
        "### 2D CNN Model"
      ]
    },
    {
      "cell_type": "code",
      "execution_count": 17,
      "metadata": {
        "id": "aW1H5obTHio0"
      },
      "outputs": [],
      "source": [
        "model=Sequential()\n",
        "model.add(InputLayer(input_shape= X_train[0].shape))\n",
        "model.add(Conv2D(filters=32, kernel_size=(2, 2), strides=(1, 1), padding='same', activation='relu'))\n",
        "model.add(Conv2D(filters=32, kernel_size=(2, 2), strides=(1, 1), padding='same', activation='relu'))\n",
        "model.add(MaxPooling2D(pool_size=(2, 2), strides=(2, 2),padding='same'))\n",
        "model.add(Dropout(0.1))\n",
        "\n",
        "model.add(Conv2D(filters=64, kernel_size=(2, 2), strides=(1, 1), padding='same', activation='relu'))\n",
        "model.add(Conv2D(filters=64, kernel_size=(2, 2), strides=(1, 1), padding='same', activation='relu'))\n",
        "model.add(MaxPooling2D(pool_size=(2, 2), strides=(2, 2),padding='same'))\n",
        "model.add(Dropout(0.2))\n",
        "\n",
        "model.add(Conv2D(filters=128, kernel_size=(2, 2), strides=(1, 1), padding='same', activation='relu'))\n",
        "model.add(Conv2D(filters=128, kernel_size=(2, 2), strides=(1, 1), padding='same', activation='relu'))\n",
        "model.add(MaxPooling2D(pool_size=(2, 2), strides=(2, 2),padding='same'))\n",
        "model.add(Dropout(0.2))\n",
        "\n",
        "model.add(Flatten())\n",
        "model.add(Dense(units=512, activation='relu'))\n",
        "model.add(Dropout(0.5))\n",
        "\n",
        "model.add(Dense(units=10, activation='softmax'))"
      ]
    },
    {
      "cell_type": "code",
      "execution_count": 18,
      "metadata": {
        "id": "WTyo44WiJzki"
      },
      "outputs": [],
      "source": [
        "early_stopping = EarlyStopping(monitor='val_accuracy', \n",
        "    patience=8, \n",
        "    min_delta=0.001, \n",
        "    mode='max')"
      ]
    },
    {
      "cell_type": "code",
      "execution_count": 19,
      "metadata": {
        "id": "iVI6JY90NJCd"
      },
      "outputs": [],
      "source": [
        "model.compile(optimizer=Adam(learning_rate = 0.0005), loss = 'sparse_categorical_crossentropy', metrics = ['accuracy'], run_eagerly=True)"
      ]
    },
    {
      "cell_type": "code",
      "execution_count": 21,
      "metadata": {
        "colab": {
          "base_uri": "https://localhost:8080/"
        },
        "id": "BZlb-UCbNNTG",
        "outputId": "982b4486-3318-40ad-8956-6ff00791fb00"
      },
      "outputs": [
        {
          "name": "stdout",
          "output_type": "stream",
          "text": [
            "Epoch 1/12\n",
            "22599/22599 [==============================] - 1779s 79ms/step - loss: 0.1238 - accuracy: 0.9612 - val_loss: 0.0798 - val_accuracy: 0.9722\n",
            "Epoch 2/12\n",
            "22599/22599 [==============================] - 1797s 80ms/step - loss: 0.1169 - accuracy: 0.9641 - val_loss: 0.0305 - val_accuracy: 0.9910\n",
            "Epoch 3/12\n",
            "22599/22599 [==============================] - 1803s 80ms/step - loss: 0.1096 - accuracy: 0.9674 - val_loss: 0.0272 - val_accuracy: 0.9910\n",
            "Epoch 4/12\n",
            "22599/22599 [==============================] - 1821s 81ms/step - loss: 0.1047 - accuracy: 0.9702 - val_loss: 0.0221 - val_accuracy: 0.9933\n",
            "Epoch 5/12\n",
            "22599/22599 [==============================] - 1861s 82ms/step - loss: 0.1017 - accuracy: 0.9719 - val_loss: 0.0267 - val_accuracy: 0.9922\n",
            "Epoch 6/12\n",
            "22599/22599 [==============================] - 1807s 80ms/step - loss: 0.1045 - accuracy: 0.9710 - val_loss: 0.0357 - val_accuracy: 0.9881\n",
            "Epoch 7/12\n",
            "22599/22599 [==============================] - 1844s 82ms/step - loss: 0.1030 - accuracy: 0.9708 - val_loss: 0.0242 - val_accuracy: 0.9935\n",
            "Epoch 8/12\n",
            "22599/22599 [==============================] - 1851s 82ms/step - loss: 0.1010 - accuracy: 0.9742 - val_loss: 0.0155 - val_accuracy: 0.9952\n",
            "Epoch 9/12\n",
            "22599/22599 [==============================] - 1846s 82ms/step - loss: 0.1067 - accuracy: 0.9735 - val_loss: 0.0233 - val_accuracy: 0.9938\n",
            "Epoch 10/12\n",
            "22599/22599 [==============================] - 1851s 82ms/step - loss: 0.1115 - accuracy: 0.9712 - val_loss: 0.0230 - val_accuracy: 0.9938\n",
            "Epoch 11/12\n",
            "22599/22599 [==============================] - 1856s 82ms/step - loss: 0.1113 - accuracy: 0.9732 - val_loss: 0.0263 - val_accuracy: 0.9940\n",
            "Epoch 12/12\n",
            "22599/22599 [==============================] - 1861s 82ms/step - loss: 0.1068 - accuracy: 0.9722 - val_loss: 0.0212 - val_accuracy: 0.9940\n"
          ]
        }
      ],
      "source": [
        "history = model.fit(X_train, y_train, epochs = 12, batch_size=1, validation_data= (X_test, y_test),verbose=1,callbacks=[early_stopping])"
      ]
    },
    {
      "cell_type": "code",
      "execution_count": 27,
      "metadata": {
        "colab": {
          "base_uri": "https://localhost:8080/",
          "height": 927
        },
        "id": "9SwFh7MzNRoM",
        "outputId": "aaf701d7-08a9-40cb-9c64-a42041dedc8e"
      },
      "outputs": [
        {
          "data": {
            "image/png": "[encoded data removed]",
            "text/plain": [
              "<Figure size 640x480 with 1 Axes>"
            ]
          },
          "metadata": {},
          "output_type": "display_data"
        },
        {
          "data": {
            "image/png": "[encoded data removed]",
            "text/plain": [
              "<Figure size 640x480 with 1 Axes>"
            ]
          },
          "metadata": {},
          "output_type": "display_data"
        }
      ],
      "source": [
        "plt.plot(history.history['accuracy'])\n",
        "plt.plot(history.history['val_accuracy'])\n",
        "plt.title('model accuracy')\n",
        "plt.ylabel('accuracy')\n",
        "plt.xlabel('epoch')\n",
        "plt.legend(['train', 'val'], loc='upper left')\n",
        "plt.show()"
      ]
    },
    {
      "cell_type": "code",
      "execution_count": 28,
      "metadata": {
        "colab": {
          "base_uri": "https://localhost:8080/",
          "height": 472
        },
        "id": "HLL62XeyNTw7",
        "outputId": "0fe6b925-40d6-46a3-9d66-d30620eac9e8"
      },
      "outputs": [
        {
          "data": {
            "image/png": "[encoded data removed]",
            "text/plain": [
              "<Figure size 640x480 with 1 Axes>"
            ]
          },
          "metadata": {},
          "output_type": "display_data"
        }
      ],
      "source": [
        "plt.plot(history.history['loss'])\n",
        "plt.plot(history.history['val_loss'])\n",
        "plt.title('model loss')\n",
        "plt.ylabel('loss')\n",
        "plt.xlabel('epoch')\n",
        "plt.legend(['train', 'val'], loc='upper left')\n",
        "plt.show()"
      ]
    },
    {
      "cell_type": "code",
      "execution_count": 29,
      "metadata": {
        "colab": {
          "base_uri": "https://localhost:8080/"
        },
        "id": "SeT_gxhsNVYD",
        "outputId": "3b16a304-1ee3-4912-ca82-37dfd3637163"
      },
      "outputs": [
        {
          "name": "stdout",
          "output_type": "stream",
          "text": [
            "1/1 [==============================] - 0s 78ms/step\n",
            "[[2.1051646e-20 3.4343931e-24 4.2387140e-22 7.4350495e-25 1.0000000e+00\n",
            "  1.2101327e-17 2.7666209e-17 3.8884520e-19 1.1881078e-25 1.9693986e-12]]\n",
            "(array([0]), array([4]))\n"
          ]
        }
      ],
      "source": [
        "p=model.predict(X_test[:1])\n",
        "a=max((p.max(axis=0)))\n",
        "print(p)\n",
        "s=np.where(p==a)#index of the max \n",
        "#print(X_test[:1])\n",
        "print(s)"
      ]
    },
    {
      "cell_type": "code",
      "execution_count": 30,
      "metadata": {
        "colab": {
          "base_uri": "https://localhost:8080/"
        },
        "id": "PhRxy6UQNW8U",
        "outputId": "c3dabdde-959a-4e8c-f488-9b394fe2518d"
      },
      "outputs": [
        {
          "name": "stdout",
          "output_type": "stream",
          "text": [
            "Model: \"sequential\"\n",
            "_________________________________________________________________\n",
            " Layer (type)                Output Shape              Param #   \n",
            "=================================================================\n",
            " conv2d (Conv2D)             (None, 200, 3, 32)        160       \n",
            "                                                                 \n",
            " conv2d_1 (Conv2D)           (None, 200, 3, 32)        4128      \n",
            "                                                                 \n",
            " max_pooling2d (MaxPooling2D  (None, 100, 2, 32)       0         \n",
            " )                                                               \n",
            "                                                                 \n",
            " dropout (Dropout)           (None, 100, 2, 32)        0         \n",
            "                                                                 \n",
            " conv2d_2 (Conv2D)           (None, 100, 2, 64)        8256      \n",
            "                                                                 \n",
            " conv2d_3 (Conv2D)           (None, 100, 2, 64)        16448     \n",
            "                                                                 \n",
            " max_pooling2d_1 (MaxPooling  (None, 50, 1, 64)        0         \n",
            " 2D)                                                             \n",
            "                                                                 \n",
            " dropout_1 (Dropout)         (None, 50, 1, 64)         0         \n",
            "                                                                 \n",
            " conv2d_4 (Conv2D)           (None, 50, 1, 128)        32896     \n",
            "                                                                 \n",
            " conv2d_5 (Conv2D)           (None, 50, 1, 128)        65664     \n",
            "                                                                 \n",
            " max_pooling2d_2 (MaxPooling  (None, 25, 1, 128)       0         \n",
            " 2D)                                                             \n",
            "                                                                 \n",
            " dropout_2 (Dropout)         (None, 25, 1, 128)        0         \n",
            "                                                                 \n",
            " flatten (Flatten)           (None, 3200)              0         \n",
            "                                                                 \n",
            " dense (Dense)               (None, 512)               1638912   \n",
            "                                                                 \n",
            " dropout_3 (Dropout)         (None, 512)               0         \n",
            "                                                                 \n",
            " dense_1 (Dense)             (None, 10)                5130      \n",
            "                                                                 \n",
            "=================================================================\n",
            "Total params: 1,771,594\n",
            "Trainable params: 1,771,594\n",
            "Non-trainable params: 0\n",
            "_________________________________________________________________\n"
          ]
        }
      ],
      "source": [
        "model.summary()"
      ]
    },
    {
      "cell_type": "code",
      "execution_count": 31,
      "metadata": {
        "id": "DTo89ck_Naoi"
      },
      "outputs": [],
      "source": [
        "model.save('/content/drive/MyDrive/air/tuned.h5',save_format='h5')\n",
        "# !ls /content/drive/MyDrive/air/"
      ]
    }
  ],
  "metadata": {
    "colab": {
      "provenance": []
    },
    "kernelspec": {
      "display_name": "Python 3",
      "language": "python",
      "name": "python3"
    },
    "language_info": {
      "name": "python",
      "version": "3.11.1 (main, Dec 23 2022, 09:25:23) [Clang 14.0.0 (clang-1400.0.29.202)]"
    },
    "vscode": {
      "interpreter": {
        "hash": "5c7b89af1651d0b8571dde13640ecdccf7d5a6204171d6ab33e7c296e100e08a"
      }
    }
  },
  "nbformat": 4,
  "nbformat_minor": 0
}
